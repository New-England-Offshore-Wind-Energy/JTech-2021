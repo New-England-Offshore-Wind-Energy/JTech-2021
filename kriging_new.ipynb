{
 "cells": [
  {
   "cell_type": "code",
   "execution_count": 1,
   "metadata": {},
   "outputs": [],
   "source": [
    "from pathlib import Path\n",
    "import numpy as np\n",
    "from datetime import datetime\n",
    "import xarray as xr\n",
    "\n",
    "import cartopy.crs as ccrs\n",
    "import cartopy.feature as cfeature\n",
    "import matplotlib as mpl\n",
    "import matplotlib\n",
    "import matplotlib.pyplot as plt\n",
    "import matplotlib.ticker as mticker\n",
    "import matplotlib.patches as mpatch\n",
    "from matplotlib.transforms import offset_copy\n",
    "import matplotlib.colors as colors\n",
    "from cartopy.io import shapereader\n",
    "from cartopy.mpl.gridliner import LONGITUDE_FORMATTER, LATITUDE_FORMATTER\n",
    "import matplotlib.patches as mpatches\n",
    "import pandas as pd\n",
    "import glob\n",
    "\n",
    "import gdal\n",
    "import cmocean\n",
    "import cmaps\n",
    "import regionmask\n",
    "\n",
    "from shapely.geometry.polygon import LinearRing\n",
    "\n",
    "from shapely.ops import cascaded_union\n",
    "\n",
    "from matplotlib.dates import DateFormatter, date2num\n",
    "\n",
    "import os\n",
    "\n",
    "#from skgstat import Variogram, OrdinaryKriging\n",
    "from scipy.stats import describe, skew\n",
    "\n",
    "import seaborn as sns\n",
    "#from matplotlib import style\n",
    "#style.use('fivethirtyeight')\n",
    "import pykrige.kriging_tools as kt\n",
    "from pykrige.ok import OrdinaryKriging\n",
    "from pykrige.uk import UniversalKriging\n",
    "from pykrige.rk import Krige\n",
    "from sklearn.model_selection import GridSearchCV\n",
    "#import pykrige.rk as prk\n",
    "#import pykrige\n",
    "from scipy import stats\n",
    "from scipy.special import boxcox, inv_boxcox\n",
    "from itertools import count\n",
    "from math import sqrt\n",
    "\n",
    "os.environ['SKG_SUPPRESS'] = \"true\""
   ]
  },
  {
   "cell_type": "code",
   "execution_count": 13,
   "metadata": {},
   "outputs": [
    {
     "data": {
      "text/html": [
       "<div>\n",
       "<style scoped>\n",
       "    .dataframe tbody tr th:only-of-type {\n",
       "        vertical-align: middle;\n",
       "    }\n",
       "\n",
       "    .dataframe tbody tr th {\n",
       "        vertical-align: top;\n",
       "    }\n",
       "\n",
       "    .dataframe thead th {\n",
       "        text-align: right;\n",
       "    }\n",
       "</style>\n",
       "<table border=\"1\" class=\"dataframe\">\n",
       "  <thead>\n",
       "    <tr style=\"text-align: right;\">\n",
       "      <th></th>\n",
       "      <th>time</th>\n",
       "      <th>lon</th>\n",
       "      <th>lat</th>\n",
       "      <th>swh</th>\n",
       "      <th>wind_speed</th>\n",
       "    </tr>\n",
       "  </thead>\n",
       "  <tbody>\n",
       "    <tr>\n",
       "      <th>0</th>\n",
       "      <td>2013-03-14 23:29:26.243709056</td>\n",
       "      <td>-73.720450</td>\n",
       "      <td>40.555765</td>\n",
       "      <td>0.872</td>\n",
       "      <td>11.400000</td>\n",
       "    </tr>\n",
       "    <tr>\n",
       "      <th>1</th>\n",
       "      <td>2013-03-14 23:29:27.280702144</td>\n",
       "      <td>-73.740594</td>\n",
       "      <td>40.494946</td>\n",
       "      <td>1.092</td>\n",
       "      <td>12.929999</td>\n",
       "    </tr>\n",
       "    <tr>\n",
       "      <th>2</th>\n",
       "      <td>2013-03-14 23:29:28.317692032</td>\n",
       "      <td>-73.760710</td>\n",
       "      <td>40.434124</td>\n",
       "      <td>0.992</td>\n",
       "      <td>12.349999</td>\n",
       "    </tr>\n",
       "    <tr>\n",
       "      <th>3</th>\n",
       "      <td>2013-03-14 23:29:29.354686016</td>\n",
       "      <td>-73.780798</td>\n",
       "      <td>40.373300</td>\n",
       "      <td>1.121</td>\n",
       "      <td>12.130000</td>\n",
       "    </tr>\n",
       "    <tr>\n",
       "      <th>4</th>\n",
       "      <td>2013-03-14 23:29:30.391675008</td>\n",
       "      <td>-73.800857</td>\n",
       "      <td>40.312472</td>\n",
       "      <td>1.091</td>\n",
       "      <td>12.200000</td>\n",
       "    </tr>\n",
       "    <tr>\n",
       "      <th>...</th>\n",
       "      <td>...</td>\n",
       "      <td>...</td>\n",
       "      <td>...</td>\n",
       "      <td>...</td>\n",
       "      <td>...</td>\n",
       "    </tr>\n",
       "    <tr>\n",
       "      <th>21149</th>\n",
       "      <td>2020-09-20 10:04:24.930437120</td>\n",
       "      <td>289.735866</td>\n",
       "      <td>42.737402</td>\n",
       "      <td>1.764</td>\n",
       "      <td>10.650000</td>\n",
       "    </tr>\n",
       "    <tr>\n",
       "      <th>21150</th>\n",
       "      <td>2020-09-20 10:04:25.969015168</td>\n",
       "      <td>289.714517</td>\n",
       "      <td>42.798189</td>\n",
       "      <td>1.642</td>\n",
       "      <td>10.790000</td>\n",
       "    </tr>\n",
       "    <tr>\n",
       "      <th>21151</th>\n",
       "      <td>2020-09-20 10:04:27.007589760</td>\n",
       "      <td>289.693135</td>\n",
       "      <td>42.858972</td>\n",
       "      <td>1.696</td>\n",
       "      <td>11.020000</td>\n",
       "    </tr>\n",
       "    <tr>\n",
       "      <th>21152</th>\n",
       "      <td>2020-09-20 10:04:28.046165888</td>\n",
       "      <td>289.671720</td>\n",
       "      <td>42.919752</td>\n",
       "      <td>1.730</td>\n",
       "      <td>11.160000</td>\n",
       "    </tr>\n",
       "    <tr>\n",
       "      <th>21153</th>\n",
       "      <td>2020-09-20 10:04:29.084740224</td>\n",
       "      <td>289.650271</td>\n",
       "      <td>42.980528</td>\n",
       "      <td>1.602</td>\n",
       "      <td>10.730000</td>\n",
       "    </tr>\n",
       "  </tbody>\n",
       "</table>\n",
       "<p>59795 rows × 5 columns</p>\n",
       "</div>"
      ],
      "text/plain": [
       "                                time         lon        lat    swh  wind_speed\n",
       "0      2013-03-14 23:29:26.243709056  -73.720450  40.555765  0.872   11.400000\n",
       "1      2013-03-14 23:29:27.280702144  -73.740594  40.494946  1.092   12.929999\n",
       "2      2013-03-14 23:29:28.317692032  -73.760710  40.434124  0.992   12.349999\n",
       "3      2013-03-14 23:29:29.354686016  -73.780798  40.373300  1.121   12.130000\n",
       "4      2013-03-14 23:29:30.391675008  -73.800857  40.312472  1.091   12.200000\n",
       "...                              ...         ...        ...    ...         ...\n",
       "21149  2020-09-20 10:04:24.930437120  289.735866  42.737402  1.764   10.650000\n",
       "21150  2020-09-20 10:04:25.969015168  289.714517  42.798189  1.642   10.790000\n",
       "21151  2020-09-20 10:04:27.007589760  289.693135  42.858972  1.696   11.020000\n",
       "21152  2020-09-20 10:04:28.046165888  289.671720  42.919752  1.730   11.160000\n",
       "21153  2020-09-20 10:04:29.084740224  289.650271  42.980528  1.602   10.730000\n",
       "\n",
       "[59795 rows x 5 columns]"
      ]
     },
     "execution_count": 13,
     "metadata": {},
     "output_type": "execute_result"
    }
   ],
   "source": [
    "altika1 = pd.read_csv('C:/Users/panmits86/Desktop/Python/data/valid_altimeter_data/altika_phase1_qc.txt',  sep='\\t')\n",
    "altika2 = pd.read_csv('C:/Users/panmits86/Desktop/Python/data/valid_altimeter_data/altika_phase2_qc_gdrt.txt',  sep='\\t')\n",
    "altika3 = pd.read_csv('C:/Users/panmits86/Desktop/Python/data/valid_altimeter_data/altika_phase2_qc_gdrf_full.txt',  sep='\\t')\n",
    "\"\"\"\n",
    "altika1 = altika1.set_index('time')\n",
    "cols = altika1.columns.tolist()\n",
    "cols = cols[-1:] + cols[:-1]\n",
    "altika1 = altika1[cols]\n",
    "\n",
    "altika2 = altika2.set_index('time')\n",
    "cols = altika2.columns.tolist()\n",
    "cols = cols[-1:] + cols[:-1]\n",
    "altika2 = altika2[cols]\n",
    "\"\"\"\n",
    "altika = pd.concat([altika1,altika2,altika3],axis=0)\n",
    "#altika['lon'] = altika['lon']+360\n",
    "#altika = altika.reset_index()\n",
    "#altika['time'] = pd.to_datetime(altika['time'])\n",
    "#altika = altika.reset_index()\n",
    "#altika = altika.sort_values(by=\"time\")\n",
    "\n",
    "altika"
   ]
  },
  {
   "cell_type": "code",
   "execution_count": 5,
   "metadata": {},
   "outputs": [
    {
     "data": {
      "text/html": [
       "<div>\n",
       "<style scoped>\n",
       "    .dataframe tbody tr th:only-of-type {\n",
       "        vertical-align: middle;\n",
       "    }\n",
       "\n",
       "    .dataframe tbody tr th {\n",
       "        vertical-align: top;\n",
       "    }\n",
       "\n",
       "    .dataframe thead th {\n",
       "        text-align: right;\n",
       "    }\n",
       "</style>\n",
       "<table border=\"1\" class=\"dataframe\">\n",
       "  <thead>\n",
       "    <tr style=\"text-align: right;\">\n",
       "      <th></th>\n",
       "      <th>time</th>\n",
       "      <th>lon</th>\n",
       "      <th>lat</th>\n",
       "      <th>swh</th>\n",
       "      <th>wind_speed</th>\n",
       "    </tr>\n",
       "  </thead>\n",
       "  <tbody>\n",
       "    <tr>\n",
       "      <th>0</th>\n",
       "      <td>2016-02-19 08:37:16.762022016</td>\n",
       "      <td>-73.206830</td>\n",
       "      <td>40.522913</td>\n",
       "      <td>1.055</td>\n",
       "      <td>5.030000</td>\n",
       "    </tr>\n",
       "    <tr>\n",
       "      <th>1</th>\n",
       "      <td>2016-02-19 08:37:17.780731904</td>\n",
       "      <td>-73.173090</td>\n",
       "      <td>40.476871</td>\n",
       "      <td>1.087</td>\n",
       "      <td>7.320000</td>\n",
       "    </tr>\n",
       "    <tr>\n",
       "      <th>2</th>\n",
       "      <td>2016-02-19 08:37:19.818150976</td>\n",
       "      <td>-73.105765</td>\n",
       "      <td>40.384747</td>\n",
       "      <td>1.197</td>\n",
       "      <td>7.120000</td>\n",
       "    </tr>\n",
       "    <tr>\n",
       "      <th>3</th>\n",
       "      <td>2016-02-19 08:37:20.836863040</td>\n",
       "      <td>-73.072179</td>\n",
       "      <td>40.338666</td>\n",
       "      <td>1.431</td>\n",
       "      <td>7.360000</td>\n",
       "    </tr>\n",
       "    <tr>\n",
       "      <th>4</th>\n",
       "      <td>2016-02-19 08:37:21.855571008</td>\n",
       "      <td>-73.038646</td>\n",
       "      <td>40.292573</td>\n",
       "      <td>1.348</td>\n",
       "      <td>7.680000</td>\n",
       "    </tr>\n",
       "    <tr>\n",
       "      <th>...</th>\n",
       "      <td>...</td>\n",
       "      <td>...</td>\n",
       "      <td>...</td>\n",
       "      <td>...</td>\n",
       "      <td>...</td>\n",
       "    </tr>\n",
       "    <tr>\n",
       "      <th>21867</th>\n",
       "      <td>2020-09-18 17:48:09.976041856</td>\n",
       "      <td>290.396192</td>\n",
       "      <td>42.791365</td>\n",
       "      <td>2.204</td>\n",
       "      <td>10.050000</td>\n",
       "    </tr>\n",
       "    <tr>\n",
       "      <th>21868</th>\n",
       "      <td>2020-09-18 17:48:10.994752896</td>\n",
       "      <td>290.432751</td>\n",
       "      <td>42.836704</td>\n",
       "      <td>2.098</td>\n",
       "      <td>9.870000</td>\n",
       "    </tr>\n",
       "    <tr>\n",
       "      <th>21869</th>\n",
       "      <td>2020-09-18 17:48:12.013462016</td>\n",
       "      <td>290.469369</td>\n",
       "      <td>42.882028</td>\n",
       "      <td>2.067</td>\n",
       "      <td>10.540000</td>\n",
       "    </tr>\n",
       "    <tr>\n",
       "      <th>21870</th>\n",
       "      <td>2020-09-18 17:48:13.032170752</td>\n",
       "      <td>290.506048</td>\n",
       "      <td>42.927337</td>\n",
       "      <td>2.199</td>\n",
       "      <td>9.679999</td>\n",
       "    </tr>\n",
       "    <tr>\n",
       "      <th>21871</th>\n",
       "      <td>2020-09-18 17:48:14.050881920</td>\n",
       "      <td>290.542786</td>\n",
       "      <td>42.972631</td>\n",
       "      <td>2.048</td>\n",
       "      <td>9.500000</td>\n",
       "    </tr>\n",
       "  </tbody>\n",
       "</table>\n",
       "<p>25000 rows × 5 columns</p>\n",
       "</div>"
      ],
      "text/plain": [
       "                                time         lon        lat    swh  wind_speed\n",
       "0      2016-02-19 08:37:16.762022016  -73.206830  40.522913  1.055    5.030000\n",
       "1      2016-02-19 08:37:17.780731904  -73.173090  40.476871  1.087    7.320000\n",
       "2      2016-02-19 08:37:19.818150976  -73.105765  40.384747  1.197    7.120000\n",
       "3      2016-02-19 08:37:20.836863040  -73.072179  40.338666  1.431    7.360000\n",
       "4      2016-02-19 08:37:21.855571008  -73.038646  40.292573  1.348    7.680000\n",
       "...                              ...         ...        ...    ...         ...\n",
       "21867  2020-09-18 17:48:09.976041856  290.396192  42.791365  2.204   10.050000\n",
       "21868  2020-09-18 17:48:10.994752896  290.432751  42.836704  2.098    9.870000\n",
       "21869  2020-09-18 17:48:12.013462016  290.469369  42.882028  2.067   10.540000\n",
       "21870  2020-09-18 17:48:13.032170752  290.506048  42.927337  2.199    9.679999\n",
       "21871  2020-09-18 17:48:14.050881920  290.542786  42.972631  2.048    9.500000\n",
       "\n",
       "[25000 rows x 5 columns]"
      ]
     },
     "execution_count": 5,
     "metadata": {},
     "output_type": "execute_result"
    }
   ],
   "source": [
    "jason31 = pd.read_csv('C:/Users/panmits86/Desktop/Python/data/valid_altimeter_data/jason3_gdrt_qc.txt',  sep='\\t')\n",
    "jason32 = pd.read_csv('C:/Users/panmits86/Desktop/Python\\data/valid_altimeter_data/jason3_gdrd_qc.txt',  sep='\\t')\n",
    "\"\"\"\n",
    "jason31 = jason31.set_index('time')\n",
    "cols = jason31.columns.tolist()\n",
    "cols = cols[-1:] + cols[:-1]\n",
    "jason31 = jason31[cols]\n",
    "\n",
    "jason32 = jason32.set_index('time')\n",
    "cols = jason32.columns.tolist()\n",
    "cols = cols[-1:] + cols[:-1]\n",
    "jason32 = jason32[cols]\n",
    "\"\"\"\n",
    "jason3 = pd.concat([jason31,jason32],axis=0)\n",
    "#jason3['lon'] = jason3['lon']+360\n",
    "#jason3 = jason3.reset_index()\n",
    "#jason3['time'] = pd.to_datetime(jason3['time'])\n",
    "\n",
    "jason3"
   ]
  },
  {
   "cell_type": "code",
   "execution_count": 15,
   "metadata": {},
   "outputs": [
    {
     "data": {
      "text/html": [
       "<div>\n",
       "<style scoped>\n",
       "    .dataframe tbody tr th:only-of-type {\n",
       "        vertical-align: middle;\n",
       "    }\n",
       "\n",
       "    .dataframe tbody tr th {\n",
       "        vertical-align: top;\n",
       "    }\n",
       "\n",
       "    .dataframe thead th {\n",
       "        text-align: right;\n",
       "    }\n",
       "</style>\n",
       "<table border=\"1\" class=\"dataframe\">\n",
       "  <thead>\n",
       "    <tr style=\"text-align: right;\">\n",
       "      <th></th>\n",
       "      <th>time</th>\n",
       "      <th>lon</th>\n",
       "      <th>lat</th>\n",
       "      <th>swh</th>\n",
       "      <th>wind_speed</th>\n",
       "    </tr>\n",
       "  </thead>\n",
       "  <tbody>\n",
       "    <tr>\n",
       "      <th>0</th>\n",
       "      <td>2016-03-02 15:10:57</td>\n",
       "      <td>-70.091580</td>\n",
       "      <td>41.521832</td>\n",
       "      <td>0.714</td>\n",
       "      <td>8.700000</td>\n",
       "    </tr>\n",
       "    <tr>\n",
       "      <th>1</th>\n",
       "      <td>2016-03-02 15:10:58</td>\n",
       "      <td>-70.111568</td>\n",
       "      <td>41.463484</td>\n",
       "      <td>0.924</td>\n",
       "      <td>9.240000</td>\n",
       "    </tr>\n",
       "    <tr>\n",
       "      <th>2</th>\n",
       "      <td>2016-03-02 15:10:59</td>\n",
       "      <td>-70.131527</td>\n",
       "      <td>41.405133</td>\n",
       "      <td>0.686</td>\n",
       "      <td>7.620000</td>\n",
       "    </tr>\n",
       "    <tr>\n",
       "      <th>3</th>\n",
       "      <td>2016-03-02 15:11:03</td>\n",
       "      <td>-70.211082</td>\n",
       "      <td>41.171700</td>\n",
       "      <td>2.096</td>\n",
       "      <td>9.059999</td>\n",
       "    </tr>\n",
       "    <tr>\n",
       "      <th>4</th>\n",
       "      <td>2016-03-02 15:11:04</td>\n",
       "      <td>-70.230901</td>\n",
       "      <td>41.113335</td>\n",
       "      <td>1.939</td>\n",
       "      <td>9.860000</td>\n",
       "    </tr>\n",
       "    <tr>\n",
       "      <th>...</th>\n",
       "      <td>...</td>\n",
       "      <td>...</td>\n",
       "      <td>...</td>\n",
       "      <td>...</td>\n",
       "      <td>...</td>\n",
       "    </tr>\n",
       "    <tr>\n",
       "      <th>6156</th>\n",
       "      <td>2020-11-09 02:07:10</td>\n",
       "      <td>290.204314</td>\n",
       "      <td>42.726843</td>\n",
       "      <td>0.740</td>\n",
       "      <td>3.160000</td>\n",
       "    </tr>\n",
       "    <tr>\n",
       "      <th>6157</th>\n",
       "      <td>2020-11-09 02:07:11</td>\n",
       "      <td>290.183665</td>\n",
       "      <td>42.785125</td>\n",
       "      <td>0.575</td>\n",
       "      <td>3.450000</td>\n",
       "    </tr>\n",
       "    <tr>\n",
       "      <th>6158</th>\n",
       "      <td>2020-11-09 02:07:12</td>\n",
       "      <td>290.162985</td>\n",
       "      <td>42.843403</td>\n",
       "      <td>0.692</td>\n",
       "      <td>3.620000</td>\n",
       "    </tr>\n",
       "    <tr>\n",
       "      <th>6159</th>\n",
       "      <td>2020-11-09 02:07:13</td>\n",
       "      <td>290.142274</td>\n",
       "      <td>42.901679</td>\n",
       "      <td>0.744</td>\n",
       "      <td>3.560000</td>\n",
       "    </tr>\n",
       "    <tr>\n",
       "      <th>6160</th>\n",
       "      <td>2020-11-09 02:07:14</td>\n",
       "      <td>290.121531</td>\n",
       "      <td>42.959951</td>\n",
       "      <td>0.799</td>\n",
       "      <td>3.600000</td>\n",
       "    </tr>\n",
       "  </tbody>\n",
       "</table>\n",
       "<p>25940 rows × 5 columns</p>\n",
       "</div>"
      ],
      "text/plain": [
       "                     time         lon        lat    swh  wind_speed\n",
       "0     2016-03-02 15:10:57  -70.091580  41.521832  0.714    8.700000\n",
       "1     2016-03-02 15:10:58  -70.111568  41.463484  0.924    9.240000\n",
       "2     2016-03-02 15:10:59  -70.131527  41.405133  0.686    7.620000\n",
       "3     2016-03-02 15:11:03  -70.211082  41.171700  2.096    9.059999\n",
       "4     2016-03-02 15:11:04  -70.230901  41.113335  1.939    9.860000\n",
       "...                   ...         ...        ...    ...         ...\n",
       "6156  2020-11-09 02:07:10  290.204314  42.726843  0.740    3.160000\n",
       "6157  2020-11-09 02:07:11  290.183665  42.785125  0.575    3.450000\n",
       "6158  2020-11-09 02:07:12  290.162985  42.843403  0.692    3.620000\n",
       "6159  2020-11-09 02:07:13  290.142274  42.901679  0.744    3.560000\n",
       "6160  2020-11-09 02:07:14  290.121531  42.959951  0.799    3.600000\n",
       "\n",
       "[25940 rows x 5 columns]"
      ]
     },
     "execution_count": 15,
     "metadata": {},
     "output_type": "execute_result"
    }
   ],
   "source": [
    "# sentinel3 a & b\n",
    "\n",
    "sentinel31 = pd.read_csv('C:/Users/panmits86/Desktop/Python/data/valid_altimeter_data/sentinel3a_qc.txt',  sep='\\t')\n",
    "sentinel32 = pd.read_csv('C:/Users/panmits86/Desktop/Python/data/valid_altimeter_data/sentinel3b_qc.txt',  sep='\\t')\n",
    "sentinel33 = pd.read_csv('C:/Users/panmits86/Desktop/Python/data/valid_altimeter_data/sentinel3_qc_new.txt',  sep='\\t')\n",
    "\n",
    "\"\"\"\n",
    "sentinel31 = sentinel31.set_index('time')\n",
    "cols = sentinel31.columns.tolist()\n",
    "cols = cols[-1:] + cols[:-1]\n",
    "sentinel31 = sentinel31[cols]\n",
    "\n",
    "sentinel32 = sentinel32.set_index('time')\n",
    "cols = sentinel32.columns.tolist()\n",
    "cols = cols[-1:] + cols[:-1]\n",
    "sentinel32 = sentinel32[cols]\n",
    "\"\"\"\n",
    "sentinel3 = pd.concat([sentinel31,sentinel32,sentinel33],axis=0)\n",
    "#sentinel3['lon'] = sentinel3['lon']+360\n",
    "#sentinel3 = sentinel3.reset_index()\n",
    "#sentinel3['time'] = pd.to_datetime(sentinel3['time'])\n",
    "\n",
    "sentinel3"
   ]
  },
  {
   "cell_type": "code",
   "execution_count": 8,
   "metadata": {},
   "outputs": [
    {
     "data": {
      "text/html": [
       "<div>\n",
       "<style scoped>\n",
       "    .dataframe tbody tr th:only-of-type {\n",
       "        vertical-align: middle;\n",
       "    }\n",
       "\n",
       "    .dataframe tbody tr th {\n",
       "        vertical-align: top;\n",
       "    }\n",
       "\n",
       "    .dataframe thead th {\n",
       "        text-align: right;\n",
       "    }\n",
       "</style>\n",
       "<table border=\"1\" class=\"dataframe\">\n",
       "  <thead>\n",
       "    <tr style=\"text-align: right;\">\n",
       "      <th></th>\n",
       "      <th>time</th>\n",
       "      <th>lon</th>\n",
       "      <th>lat</th>\n",
       "      <th>swh</th>\n",
       "      <th>wind_speed</th>\n",
       "    </tr>\n",
       "  </thead>\n",
       "  <tbody>\n",
       "    <tr>\n",
       "      <th>0</th>\n",
       "      <td>2010-07-16 05:45:54.846177984</td>\n",
       "      <td>-71.363090</td>\n",
       "      <td>39.028299</td>\n",
       "      <td>1.129</td>\n",
       "      <td>6.114000</td>\n",
       "    </tr>\n",
       "    <tr>\n",
       "      <th>1</th>\n",
       "      <td>2010-07-16 05:45:55.789616000</td>\n",
       "      <td>-71.370376</td>\n",
       "      <td>39.085443</td>\n",
       "      <td>1.071</td>\n",
       "      <td>5.590000</td>\n",
       "    </tr>\n",
       "    <tr>\n",
       "      <th>2</th>\n",
       "      <td>2010-07-16 05:45:56.733053056</td>\n",
       "      <td>-71.377668</td>\n",
       "      <td>39.142586</td>\n",
       "      <td>1.107</td>\n",
       "      <td>5.447000</td>\n",
       "    </tr>\n",
       "    <tr>\n",
       "      <th>3</th>\n",
       "      <td>2010-07-16 05:45:57.676489024</td>\n",
       "      <td>-71.384964</td>\n",
       "      <td>39.199728</td>\n",
       "      <td>0.890</td>\n",
       "      <td>5.217001</td>\n",
       "    </tr>\n",
       "    <tr>\n",
       "      <th>4</th>\n",
       "      <td>2010-07-16 05:45:58.619926976</td>\n",
       "      <td>-71.392266</td>\n",
       "      <td>39.256869</td>\n",
       "      <td>0.968</td>\n",
       "      <td>4.851000</td>\n",
       "    </tr>\n",
       "    <tr>\n",
       "      <th>...</th>\n",
       "      <td>...</td>\n",
       "      <td>...</td>\n",
       "      <td>...</td>\n",
       "      <td>...</td>\n",
       "      <td>...</td>\n",
       "    </tr>\n",
       "    <tr>\n",
       "      <th>119</th>\n",
       "      <td>2020-08-31 14:13:18.419316992</td>\n",
       "      <td>290.550802</td>\n",
       "      <td>42.767672</td>\n",
       "      <td>0.837</td>\n",
       "      <td>3.747000</td>\n",
       "    </tr>\n",
       "    <tr>\n",
       "      <th>120</th>\n",
       "      <td>2020-08-31 14:13:19.362754048</td>\n",
       "      <td>290.543126</td>\n",
       "      <td>42.824775</td>\n",
       "      <td>0.716</td>\n",
       "      <td>3.905000</td>\n",
       "    </tr>\n",
       "    <tr>\n",
       "      <th>121</th>\n",
       "      <td>2020-08-31 14:13:20.306190976</td>\n",
       "      <td>290.535442</td>\n",
       "      <td>42.881877</td>\n",
       "      <td>1.024</td>\n",
       "      <td>4.143000</td>\n",
       "    </tr>\n",
       "    <tr>\n",
       "      <th>122</th>\n",
       "      <td>2020-08-31 14:13:21.249628032</td>\n",
       "      <td>290.527752</td>\n",
       "      <td>42.938979</td>\n",
       "      <td>0.735</td>\n",
       "      <td>4.180000</td>\n",
       "    </tr>\n",
       "    <tr>\n",
       "      <th>123</th>\n",
       "      <td>2020-08-31 14:13:22.193065088</td>\n",
       "      <td>290.520055</td>\n",
       "      <td>42.996079</td>\n",
       "      <td>0.913</td>\n",
       "      <td>4.039000</td>\n",
       "    </tr>\n",
       "  </tbody>\n",
       "</table>\n",
       "<p>58118 rows × 5 columns</p>\n",
       "</div>"
      ],
      "text/plain": [
       "                              time         lon        lat    swh  wind_speed\n",
       "0    2010-07-16 05:45:54.846177984  -71.363090  39.028299  1.129    6.114000\n",
       "1    2010-07-16 05:45:55.789616000  -71.370376  39.085443  1.071    5.590000\n",
       "2    2010-07-16 05:45:56.733053056  -71.377668  39.142586  1.107    5.447000\n",
       "3    2010-07-16 05:45:57.676489024  -71.384964  39.199728  0.890    5.217001\n",
       "4    2010-07-16 05:45:58.619926976  -71.392266  39.256869  0.968    4.851000\n",
       "..                             ...         ...        ...    ...         ...\n",
       "119  2020-08-31 14:13:18.419316992  290.550802  42.767672  0.837    3.747000\n",
       "120  2020-08-31 14:13:19.362754048  290.543126  42.824775  0.716    3.905000\n",
       "121  2020-08-31 14:13:20.306190976  290.535442  42.881877  1.024    4.143000\n",
       "122  2020-08-31 14:13:21.249628032  290.527752  42.938979  0.735    4.180000\n",
       "123  2020-08-31 14:13:22.193065088  290.520055  42.996079  0.913    4.039000\n",
       "\n",
       "[58118 rows x 5 columns]"
      ]
     },
     "execution_count": 8,
     "metadata": {},
     "output_type": "execute_result"
    }
   ],
   "source": [
    "cryosat21 = pd.read_csv('C:/Users/panmits86/Desktop/Python/data/valid_altimeter_data/cryosat2_2010-2014_qc.txt',  sep='\\t')\n",
    "cryosat22 = pd.read_csv('C:/Users/panmits86/Desktop/Python/data/valid_altimeter_data/cryosat2_2014-2020_qc.txt',  sep='\\t')\n",
    "cryosat23 = pd.read_csv('C:/Users/panmits86/Desktop/Python/data/valid_altimeter_data/cryosat2_qc_new.txt',  sep='\\t')\n",
    "\n",
    "\"\"\"\n",
    "cryosat21 = cryosat21.set_index('time')\n",
    "#cols = cryosat21.columns.tolist()\n",
    "#cols = cols[-1:] + cols[:-1]\n",
    "#cryosat21 = cryosat21[cols]\n",
    "\n",
    "cryosat22 = cryosat22.set_index('time')\n",
    "#cols = cryosat22.columns.tolist()\n",
    "#cols = cols[-1:] + cols[:-1]\n",
    "#cryosat22 = cryosat22[cols]\n",
    "\"\"\"\n",
    "cryosat2 = pd.concat([cryosat21,cryosat22,cryosat23],axis=0)\n",
    "#cryosat2['lon'] = cryosat2['lon']+360\n",
    "#cryosat2 = cryosat2.reset_index()\n",
    "#cryosat2['time'] = pd.to_datetime(cryosat2['time'])\n",
    "\n",
    "cryosat2"
   ]
  },
  {
   "cell_type": "code",
   "execution_count": 16,
   "metadata": {},
   "outputs": [
    {
     "data": {
      "text/html": [
       "<div>\n",
       "<style scoped>\n",
       "    .dataframe tbody tr th:only-of-type {\n",
       "        vertical-align: middle;\n",
       "    }\n",
       "\n",
       "    .dataframe tbody tr th {\n",
       "        vertical-align: top;\n",
       "    }\n",
       "\n",
       "    .dataframe thead th {\n",
       "        text-align: right;\n",
       "    }\n",
       "</style>\n",
       "<table border=\"1\" class=\"dataframe\">\n",
       "  <thead>\n",
       "    <tr style=\"text-align: right;\">\n",
       "      <th></th>\n",
       "      <th>time</th>\n",
       "      <th>lon</th>\n",
       "      <th>lat</th>\n",
       "      <th>swh</th>\n",
       "      <th>wind_speed</th>\n",
       "    </tr>\n",
       "  </thead>\n",
       "  <tbody>\n",
       "    <tr>\n",
       "      <th>0</th>\n",
       "      <td>2013-03-14 23:29:26.243709056</td>\n",
       "      <td>-73.720450</td>\n",
       "      <td>40.555765</td>\n",
       "      <td>0.872</td>\n",
       "      <td>11.400000</td>\n",
       "    </tr>\n",
       "    <tr>\n",
       "      <th>1</th>\n",
       "      <td>2013-03-14 23:29:27.280702144</td>\n",
       "      <td>-73.740594</td>\n",
       "      <td>40.494946</td>\n",
       "      <td>1.092</td>\n",
       "      <td>12.929999</td>\n",
       "    </tr>\n",
       "    <tr>\n",
       "      <th>2</th>\n",
       "      <td>2013-03-14 23:29:28.317692032</td>\n",
       "      <td>-73.760710</td>\n",
       "      <td>40.434124</td>\n",
       "      <td>0.992</td>\n",
       "      <td>12.349999</td>\n",
       "    </tr>\n",
       "    <tr>\n",
       "      <th>3</th>\n",
       "      <td>2013-03-14 23:29:29.354686016</td>\n",
       "      <td>-73.780798</td>\n",
       "      <td>40.373300</td>\n",
       "      <td>1.121</td>\n",
       "      <td>12.130000</td>\n",
       "    </tr>\n",
       "    <tr>\n",
       "      <th>4</th>\n",
       "      <td>2013-03-14 23:29:30.391675008</td>\n",
       "      <td>-73.800857</td>\n",
       "      <td>40.312472</td>\n",
       "      <td>1.091</td>\n",
       "      <td>12.200000</td>\n",
       "    </tr>\n",
       "    <tr>\n",
       "      <th>...</th>\n",
       "      <td>...</td>\n",
       "      <td>...</td>\n",
       "      <td>...</td>\n",
       "      <td>...</td>\n",
       "      <td>...</td>\n",
       "    </tr>\n",
       "    <tr>\n",
       "      <th>168848</th>\n",
       "      <td>2020-08-31 14:13:18.419316992</td>\n",
       "      <td>290.550802</td>\n",
       "      <td>42.767672</td>\n",
       "      <td>0.837</td>\n",
       "      <td>3.747000</td>\n",
       "    </tr>\n",
       "    <tr>\n",
       "      <th>168849</th>\n",
       "      <td>2020-08-31 14:13:19.362754048</td>\n",
       "      <td>290.543126</td>\n",
       "      <td>42.824775</td>\n",
       "      <td>0.716</td>\n",
       "      <td>3.905000</td>\n",
       "    </tr>\n",
       "    <tr>\n",
       "      <th>168850</th>\n",
       "      <td>2020-08-31 14:13:20.306190976</td>\n",
       "      <td>290.535442</td>\n",
       "      <td>42.881877</td>\n",
       "      <td>1.024</td>\n",
       "      <td>4.143000</td>\n",
       "    </tr>\n",
       "    <tr>\n",
       "      <th>168851</th>\n",
       "      <td>2020-08-31 14:13:21.249628032</td>\n",
       "      <td>290.527752</td>\n",
       "      <td>42.938979</td>\n",
       "      <td>0.735</td>\n",
       "      <td>4.180000</td>\n",
       "    </tr>\n",
       "    <tr>\n",
       "      <th>168852</th>\n",
       "      <td>2020-08-31 14:13:22.193065088</td>\n",
       "      <td>290.520055</td>\n",
       "      <td>42.996079</td>\n",
       "      <td>0.913</td>\n",
       "      <td>4.039000</td>\n",
       "    </tr>\n",
       "  </tbody>\n",
       "</table>\n",
       "<p>168849 rows × 5 columns</p>\n",
       "</div>"
      ],
      "text/plain": [
       "                                 time         lon        lat    swh  \\\n",
       "0       2013-03-14 23:29:26.243709056  -73.720450  40.555765  0.872   \n",
       "1       2013-03-14 23:29:27.280702144  -73.740594  40.494946  1.092   \n",
       "2       2013-03-14 23:29:28.317692032  -73.760710  40.434124  0.992   \n",
       "3       2013-03-14 23:29:29.354686016  -73.780798  40.373300  1.121   \n",
       "4       2013-03-14 23:29:30.391675008  -73.800857  40.312472  1.091   \n",
       "...                               ...         ...        ...    ...   \n",
       "168848  2020-08-31 14:13:18.419316992  290.550802  42.767672  0.837   \n",
       "168849  2020-08-31 14:13:19.362754048  290.543126  42.824775  0.716   \n",
       "168850  2020-08-31 14:13:20.306190976  290.535442  42.881877  1.024   \n",
       "168851  2020-08-31 14:13:21.249628032  290.527752  42.938979  0.735   \n",
       "168852  2020-08-31 14:13:22.193065088  290.520055  42.996079  0.913   \n",
       "\n",
       "        wind_speed  \n",
       "0        11.400000  \n",
       "1        12.929999  \n",
       "2        12.349999  \n",
       "3        12.130000  \n",
       "4        12.200000  \n",
       "...            ...  \n",
       "168848    3.747000  \n",
       "168849    3.905000  \n",
       "168850    4.143000  \n",
       "168851    4.180000  \n",
       "168852    4.039000  \n",
       "\n",
       "[168849 rows x 5 columns]"
      ]
     },
     "execution_count": 16,
     "metadata": {},
     "output_type": "execute_result"
    }
   ],
   "source": [
    "merge = [altika, jason3, sentinel3, cryosat2]\n",
    "altimeters = pd.concat(merge)\n",
    "altimeters = altimeters.reset_index()\n",
    "altimeters = altimeters.drop('index',axis=1)\n",
    "altimeters = altimeters[altimeters['wind_speed']>0.]\n",
    "#altimeters['lon'] = altimeters['lon'] - 360\n",
    "altimeters"
   ]
  },
  {
   "cell_type": "code",
   "execution_count": 17,
   "metadata": {},
   "outputs": [
    {
     "data": {
      "text/html": [
       "<div>\n",
       "<style scoped>\n",
       "    .dataframe tbody tr th:only-of-type {\n",
       "        vertical-align: middle;\n",
       "    }\n",
       "\n",
       "    .dataframe tbody tr th {\n",
       "        vertical-align: top;\n",
       "    }\n",
       "\n",
       "    .dataframe thead th {\n",
       "        text-align: right;\n",
       "    }\n",
       "</style>\n",
       "<table border=\"1\" class=\"dataframe\">\n",
       "  <thead>\n",
       "    <tr style=\"text-align: right;\">\n",
       "      <th></th>\n",
       "      <th>time</th>\n",
       "      <th>lon</th>\n",
       "      <th>lat</th>\n",
       "      <th>swh</th>\n",
       "      <th>wind_speed</th>\n",
       "    </tr>\n",
       "  </thead>\n",
       "  <tbody>\n",
       "    <tr>\n",
       "      <th>0</th>\n",
       "      <td>2016-02-19 08:37:16.762022016</td>\n",
       "      <td>-73.206830</td>\n",
       "      <td>40.522913</td>\n",
       "      <td>1.055</td>\n",
       "      <td>5.03</td>\n",
       "    </tr>\n",
       "    <tr>\n",
       "      <th>1</th>\n",
       "      <td>2016-02-19 08:37:17.780731904</td>\n",
       "      <td>-73.173090</td>\n",
       "      <td>40.476871</td>\n",
       "      <td>1.087</td>\n",
       "      <td>7.32</td>\n",
       "    </tr>\n",
       "    <tr>\n",
       "      <th>2</th>\n",
       "      <td>2016-02-19 08:37:19.818150976</td>\n",
       "      <td>-73.105765</td>\n",
       "      <td>40.384747</td>\n",
       "      <td>1.197</td>\n",
       "      <td>7.12</td>\n",
       "    </tr>\n",
       "    <tr>\n",
       "      <th>3</th>\n",
       "      <td>2016-02-19 08:37:20.836863040</td>\n",
       "      <td>-73.072179</td>\n",
       "      <td>40.338666</td>\n",
       "      <td>1.431</td>\n",
       "      <td>7.36</td>\n",
       "    </tr>\n",
       "    <tr>\n",
       "      <th>4</th>\n",
       "      <td>2016-02-19 08:37:21.855571008</td>\n",
       "      <td>-73.038646</td>\n",
       "      <td>40.292573</td>\n",
       "      <td>1.348</td>\n",
       "      <td>7.68</td>\n",
       "    </tr>\n",
       "    <tr>\n",
       "      <th>...</th>\n",
       "      <td>...</td>\n",
       "      <td>...</td>\n",
       "      <td>...</td>\n",
       "      <td>...</td>\n",
       "      <td>...</td>\n",
       "    </tr>\n",
       "    <tr>\n",
       "      <th>84790</th>\n",
       "      <td>2020-09-20 10:04:24.930437120</td>\n",
       "      <td>289.735866</td>\n",
       "      <td>42.737402</td>\n",
       "      <td>1.764</td>\n",
       "      <td>10.65</td>\n",
       "    </tr>\n",
       "    <tr>\n",
       "      <th>84791</th>\n",
       "      <td>2020-09-20 10:04:25.969015168</td>\n",
       "      <td>289.714517</td>\n",
       "      <td>42.798189</td>\n",
       "      <td>1.642</td>\n",
       "      <td>10.79</td>\n",
       "    </tr>\n",
       "    <tr>\n",
       "      <th>84792</th>\n",
       "      <td>2020-09-20 10:04:27.007589760</td>\n",
       "      <td>289.693135</td>\n",
       "      <td>42.858972</td>\n",
       "      <td>1.696</td>\n",
       "      <td>11.02</td>\n",
       "    </tr>\n",
       "    <tr>\n",
       "      <th>84793</th>\n",
       "      <td>2020-09-20 10:04:28.046165888</td>\n",
       "      <td>289.671720</td>\n",
       "      <td>42.919752</td>\n",
       "      <td>1.730</td>\n",
       "      <td>11.16</td>\n",
       "    </tr>\n",
       "    <tr>\n",
       "      <th>84794</th>\n",
       "      <td>2020-09-20 10:04:29.084740224</td>\n",
       "      <td>289.650271</td>\n",
       "      <td>42.980528</td>\n",
       "      <td>1.602</td>\n",
       "      <td>10.73</td>\n",
       "    </tr>\n",
       "  </tbody>\n",
       "</table>\n",
       "<p>84791 rows × 5 columns</p>\n",
       "</div>"
      ],
      "text/plain": [
       "                                time         lon        lat    swh  wind_speed\n",
       "0      2016-02-19 08:37:16.762022016  -73.206830  40.522913  1.055        5.03\n",
       "1      2016-02-19 08:37:17.780731904  -73.173090  40.476871  1.087        7.32\n",
       "2      2016-02-19 08:37:19.818150976  -73.105765  40.384747  1.197        7.12\n",
       "3      2016-02-19 08:37:20.836863040  -73.072179  40.338666  1.431        7.36\n",
       "4      2016-02-19 08:37:21.855571008  -73.038646  40.292573  1.348        7.68\n",
       "...                              ...         ...        ...    ...         ...\n",
       "84790  2020-09-20 10:04:24.930437120  289.735866  42.737402  1.764       10.65\n",
       "84791  2020-09-20 10:04:25.969015168  289.714517  42.798189  1.642       10.79\n",
       "84792  2020-09-20 10:04:27.007589760  289.693135  42.858972  1.696       11.02\n",
       "84793  2020-09-20 10:04:28.046165888  289.671720  42.919752  1.730       11.16\n",
       "84794  2020-09-20 10:04:29.084740224  289.650271  42.980528  1.602       10.73\n",
       "\n",
       "[84791 rows x 5 columns]"
      ]
     },
     "execution_count": 17,
     "metadata": {},
     "output_type": "execute_result"
    }
   ],
   "source": [
    "merge1 = [jason3, altika]\n",
    "jason_altika = pd.concat(merge1)\n",
    "jason_altika = jason_altika.reset_index()\n",
    "jason_altika = jason_altika.drop('index',axis=1)\n",
    "jason_altika = jason_altika[jason_altika['wind_speed']>0.]\n",
    "#jason_altika['lon'] = jason_altika['lon'] - 360\n",
    "jason_altika"
   ]
  },
  {
   "cell_type": "code",
   "execution_count": 443,
   "metadata": {},
   "outputs": [
    {
     "data": {
      "text/html": [
       "<div>\n",
       "<style scoped>\n",
       "    .dataframe tbody tr th:only-of-type {\n",
       "        vertical-align: middle;\n",
       "    }\n",
       "\n",
       "    .dataframe tbody tr th {\n",
       "        vertical-align: top;\n",
       "    }\n",
       "\n",
       "    .dataframe thead th {\n",
       "        text-align: right;\n",
       "    }\n",
       "</style>\n",
       "<table border=\"1\" class=\"dataframe\">\n",
       "  <thead>\n",
       "    <tr style=\"text-align: right;\">\n",
       "      <th></th>\n",
       "      <th>time</th>\n",
       "      <th>lon</th>\n",
       "      <th>lat</th>\n",
       "      <th>swh</th>\n",
       "      <th>wind_speed</th>\n",
       "    </tr>\n",
       "  </thead>\n",
       "  <tbody>\n",
       "    <tr>\n",
       "      <th>0</th>\n",
       "      <td>2013-03-14 23:29:26.243709056</td>\n",
       "      <td>-73.720450</td>\n",
       "      <td>40.555765</td>\n",
       "      <td>0.872</td>\n",
       "      <td>11.400000</td>\n",
       "    </tr>\n",
       "    <tr>\n",
       "      <th>1</th>\n",
       "      <td>2013-03-14 23:29:27.280702144</td>\n",
       "      <td>-73.740594</td>\n",
       "      <td>40.494946</td>\n",
       "      <td>1.092</td>\n",
       "      <td>12.929999</td>\n",
       "    </tr>\n",
       "    <tr>\n",
       "      <th>2</th>\n",
       "      <td>2013-03-14 23:29:28.317692032</td>\n",
       "      <td>-73.760710</td>\n",
       "      <td>40.434124</td>\n",
       "      <td>0.992</td>\n",
       "      <td>12.349999</td>\n",
       "    </tr>\n",
       "    <tr>\n",
       "      <th>3</th>\n",
       "      <td>2013-03-14 23:29:29.354686016</td>\n",
       "      <td>-73.780798</td>\n",
       "      <td>40.373300</td>\n",
       "      <td>1.121</td>\n",
       "      <td>12.130000</td>\n",
       "    </tr>\n",
       "    <tr>\n",
       "      <th>4</th>\n",
       "      <td>2013-03-14 23:29:30.391675008</td>\n",
       "      <td>-73.800857</td>\n",
       "      <td>40.312472</td>\n",
       "      <td>1.091</td>\n",
       "      <td>12.200000</td>\n",
       "    </tr>\n",
       "    <tr>\n",
       "      <th>...</th>\n",
       "      <td>...</td>\n",
       "      <td>...</td>\n",
       "      <td>...</td>\n",
       "      <td>...</td>\n",
       "      <td>...</td>\n",
       "    </tr>\n",
       "    <tr>\n",
       "      <th>122904</th>\n",
       "      <td>2020-08-17 03:18:56.898684928</td>\n",
       "      <td>-71.598921</td>\n",
       "      <td>39.231173</td>\n",
       "      <td>3.440</td>\n",
       "      <td>15.024001</td>\n",
       "    </tr>\n",
       "    <tr>\n",
       "      <th>122905</th>\n",
       "      <td>2020-08-17 03:18:57.842121984</td>\n",
       "      <td>-71.606212</td>\n",
       "      <td>39.174078</td>\n",
       "      <td>3.373</td>\n",
       "      <td>14.747001</td>\n",
       "    </tr>\n",
       "    <tr>\n",
       "      <th>122906</th>\n",
       "      <td>2020-08-17 03:18:58.785560064</td>\n",
       "      <td>-71.613498</td>\n",
       "      <td>39.116982</td>\n",
       "      <td>3.031</td>\n",
       "      <td>14.331000</td>\n",
       "    </tr>\n",
       "    <tr>\n",
       "      <th>122907</th>\n",
       "      <td>2020-08-17 03:18:59.728996992</td>\n",
       "      <td>-71.620778</td>\n",
       "      <td>39.059886</td>\n",
       "      <td>2.791</td>\n",
       "      <td>14.317000</td>\n",
       "    </tr>\n",
       "    <tr>\n",
       "      <th>122908</th>\n",
       "      <td>2020-08-17 03:19:00.672433024</td>\n",
       "      <td>-71.628053</td>\n",
       "      <td>39.002790</td>\n",
       "      <td>2.487</td>\n",
       "      <td>14.070001</td>\n",
       "    </tr>\n",
       "  </tbody>\n",
       "</table>\n",
       "<p>122905 rows × 5 columns</p>\n",
       "</div>"
      ],
      "text/plain": [
       "                                 time        lon        lat    swh  wind_speed\n",
       "0       2013-03-14 23:29:26.243709056 -73.720450  40.555765  0.872   11.400000\n",
       "1       2013-03-14 23:29:27.280702144 -73.740594  40.494946  1.092   12.929999\n",
       "2       2013-03-14 23:29:28.317692032 -73.760710  40.434124  0.992   12.349999\n",
       "3       2013-03-14 23:29:29.354686016 -73.780798  40.373300  1.121   12.130000\n",
       "4       2013-03-14 23:29:30.391675008 -73.800857  40.312472  1.091   12.200000\n",
       "...                               ...        ...        ...    ...         ...\n",
       "122904  2020-08-17 03:18:56.898684928 -71.598921  39.231173  3.440   15.024001\n",
       "122905  2020-08-17 03:18:57.842121984 -71.606212  39.174078  3.373   14.747001\n",
       "122906  2020-08-17 03:18:58.785560064 -71.613498  39.116982  3.031   14.331000\n",
       "122907  2020-08-17 03:18:59.728996992 -71.620778  39.059886  2.791   14.317000\n",
       "122908  2020-08-17 03:19:00.672433024 -71.628053  39.002790  2.487   14.070001\n",
       "\n",
       "[122905 rows x 5 columns]"
      ]
     },
     "execution_count": 443,
     "metadata": {},
     "output_type": "execute_result"
    }
   ],
   "source": [
    "merge2 = [altika, jason3, cryosat2]\n",
    "jss = pd.concat(merge2)\n",
    "jss = jss.reset_index()\n",
    "jss = jss.drop('index',axis=1)\n",
    "jss = jss[jss['wind_speed']>0.]\n",
    "#jss['lon'] = jss['lon'] - 360\n",
    "jss"
   ]
  },
  {
   "cell_type": "code",
   "execution_count": 14,
   "metadata": {},
   "outputs": [
    {
     "data": {
      "text/plain": [
       "(24096, 64911, 84690)"
      ]
     },
     "execution_count": 14,
     "metadata": {},
     "output_type": "execute_result"
    }
   ],
   "source": [
    "len(jason3), len(jason_altika), len(jss)"
   ]
  },
  {
   "cell_type": "code",
   "execution_count": 18,
   "metadata": {},
   "outputs": [
    {
     "data": {
      "text/plain": [
       "\"\\njason3_wint201819 = jason3[(jason3['time'] >= '2018-12-01') & (jason3['time'] < '2019-03-01')]\\naltika_wint201819 = altika[(altika['time'] >= '2018-12-01') & (altika['time'] < '2019-03-01')]\\nsentinel3_wint201819 = sentinel3[(sentinel3['time'] >= '2018-12-01') & (sentinel3['time'] < '2019-03-01')]\\ncryosat2_wint201819 = cryosat2[(cryosat2['time'] >= '2018-12-01') & (cryosat2['time'] < '2019-03-01')]\\n\\njs_wint201819 = jason_altika[(jason_altika['time'] >= '2018-12-01') & (jason_altika['time'] < '2019-03-01')]\\njss_wint201819 = jss[(jss['time'] >= '2018-12-01') & (jss['time'] < '2019-03-01')]\\n\""
      ]
     },
     "execution_count": 18,
     "metadata": {},
     "output_type": "execute_result"
    }
   ],
   "source": [
    "# winter and summer seasons 2018-19\n",
    "altimeters_wint2019 = altimeters[(altimeters['time'] >= '2018-12-01') & (altimeters['time'] < '2019-03-01')]\n",
    "altimeters_summ2019 = altimeters[(altimeters['time'] >= '2019-06-01') & (altimeters['time'] < '2019-09-01')]\n",
    "\n",
    "#winter and summer seasons 2019-20\n",
    "altimeters_wint2020 = altimeters[(altimeters['time'] >= '2019-12-01') & (altimeters['time'] < '2020-03-01')]\n",
    "altimeters_summ2020 = altimeters[(altimeters['time'] >= '2020-06-01') & (altimeters['time'] < '2020-09-01')]\n",
    "\n",
    "\"\"\"\n",
    "jason3_wint201819 = jason3[(jason3['time'] >= '2018-12-01') & (jason3['time'] < '2019-03-01')]\n",
    "altika_wint201819 = altika[(altika['time'] >= '2018-12-01') & (altika['time'] < '2019-03-01')]\n",
    "sentinel3_wint201819 = sentinel3[(sentinel3['time'] >= '2018-12-01') & (sentinel3['time'] < '2019-03-01')]\n",
    "cryosat2_wint201819 = cryosat2[(cryosat2['time'] >= '2018-12-01') & (cryosat2['time'] < '2019-03-01')]\n",
    "\n",
    "js_wint201819 = jason_altika[(jason_altika['time'] >= '2018-12-01') & (jason_altika['time'] < '2019-03-01')]\n",
    "jss_wint201819 = jss[(jss['time'] >= '2018-12-01') & (jss['time'] < '2019-03-01')]\n",
    "\"\"\""
   ]
  },
  {
   "cell_type": "code",
   "execution_count": 48,
   "metadata": {},
   "outputs": [
    {
     "data": {
      "text/html": [
       "<div>\n",
       "<style scoped>\n",
       "    .dataframe tbody tr th:only-of-type {\n",
       "        vertical-align: middle;\n",
       "    }\n",
       "\n",
       "    .dataframe tbody tr th {\n",
       "        vertical-align: top;\n",
       "    }\n",
       "\n",
       "    .dataframe thead th {\n",
       "        text-align: right;\n",
       "    }\n",
       "</style>\n",
       "<table border=\"1\" class=\"dataframe\">\n",
       "  <thead>\n",
       "    <tr style=\"text-align: right;\">\n",
       "      <th></th>\n",
       "      <th>time</th>\n",
       "      <th>lon</th>\n",
       "      <th>lat</th>\n",
       "      <th>swh</th>\n",
       "      <th>wind_speed</th>\n",
       "      <th>swh_trans</th>\n",
       "      <th>ws_trans</th>\n",
       "    </tr>\n",
       "  </thead>\n",
       "  <tbody>\n",
       "    <tr>\n",
       "      <th>0</th>\n",
       "      <td>2019-06-02 23:05:50.873053056</td>\n",
       "      <td>-69.192801</td>\n",
       "      <td>42.976318</td>\n",
       "      <td>0.989</td>\n",
       "      <td>4.690</td>\n",
       "      <td>-0.011047</td>\n",
       "      <td>2.314723</td>\n",
       "    </tr>\n",
       "    <tr>\n",
       "      <th>1</th>\n",
       "      <td>2019-06-02 23:05:51.912683008</td>\n",
       "      <td>-69.214254</td>\n",
       "      <td>42.915492</td>\n",
       "      <td>1.106</td>\n",
       "      <td>5.090</td>\n",
       "      <td>0.101922</td>\n",
       "      <td>2.493311</td>\n",
       "    </tr>\n",
       "    <tr>\n",
       "      <th>2</th>\n",
       "      <td>2019-06-02 23:05:52.952314880</td>\n",
       "      <td>-69.235672</td>\n",
       "      <td>42.854663</td>\n",
       "      <td>0.935</td>\n",
       "      <td>5.240</td>\n",
       "      <td>-0.066694</td>\n",
       "      <td>2.558434</td>\n",
       "    </tr>\n",
       "    <tr>\n",
       "      <th>3</th>\n",
       "      <td>2019-06-02 23:05:53.991947136</td>\n",
       "      <td>-69.257057</td>\n",
       "      <td>42.793831</td>\n",
       "      <td>0.986</td>\n",
       "      <td>5.250</td>\n",
       "      <td>-0.014076</td>\n",
       "      <td>2.562741</td>\n",
       "    </tr>\n",
       "    <tr>\n",
       "      <th>4</th>\n",
       "      <td>2019-06-02 23:05:55.031580032</td>\n",
       "      <td>-69.278409</td>\n",
       "      <td>42.732996</td>\n",
       "      <td>0.973</td>\n",
       "      <td>5.190</td>\n",
       "      <td>-0.027286</td>\n",
       "      <td>2.536833</td>\n",
       "    </tr>\n",
       "    <tr>\n",
       "      <th>...</th>\n",
       "      <td>...</td>\n",
       "      <td>...</td>\n",
       "      <td>...</td>\n",
       "      <td>...</td>\n",
       "      <td>...</td>\n",
       "      <td>...</td>\n",
       "      <td>...</td>\n",
       "    </tr>\n",
       "    <tr>\n",
       "      <th>13286</th>\n",
       "      <td>2020-08-31 14:13:18.419316992</td>\n",
       "      <td>290.550802</td>\n",
       "      <td>42.767672</td>\n",
       "      <td>0.837</td>\n",
       "      <td>3.747</td>\n",
       "      <td>-0.176464</td>\n",
       "      <td>1.839199</td>\n",
       "    </tr>\n",
       "    <tr>\n",
       "      <th>13287</th>\n",
       "      <td>2020-08-31 14:13:19.362754048</td>\n",
       "      <td>290.543126</td>\n",
       "      <td>42.824775</td>\n",
       "      <td>0.716</td>\n",
       "      <td>3.905</td>\n",
       "      <td>-0.328927</td>\n",
       "      <td>1.917444</td>\n",
       "    </tr>\n",
       "    <tr>\n",
       "      <th>13288</th>\n",
       "      <td>2020-08-31 14:13:20.306190976</td>\n",
       "      <td>290.535442</td>\n",
       "      <td>42.881877</td>\n",
       "      <td>1.024</td>\n",
       "      <td>4.143</td>\n",
       "      <td>0.023743</td>\n",
       "      <td>2.032240</td>\n",
       "    </tr>\n",
       "    <tr>\n",
       "      <th>13289</th>\n",
       "      <td>2020-08-31 14:13:21.249628032</td>\n",
       "      <td>290.527752</td>\n",
       "      <td>42.938979</td>\n",
       "      <td>0.735</td>\n",
       "      <td>4.180</td>\n",
       "      <td>-0.303508</td>\n",
       "      <td>2.049773</td>\n",
       "    </tr>\n",
       "    <tr>\n",
       "      <th>13290</th>\n",
       "      <td>2020-08-31 14:13:22.193065088</td>\n",
       "      <td>290.520055</td>\n",
       "      <td>42.996079</td>\n",
       "      <td>0.913</td>\n",
       "      <td>4.039</td>\n",
       "      <td>-0.090634</td>\n",
       "      <td>1.982513</td>\n",
       "    </tr>\n",
       "  </tbody>\n",
       "</table>\n",
       "<p>13291 rows × 7 columns</p>\n",
       "</div>"
      ],
      "text/plain": [
       "                                time         lon        lat    swh  \\\n",
       "0      2019-06-02 23:05:50.873053056  -69.192801  42.976318  0.989   \n",
       "1      2019-06-02 23:05:51.912683008  -69.214254  42.915492  1.106   \n",
       "2      2019-06-02 23:05:52.952314880  -69.235672  42.854663  0.935   \n",
       "3      2019-06-02 23:05:53.991947136  -69.257057  42.793831  0.986   \n",
       "4      2019-06-02 23:05:55.031580032  -69.278409  42.732996  0.973   \n",
       "...                              ...         ...        ...    ...   \n",
       "13286  2020-08-31 14:13:18.419316992  290.550802  42.767672  0.837   \n",
       "13287  2020-08-31 14:13:19.362754048  290.543126  42.824775  0.716   \n",
       "13288  2020-08-31 14:13:20.306190976  290.535442  42.881877  1.024   \n",
       "13289  2020-08-31 14:13:21.249628032  290.527752  42.938979  0.735   \n",
       "13290  2020-08-31 14:13:22.193065088  290.520055  42.996079  0.913   \n",
       "\n",
       "       wind_speed  swh_trans  ws_trans  \n",
       "0           4.690  -0.011047  2.314723  \n",
       "1           5.090   0.101922  2.493311  \n",
       "2           5.240  -0.066694  2.558434  \n",
       "3           5.250  -0.014076  2.562741  \n",
       "4           5.190  -0.027286  2.536833  \n",
       "...           ...        ...       ...  \n",
       "13286       3.747  -0.176464  1.839199  \n",
       "13287       3.905  -0.328927  1.917444  \n",
       "13288       4.143   0.023743  2.032240  \n",
       "13289       4.180  -0.303508  2.049773  \n",
       "13290       4.039  -0.090634  1.982513  \n",
       "\n",
       "[13291 rows x 7 columns]"
      ]
     },
     "execution_count": 48,
     "metadata": {},
     "output_type": "execute_result"
    }
   ],
   "source": [
    "merge = [altimeters_summ2019, altimeters_summ2020]\n",
    "altimeters_summ = pd.concat(merge)\n",
    "altimeters_summ = altimeters_summ.reset_index()\n",
    "altimeters_summ = altimeters_summ.drop('index',axis=1)\n",
    "altimeters_summ"
   ]
  },
  {
   "cell_type": "code",
   "execution_count": 49,
   "metadata": {},
   "outputs": [
    {
     "data": {
      "text/html": [
       "<div>\n",
       "<style scoped>\n",
       "    .dataframe tbody tr th:only-of-type {\n",
       "        vertical-align: middle;\n",
       "    }\n",
       "\n",
       "    .dataframe tbody tr th {\n",
       "        vertical-align: top;\n",
       "    }\n",
       "\n",
       "    .dataframe thead th {\n",
       "        text-align: right;\n",
       "    }\n",
       "</style>\n",
       "<table border=\"1\" class=\"dataframe\">\n",
       "  <thead>\n",
       "    <tr style=\"text-align: right;\">\n",
       "      <th></th>\n",
       "      <th>time</th>\n",
       "      <th>lon</th>\n",
       "      <th>lat</th>\n",
       "      <th>swh</th>\n",
       "      <th>wind_speed</th>\n",
       "      <th>swh_trans</th>\n",
       "      <th>ws_trans</th>\n",
       "    </tr>\n",
       "  </thead>\n",
       "  <tbody>\n",
       "    <tr>\n",
       "      <th>0</th>\n",
       "      <td>2018-12-01 23:18:20.837773824</td>\n",
       "      <td>-72.614346</td>\n",
       "      <td>41.113616</td>\n",
       "      <td>0.380</td>\n",
       "      <td>3.600000</td>\n",
       "      <td>-0.953062</td>\n",
       "      <td>1.722856</td>\n",
       "    </tr>\n",
       "    <tr>\n",
       "      <th>1</th>\n",
       "      <td>2018-12-01 23:18:28.100413824</td>\n",
       "      <td>-72.756824</td>\n",
       "      <td>40.687816</td>\n",
       "      <td>0.647</td>\n",
       "      <td>3.510000</td>\n",
       "      <td>-0.432452</td>\n",
       "      <td>1.678508</td>\n",
       "    </tr>\n",
       "    <tr>\n",
       "      <th>2</th>\n",
       "      <td>2018-12-01 23:18:29.137932800</td>\n",
       "      <td>-72.777062</td>\n",
       "      <td>40.626976</td>\n",
       "      <td>0.652</td>\n",
       "      <td>3.570000</td>\n",
       "      <td>-0.424857</td>\n",
       "      <td>1.708143</td>\n",
       "    </tr>\n",
       "    <tr>\n",
       "      <th>3</th>\n",
       "      <td>2018-12-01 23:18:30.175454080</td>\n",
       "      <td>-72.797271</td>\n",
       "      <td>40.566133</td>\n",
       "      <td>0.651</td>\n",
       "      <td>3.430000</td>\n",
       "      <td>-0.426372</td>\n",
       "      <td>1.638552</td>\n",
       "    </tr>\n",
       "    <tr>\n",
       "      <th>4</th>\n",
       "      <td>2018-12-01 23:18:31.212973056</td>\n",
       "      <td>-72.817451</td>\n",
       "      <td>40.505287</td>\n",
       "      <td>0.700</td>\n",
       "      <td>3.400000</td>\n",
       "      <td>-0.354689</td>\n",
       "      <td>1.623434</td>\n",
       "    </tr>\n",
       "    <tr>\n",
       "      <th>...</th>\n",
       "      <td>...</td>\n",
       "      <td>...</td>\n",
       "      <td>...</td>\n",
       "      <td>...</td>\n",
       "      <td>...</td>\n",
       "      <td>...</td>\n",
       "      <td>...</td>\n",
       "    </tr>\n",
       "    <tr>\n",
       "      <th>12521</th>\n",
       "      <td>2020-02-27 11:39:46.507393024</td>\n",
       "      <td>-69.247447</td>\n",
       "      <td>39.248893</td>\n",
       "      <td>1.836</td>\n",
       "      <td>7.820000</td>\n",
       "      <td>0.612414</td>\n",
       "      <td>3.585785</td>\n",
       "    </tr>\n",
       "    <tr>\n",
       "      <th>12522</th>\n",
       "      <td>2020-02-27 11:39:47.450829952</td>\n",
       "      <td>-69.254734</td>\n",
       "      <td>39.191734</td>\n",
       "      <td>1.849</td>\n",
       "      <td>8.137000</td>\n",
       "      <td>0.619583</td>\n",
       "      <td>3.697636</td>\n",
       "    </tr>\n",
       "    <tr>\n",
       "      <th>12523</th>\n",
       "      <td>2020-02-27 11:39:48.394267008</td>\n",
       "      <td>-69.262016</td>\n",
       "      <td>39.134575</td>\n",
       "      <td>1.797</td>\n",
       "      <td>8.147000</td>\n",
       "      <td>0.590607</td>\n",
       "      <td>3.701129</td>\n",
       "    </tr>\n",
       "    <tr>\n",
       "      <th>12524</th>\n",
       "      <td>2020-02-27 11:39:49.337704960</td>\n",
       "      <td>-69.269292</td>\n",
       "      <td>39.077415</td>\n",
       "      <td>1.957</td>\n",
       "      <td>8.044001</td>\n",
       "      <td>0.677307</td>\n",
       "      <td>3.665052</td>\n",
       "    </tr>\n",
       "    <tr>\n",
       "      <th>12525</th>\n",
       "      <td>2020-02-27 11:39:50.281140992</td>\n",
       "      <td>-69.276562</td>\n",
       "      <td>39.020255</td>\n",
       "      <td>1.873</td>\n",
       "      <td>8.275001</td>\n",
       "      <td>0.632689</td>\n",
       "      <td>3.745645</td>\n",
       "    </tr>\n",
       "  </tbody>\n",
       "</table>\n",
       "<p>12526 rows × 7 columns</p>\n",
       "</div>"
      ],
      "text/plain": [
       "                                time        lon        lat    swh  wind_speed  \\\n",
       "0      2018-12-01 23:18:20.837773824 -72.614346  41.113616  0.380    3.600000   \n",
       "1      2018-12-01 23:18:28.100413824 -72.756824  40.687816  0.647    3.510000   \n",
       "2      2018-12-01 23:18:29.137932800 -72.777062  40.626976  0.652    3.570000   \n",
       "3      2018-12-01 23:18:30.175454080 -72.797271  40.566133  0.651    3.430000   \n",
       "4      2018-12-01 23:18:31.212973056 -72.817451  40.505287  0.700    3.400000   \n",
       "...                              ...        ...        ...    ...         ...   \n",
       "12521  2020-02-27 11:39:46.507393024 -69.247447  39.248893  1.836    7.820000   \n",
       "12522  2020-02-27 11:39:47.450829952 -69.254734  39.191734  1.849    8.137000   \n",
       "12523  2020-02-27 11:39:48.394267008 -69.262016  39.134575  1.797    8.147000   \n",
       "12524  2020-02-27 11:39:49.337704960 -69.269292  39.077415  1.957    8.044001   \n",
       "12525  2020-02-27 11:39:50.281140992 -69.276562  39.020255  1.873    8.275001   \n",
       "\n",
       "       swh_trans  ws_trans  \n",
       "0      -0.953062  1.722856  \n",
       "1      -0.432452  1.678508  \n",
       "2      -0.424857  1.708143  \n",
       "3      -0.426372  1.638552  \n",
       "4      -0.354689  1.623434  \n",
       "...          ...       ...  \n",
       "12521   0.612414  3.585785  \n",
       "12522   0.619583  3.697636  \n",
       "12523   0.590607  3.701129  \n",
       "12524   0.677307  3.665052  \n",
       "12525   0.632689  3.745645  \n",
       "\n",
       "[12526 rows x 7 columns]"
      ]
     },
     "execution_count": 49,
     "metadata": {},
     "output_type": "execute_result"
    }
   ],
   "source": [
    "merge = [altimeters_wint2019, altimeters_wint2020]\n",
    "altimeters_wint = pd.concat(merge)\n",
    "altimeters_wint = altimeters_wint.reset_index()\n",
    "altimeters_wint = altimeters_wint.drop('index',axis=1)\n",
    "altimeters_wint"
   ]
  },
  {
   "cell_type": "code",
   "execution_count": 190,
   "metadata": {},
   "outputs": [
    {
     "data": {
      "text/plain": [
       "(1314, 3199, 4368)"
      ]
     },
     "execution_count": 190,
     "metadata": {},
     "output_type": "execute_result"
    }
   ],
   "source": [
    "len(jason3_wint201819), len(js_wint201819 ), len(jss_wint201819)"
   ]
  },
  {
   "cell_type": "code",
   "execution_count": 19,
   "metadata": {},
   "outputs": [
    {
     "name": "stderr",
     "output_type": "stream",
     "text": [
      "<ipython-input-19-e1b54442ee7b>:2: SettingWithCopyWarning: \n",
      "A value is trying to be set on a copy of a slice from a DataFrame.\n",
      "Try using .loc[row_indexer,col_indexer] = value instead\n",
      "\n",
      "See the caveats in the documentation: https://pandas.pydata.org/pandas-docs/stable/user_guide/indexing.html#returning-a-view-versus-a-copy\n",
      "  altimeters_wint2019['swh_trans'] , l01 = stats.boxcox(altimeters_wint2019['swh'])\n",
      "<ipython-input-19-e1b54442ee7b>:3: SettingWithCopyWarning: \n",
      "A value is trying to be set on a copy of a slice from a DataFrame.\n",
      "Try using .loc[row_indexer,col_indexer] = value instead\n",
      "\n",
      "See the caveats in the documentation: https://pandas.pydata.org/pandas-docs/stable/user_guide/indexing.html#returning-a-view-versus-a-copy\n",
      "  altimeters_wint2019['ws_trans'] , l02 = stats.boxcox(altimeters_wint2019['wind_speed'])\n",
      "<ipython-input-19-e1b54442ee7b>:4: SettingWithCopyWarning: \n",
      "A value is trying to be set on a copy of a slice from a DataFrame.\n",
      "Try using .loc[row_indexer,col_indexer] = value instead\n",
      "\n",
      "See the caveats in the documentation: https://pandas.pydata.org/pandas-docs/stable/user_guide/indexing.html#returning-a-view-versus-a-copy\n",
      "  altimeters_summ2019['swh_trans'] , l03 = stats.boxcox(altimeters_summ2019['swh'])\n",
      "<ipython-input-19-e1b54442ee7b>:5: SettingWithCopyWarning: \n",
      "A value is trying to be set on a copy of a slice from a DataFrame.\n",
      "Try using .loc[row_indexer,col_indexer] = value instead\n",
      "\n",
      "See the caveats in the documentation: https://pandas.pydata.org/pandas-docs/stable/user_guide/indexing.html#returning-a-view-versus-a-copy\n",
      "  altimeters_summ2019['ws_trans'] , l04 = stats.boxcox(altimeters_summ2019['wind_speed'])\n",
      "<ipython-input-19-e1b54442ee7b>:8: SettingWithCopyWarning: \n",
      "A value is trying to be set on a copy of a slice from a DataFrame.\n",
      "Try using .loc[row_indexer,col_indexer] = value instead\n",
      "\n",
      "See the caveats in the documentation: https://pandas.pydata.org/pandas-docs/stable/user_guide/indexing.html#returning-a-view-versus-a-copy\n",
      "  altimeters_wint2020['swh_trans'] , l05 = stats.boxcox(altimeters_wint2020['swh'])\n",
      "<ipython-input-19-e1b54442ee7b>:9: SettingWithCopyWarning: \n",
      "A value is trying to be set on a copy of a slice from a DataFrame.\n",
      "Try using .loc[row_indexer,col_indexer] = value instead\n",
      "\n",
      "See the caveats in the documentation: https://pandas.pydata.org/pandas-docs/stable/user_guide/indexing.html#returning-a-view-versus-a-copy\n",
      "  altimeters_wint2020['ws_trans'] , l06 = stats.boxcox(altimeters_wint2020['wind_speed'])\n",
      "<ipython-input-19-e1b54442ee7b>:10: SettingWithCopyWarning: \n",
      "A value is trying to be set on a copy of a slice from a DataFrame.\n",
      "Try using .loc[row_indexer,col_indexer] = value instead\n",
      "\n",
      "See the caveats in the documentation: https://pandas.pydata.org/pandas-docs/stable/user_guide/indexing.html#returning-a-view-versus-a-copy\n",
      "  altimeters_summ2020['swh_trans'] , l07 = stats.boxcox(altimeters_summ2020['swh'])\n",
      "<ipython-input-19-e1b54442ee7b>:11: SettingWithCopyWarning: \n",
      "A value is trying to be set on a copy of a slice from a DataFrame.\n",
      "Try using .loc[row_indexer,col_indexer] = value instead\n",
      "\n",
      "See the caveats in the documentation: https://pandas.pydata.org/pandas-docs/stable/user_guide/indexing.html#returning-a-view-versus-a-copy\n",
      "  altimeters_summ2020['ws_trans'] , l08 = stats.boxcox(altimeters_summ2020['wind_speed'])\n"
     ]
    }
   ],
   "source": [
    "# box cox transform before kriging\n",
    "altimeters_wint2019['swh_trans'] , l01 = stats.boxcox(altimeters_wint2019['swh'])\n",
    "altimeters_wint2019['ws_trans'] , l02 = stats.boxcox(altimeters_wint2019['wind_speed'])\n",
    "altimeters_summ2019['swh_trans'] , l03 = stats.boxcox(altimeters_summ2019['swh'])\n",
    "altimeters_summ2019['ws_trans'] , l04 = stats.boxcox(altimeters_summ2019['wind_speed'])\n",
    "\n",
    "\n",
    "altimeters_wint2020['swh_trans'] , l05 = stats.boxcox(altimeters_wint2020['swh'])\n",
    "altimeters_wint2020['ws_trans'] , l06 = stats.boxcox(altimeters_wint2020['wind_speed'])\n",
    "altimeters_summ2020['swh_trans'] , l07 = stats.boxcox(altimeters_summ2020['swh'])\n",
    "altimeters_summ2020['ws_trans'] , l08 = stats.boxcox(altimeters_summ2020['wind_speed'])\n",
    "\n",
    "\n",
    "altimeters['swh_trans'] , l0 = stats.boxcox(altimeters['swh'])\n",
    "altimeters['ws_trans'] , l1 = stats.boxcox(altimeters['wind_speed'])"
   ]
  },
  {
   "cell_type": "code",
   "execution_count": 51,
   "metadata": {},
   "outputs": [],
   "source": [
    "altimeters_wint['swh_trans'] , l001 = stats.boxcox(altimeters_wint['swh'])\n",
    "altimeters_summ['swh_trans'] , l002 = stats.boxcox(altimeters_summ['swh'])\n",
    "altimeters_wint['ws_trans'] , l003 = stats.boxcox(altimeters_wint['wind_speed'])\n",
    "altimeters_summ['ws_trans'] , l004 = stats.boxcox(altimeters_summ['wind_speed'])"
   ]
  },
  {
   "cell_type": "code",
   "execution_count": 445,
   "metadata": {},
   "outputs": [
    {
     "name": "stderr",
     "output_type": "stream",
     "text": [
      "<ipython-input-445-e2f02f30d673>:1: SettingWithCopyWarning: \n",
      "A value is trying to be set on a copy of a slice from a DataFrame.\n",
      "Try using .loc[row_indexer,col_indexer] = value instead\n",
      "\n",
      "See the caveats in the documentation: https://pandas.pydata.org/pandas-docs/stable/user_guide/indexing.html#returning-a-view-versus-a-copy\n",
      "  jason3_wint201819['swh_trans'] , l001 = stats.boxcox(jason3_wint201819['swh'])\n",
      "<ipython-input-445-e2f02f30d673>:2: SettingWithCopyWarning: \n",
      "A value is trying to be set on a copy of a slice from a DataFrame.\n",
      "Try using .loc[row_indexer,col_indexer] = value instead\n",
      "\n",
      "See the caveats in the documentation: https://pandas.pydata.org/pandas-docs/stable/user_guide/indexing.html#returning-a-view-versus-a-copy\n",
      "  jason3_wint201819['ws_trans'] , l011 = stats.boxcox(jason3_wint201819['wind_speed'])\n",
      "<ipython-input-445-e2f02f30d673>:4: SettingWithCopyWarning: \n",
      "A value is trying to be set on a copy of a slice from a DataFrame.\n",
      "Try using .loc[row_indexer,col_indexer] = value instead\n",
      "\n",
      "See the caveats in the documentation: https://pandas.pydata.org/pandas-docs/stable/user_guide/indexing.html#returning-a-view-versus-a-copy\n",
      "  altika_wint201819['swh_trans'] , l001 = stats.boxcox(altika_wint201819['swh'])\n",
      "<ipython-input-445-e2f02f30d673>:5: SettingWithCopyWarning: \n",
      "A value is trying to be set on a copy of a slice from a DataFrame.\n",
      "Try using .loc[row_indexer,col_indexer] = value instead\n",
      "\n",
      "See the caveats in the documentation: https://pandas.pydata.org/pandas-docs/stable/user_guide/indexing.html#returning-a-view-versus-a-copy\n",
      "  altika_wint201819['ws_trans'] , l011 = stats.boxcox(altika_wint201819['wind_speed'])\n",
      "<ipython-input-445-e2f02f30d673>:7: SettingWithCopyWarning: \n",
      "A value is trying to be set on a copy of a slice from a DataFrame.\n",
      "Try using .loc[row_indexer,col_indexer] = value instead\n",
      "\n",
      "See the caveats in the documentation: https://pandas.pydata.org/pandas-docs/stable/user_guide/indexing.html#returning-a-view-versus-a-copy\n",
      "  sentinel3_wint201819['swh_trans'] , l001 = stats.boxcox(sentinel3_wint201819['swh'])\n",
      "<ipython-input-445-e2f02f30d673>:8: SettingWithCopyWarning: \n",
      "A value is trying to be set on a copy of a slice from a DataFrame.\n",
      "Try using .loc[row_indexer,col_indexer] = value instead\n",
      "\n",
      "See the caveats in the documentation: https://pandas.pydata.org/pandas-docs/stable/user_guide/indexing.html#returning-a-view-versus-a-copy\n",
      "  sentinel3_wint201819['ws_trans'] , l011 = stats.boxcox(sentinel3_wint201819['wind_speed'])\n",
      "<ipython-input-445-e2f02f30d673>:10: SettingWithCopyWarning: \n",
      "A value is trying to be set on a copy of a slice from a DataFrame.\n",
      "Try using .loc[row_indexer,col_indexer] = value instead\n",
      "\n",
      "See the caveats in the documentation: https://pandas.pydata.org/pandas-docs/stable/user_guide/indexing.html#returning-a-view-versus-a-copy\n",
      "  cryosat2_wint201819['swh_trans'] , l001 = stats.boxcox(cryosat2_wint201819['swh'])\n",
      "<ipython-input-445-e2f02f30d673>:11: SettingWithCopyWarning: \n",
      "A value is trying to be set on a copy of a slice from a DataFrame.\n",
      "Try using .loc[row_indexer,col_indexer] = value instead\n",
      "\n",
      "See the caveats in the documentation: https://pandas.pydata.org/pandas-docs/stable/user_guide/indexing.html#returning-a-view-versus-a-copy\n",
      "  cryosat2_wint201819['ws_trans'] , l011 = stats.boxcox(cryosat2_wint201819['wind_speed'])\n"
     ]
    }
   ],
   "source": [
    "jason3_wint201819['swh_trans'] , l001 = stats.boxcox(jason3_wint201819['swh'])\n",
    "jason3_wint201819['ws_trans'] , l011 = stats.boxcox(jason3_wint201819['wind_speed'])\n",
    "\n",
    "altika_wint201819['swh_trans'] , l001 = stats.boxcox(altika_wint201819['swh'])\n",
    "altika_wint201819['ws_trans'] , l011 = stats.boxcox(altika_wint201819['wind_speed'])\n",
    "\n",
    "sentinel3_wint201819['swh_trans'] , l001 = stats.boxcox(sentinel3_wint201819['swh'])\n",
    "sentinel3_wint201819['ws_trans'] , l011 = stats.boxcox(sentinel3_wint201819['wind_speed'])\n",
    "\n",
    "cryosat2_wint201819['swh_trans'] , l001 = stats.boxcox(cryosat2_wint201819['swh'])\n",
    "cryosat2_wint201819['ws_trans'] , l011 = stats.boxcox(cryosat2_wint201819['wind_speed'])"
   ]
  },
  {
   "cell_type": "code",
   "execution_count": 320,
   "metadata": {},
   "outputs": [
    {
     "data": {
      "text/plain": [
       "(1314, 1169, 1885, 1467)"
      ]
     },
     "execution_count": 320,
     "metadata": {},
     "output_type": "execute_result"
    }
   ],
   "source": [
    "len(jason3_wint201819), len(altika_wint201819), len(sentinel3_wint201819), len(cryosat2_wint201819)"
   ]
  },
  {
   "cell_type": "code",
   "execution_count": 97,
   "metadata": {},
   "outputs": [
    {
     "data": {
      "text/plain": [
       "(0.10533136372298885, 0.27258192362279793)"
      ]
     },
     "execution_count": 97,
     "metadata": {},
     "output_type": "execute_result"
    }
   ],
   "source": [
    "lj, ljs"
   ]
  },
  {
   "cell_type": "code",
   "execution_count": 446,
   "metadata": {},
   "outputs": [
    {
     "name": "stderr",
     "output_type": "stream",
     "text": [
      "<ipython-input-446-330989f2d922>:1: SettingWithCopyWarning: \n",
      "A value is trying to be set on a copy of a slice from a DataFrame.\n",
      "Try using .loc[row_indexer,col_indexer] = value instead\n",
      "\n",
      "See the caveats in the documentation: https://pandas.pydata.org/pandas-docs/stable/user_guide/indexing.html#returning-a-view-versus-a-copy\n",
      "  js_wint201819['swh_trans'] , l002 = stats.boxcox(js_wint201819['swh'])\n",
      "<ipython-input-446-330989f2d922>:2: SettingWithCopyWarning: \n",
      "A value is trying to be set on a copy of a slice from a DataFrame.\n",
      "Try using .loc[row_indexer,col_indexer] = value instead\n",
      "\n",
      "See the caveats in the documentation: https://pandas.pydata.org/pandas-docs/stable/user_guide/indexing.html#returning-a-view-versus-a-copy\n",
      "  js_wint201819['ws_trans'] , l012 = stats.boxcox(js_wint201819['wind_speed'])\n"
     ]
    }
   ],
   "source": [
    "js_wint201819['swh_trans'] , l002 = stats.boxcox(js_wint201819['swh'])\n",
    "js_wint201819['ws_trans'] , l012 = stats.boxcox(js_wint201819['wind_speed'])"
   ]
  },
  {
   "cell_type": "code",
   "execution_count": 447,
   "metadata": {},
   "outputs": [
    {
     "name": "stderr",
     "output_type": "stream",
     "text": [
      "<ipython-input-447-fb6b4df858b5>:1: SettingWithCopyWarning: \n",
      "A value is trying to be set on a copy of a slice from a DataFrame.\n",
      "Try using .loc[row_indexer,col_indexer] = value instead\n",
      "\n",
      "See the caveats in the documentation: https://pandas.pydata.org/pandas-docs/stable/user_guide/indexing.html#returning-a-view-versus-a-copy\n",
      "  jss_wint201819['swh_trans'] , l003 = stats.boxcox(jss_wint201819['swh'])\n",
      "<ipython-input-447-fb6b4df858b5>:2: SettingWithCopyWarning: \n",
      "A value is trying to be set on a copy of a slice from a DataFrame.\n",
      "Try using .loc[row_indexer,col_indexer] = value instead\n",
      "\n",
      "See the caveats in the documentation: https://pandas.pydata.org/pandas-docs/stable/user_guide/indexing.html#returning-a-view-versus-a-copy\n",
      "  jss_wint201819['ws_trans'] , l013 = stats.boxcox(jss_wint201819['wind_speed'])\n"
     ]
    }
   ],
   "source": [
    "jss_wint201819['swh_trans'] , l003 = stats.boxcox(jss_wint201819['swh'])\n",
    "jss_wint201819['ws_trans'] , l013 = stats.boxcox(jss_wint201819['wind_speed'])"
   ]
  },
  {
   "cell_type": "code",
   "execution_count": 89,
   "metadata": {},
   "outputs": [
    {
     "data": {
      "text/plain": [
       "Text(370.61363636363626, 0.5, 'Probability Density')"
      ]
     },
     "execution_count": 89,
     "metadata": {},
     "output_type": "execute_result"
    },
    {
     "data": {
      "image/png": "[encoded data removed]",
      "text/plain": [
       "<Figure size 720x360 with 2 Axes>"
      ]
     },
     "metadata": {
      "needs_background": "light"
     },
     "output_type": "display_data"
    }
   ],
   "source": [
    "from itertools import count\n",
    "fig, ax_lst = plt.subplots(1, 2,figsize=(10, 5))\n",
    "\n",
    "fig.tight_layout(pad=4)\n",
    "\n",
    "def label_subplots(ax_lst, *, upper_case=True,\n",
    "                   offset_points=(-5, -5)):\n",
    "    start_ord = 65 if upper_case else 97\n",
    "    for ax, lab in zip(np.ravel(ax_lst), (chr(j) for j in count(start_ord))):\n",
    "        ax.annotate(lab, (1, 1),\n",
    "                    xytext=offset_points,\n",
    "                    xycoords='axes fraction',\n",
    "                    textcoords='offset points',\n",
    "                    ha='right', va='top', fontsize=14, fontweight='bold')\n",
    "\n",
    "\n",
    "label_subplots(ax_lst, upper_case=True)\n",
    "\n",
    "# Figure 1\n",
    "\n",
    "ax_lst[0].hist(altimeters_wint201920['wind_speed'],bins=np.arange(0,25,1),density=True)\n",
    "\n",
    "ax_lst[0].grid(linestyle='--',alpha=0.5)\n",
    "ax_lst[0].set_xlim(0,25)\n",
    "ax_lst[0].set_ylim(0,0.16)\n",
    "\n",
    "ax_lst[0].set_ylabel('Probability Density',fontsize=12)\n",
    "ax_lst[0].set_xlabel('Altimeter $H_{s}$ (m)',fontsize=12)\n",
    "#ax_lst[0].set_ylim(0,3500)\n",
    "\n",
    "# Figure 2\n",
    "\n",
    "ax_lst[1].hist(altimeters_wint201920['ws_trans'],bins=np.arange(-2,10,0.5),density=True)\n",
    "#ax_lst[1].hist(altimeters['log_swh'],bins=np.arange(-2,2,0.1),alpha=0.5)\n",
    "ax_lst[1].grid(linestyle='--',alpha=0.5)\n",
    "ax_lst[1].set_xlim(-2,8)\n",
    "ax_lst[1].set_ylim(0,0.5)\n",
    "\n",
    "ax_lst[1].set_xlabel('Transformed Altimeter $H_{s}$',fontsize=12)\n",
    "ax_lst[1].set_ylabel('Probability Density',fontsize=12)\n",
    "#ax_lst[1].set_ylim(0,3500)\n",
    "\n",
    "#plt.savefig('altimeter_transobs_swh.png',dpi=300,bbox_inches='tight')"
   ]
  },
  {
   "cell_type": "code",
   "execution_count": 15,
   "metadata": {},
   "outputs": [
    {
     "data": {
      "text/plain": [
       "Text(288.49090909090904, 0.5, 'Number of Observations')"
      ]
     },
     "execution_count": 15,
     "metadata": {},
     "output_type": "execute_result"
    },
    {
     "data": {
      "image/png": "[encoded data removed]",
      "text/plain": [
       "<Figure size 576x288 with 2 Axes>"
      ]
     },
     "metadata": {
      "needs_background": "light"
     },
     "output_type": "display_data"
    }
   ],
   "source": [
    "fig, ax_lst = plt.subplots(1, 2,figsize=(8, 4))\n",
    "\n",
    "fig.tight_layout(pad=4)\n",
    "\n",
    "def label_subplots(ax_lst, *, upper_case=True,\n",
    "                   offset_points=(-5, -5)):\n",
    "    start_ord = 65 if upper_case else 97\n",
    "    for ax, lab in zip(np.ravel(ax_lst), (chr(j) for j in count(start_ord))):\n",
    "        ax.annotate(lab, (1, 1),\n",
    "                    xytext=offset_points,\n",
    "                    xycoords='axes fraction',\n",
    "                    textcoords='offset points',\n",
    "                    ha='right', va='top', fontsize=14, fontweight='bold')\n",
    "\n",
    "\n",
    "label_subplots(ax_lst, upper_case=True)\n",
    "\n",
    "# Figure 1\n",
    "\n",
    "ax_lst[0].hist(altimeters_wint201819['wind_speed'],bins=np.arange(0,25,1))\n",
    "\n",
    "ax_lst[0].grid(linestyle='--',alpha=0.5)\n",
    "\n",
    "ax_lst[0].set_ylabel('Number of obserations',fontsize=12)\n",
    "ax_lst[0].set_xlabel('Altimeter $H_{s}$ (m)',fontsize=12)\n",
    "#ax_lst[0].set_ylim(0,3500)\n",
    "\n",
    "# Figure 2\n",
    "\n",
    "ax_lst[1].hist(altimeters_wint201819['ws_trans'],bins=np.arange(-5,10,0.2))\n",
    "#ax_lst[1].hist(altimeters['log_swh'],bins=np.arange(-2,2,0.1),alpha=0.5)\n",
    "ax_lst[1].grid(linestyle='--',alpha=0.5)\n",
    "\n",
    "ax_lst[1].set_xlabel('Transformed Altimeter $H_{s}$',fontsize=12)\n",
    "ax_lst[1].set_ylabel('Number of Observations',fontsize=12)\n",
    "#ax_lst[1].set_ylim(0,3500)\n",
    "\n",
    "#plt.savefig('hist_SNE_altimeter_obs_swh.png',dpi=300,bbox_inches='tight')"
   ]
  },
  {
   "cell_type": "code",
   "execution_count": 49,
   "metadata": {},
   "outputs": [],
   "source": [
    "r1 = stats.probplot(altimeters['wind_speed'])[1][2]\n",
    "r2 = stats.probplot(altimeters['ws_trans'])[1][2]"
   ]
  },
  {
   "cell_type": "code",
   "execution_count": 48,
   "metadata": {},
   "outputs": [
    {
     "data": {
      "text/plain": [
       "Text(0.1, 0.9, 'r = $0.9979$')"
      ]
     },
     "execution_count": 48,
     "metadata": {},
     "output_type": "execute_result"
    },
    {
     "data": {
      "image/png": "[encoded data removed]",
      "text/plain": [
       "<Figure size 864x432 with 2 Axes>"
      ]
     },
     "metadata": {
      "needs_background": "light"
     },
     "output_type": "display_data"
    }
   ],
   "source": [
    "fig, ax_lst = plt.subplots(1, 2,figsize=(12, 6))\n",
    "\n",
    "fig.tight_layout(pad=4)\n",
    "\n",
    "def label_subplots(ax_lst, *, upper_case=True,\n",
    "                   offset_points=(-5, -5)):\n",
    "    start_ord = 65 if upper_case else 97\n",
    "    for ax, lab in zip(np.ravel(ax_lst), (chr(j) for j in count(start_ord))):\n",
    "        ax.annotate(lab, (1, 0.1),\n",
    "                    xytext=offset_points,\n",
    "                    xycoords='axes fraction',\n",
    "                    textcoords='offset points',\n",
    "                    ha='right', va='top', fontsize=14, fontweight='bold')\n",
    "\n",
    "\n",
    "label_subplots(ax_lst, upper_case=True)\n",
    "\n",
    "# Figure 1\n",
    "stats.probplot(altimeters['wind_speed'], dist=stats.norm, plot=ax_lst[0])\n",
    "ax_lst[0].grid(linestyle='--')\n",
    "\n",
    "ax_lst[0].set_title('Transformed $H_{s}$ Normal Probability Plot (log)')\n",
    "ax_lst[0].set_xlabel('Theoretical Quantiles',fontsize=12)\n",
    "ax_lst[0].set_ylabel('Observed Values',fontsize=12)\n",
    "\n",
    "props0 = dict(boxstyle='square', facecolor='white', alpha=1)\n",
    "\n",
    "textstr0 = (r'r = $%.4f $' % (r1,))\n",
    "\n",
    "ax_lst[0].text(0.1,0.9,textstr0,fontsize=10,bbox=props0, transform=ax_lst[0].transAxes)\n",
    "\n",
    "\n",
    "# Figure 2\n",
    "stats.probplot(altimeters['ws_trans'], dist=stats.norm, plot=ax_lst[1])\n",
    "ax_lst[1].grid(linestyle='--')\n",
    "\n",
    "ax_lst[1].set_title('Transformed $H_{s}$ Normal Probability Plot (power)')\n",
    "ax_lst[1].set_xlabel('Theoretical Quantiles',fontsize=12)\n",
    "ax_lst[1].set_ylabel('Observed Values',fontsize=12)\n",
    "\n",
    "props0 = dict(boxstyle='square', facecolor='white', alpha=1)\n",
    "\n",
    "textstr0 = (r'r = $%.4f$' % (r2,))\n",
    "\n",
    "ax_lst[1].text(0.1,0.9,textstr0,fontsize=10,bbox=props0, transform=ax_lst[1].transAxes)\n",
    "\n",
    "\n",
    "#plt.savefig('probplot_swh.png',dpi=300,bbox_inches='tight')"
   ]
  },
  {
   "cell_type": "markdown",
   "metadata": {},
   "source": [
    "### 1st Method: pyKrige"
   ]
  },
  {
   "cell_type": "code",
   "execution_count": 77,
   "metadata": {},
   "outputs": [
    {
     "data": {
      "image/png": "[encoded data removed]",
      "text/plain": [
       "<Figure size 432x288 with 1 Axes>"
      ]
     },
     "metadata": {
      "needs_background": "light"
     },
     "output_type": "display_data"
    }
   ],
   "source": [
    "OK_01 = OrdinaryKriging(altimeters_wint2019['lon'].values, altimeters_wint2019['lat'].values, altimeters_wint2019['ws_trans'].values, \n",
    "                variogram_model='linear', nlags=93,\n",
    "                weight=True, enable_plotting=True, coordinates_type='geographic')"
   ]
  },
  {
   "cell_type": "code",
   "execution_count": 78,
   "metadata": {},
   "outputs": [
    {
     "data": {
      "image/png": "[encoded data removed]",
      "text/plain": [
       "<Figure size 432x288 with 1 Axes>"
      ]
     },
     "metadata": {
      "needs_background": "light"
     },
     "output_type": "display_data"
    }
   ],
   "source": [
    "OK_02 = OrdinaryKriging(altimeters_summ2019['lon'].values, altimeters_summ2019['lat'].values, altimeters_summ2019['ws_trans'].values, \n",
    "                variogram_model='linear', nlags=93,\n",
    "                weight=True, enable_plotting=True, coordinates_type='geographic')"
   ]
  },
  {
   "cell_type": "code",
   "execution_count": null,
   "metadata": {},
   "outputs": [],
   "source": []
  },
  {
   "cell_type": "code",
   "execution_count": 37,
   "metadata": {},
   "outputs": [
    {
     "data": {
      "image/png": "[encoded data removed]",
      "text/plain": [
       "<Figure size 432x288 with 1 Axes>"
      ]
     },
     "metadata": {
      "needs_background": "light"
     },
     "output_type": "display_data"
    }
   ],
   "source": [
    "OK_03 = OrdinaryKriging(altimeters_wint2020['lon'].values, altimeters_wint2020['lat'].values, altimeters_wint2020['ws_trans'].values, \n",
    "                variogram_model='linear', nlags=93,\n",
    "                weight=True, enable_plotting=True, coordinates_type='geographic')"
   ]
  },
  {
   "cell_type": "code",
   "execution_count": 38,
   "metadata": {},
   "outputs": [
    {
     "data": {
      "image/png": "[encoded data removed]",
      "text/plain": [
       "<Figure size 432x288 with 1 Axes>"
      ]
     },
     "metadata": {
      "needs_background": "light"
     },
     "output_type": "display_data"
    }
   ],
   "source": [
    "OK_04 = OrdinaryKriging(altimeters_summ2020['lon'].values, altimeters_summ2020['lat'].values, altimeters_summ2020['ws_trans'].values, \n",
    "                variogram_model='linear', nlags=93,\n",
    "                weight=True, enable_plotting=True, coordinates_type='geographic')"
   ]
  },
  {
   "cell_type": "code",
   "execution_count": 66,
   "metadata": {},
   "outputs": [],
   "source": [
    "altimeters_wint['swh_trans'] , l001 = stats.boxcox(altimeters_wint['swh'])\n",
    "altimeters_summ['swh_trans'] , l002 = stats.boxcox(altimeters_summ['swh'])\n",
    "altimeters_wint['ws_trans'] , l003 = stats.boxcox(altimeters_wint['wind_speed'])\n",
    "altimeters_summ['ws_trans'] , l004 = stats.boxcox(altimeters_summ['wind_speed'])"
   ]
  },
  {
   "cell_type": "code",
   "execution_count": 84,
   "metadata": {},
   "outputs": [
    {
     "data": {
      "image/png": "[encoded data removed]",
      "text/plain": [
       "<Figure size 432x288 with 1 Axes>"
      ]
     },
     "metadata": {
      "needs_background": "light"
     },
     "output_type": "display_data"
    }
   ],
   "source": [
    "OK1 = OrdinaryKriging(altimeters_wint['lon'].values, altimeters_wint['lat'].values, altimeters_wint['swh_trans'].values, \n",
    "                variogram_model='linear', nlags=95,\n",
    "                weight=True, enable_plotting=True, coordinates_type='geographic')"
   ]
  },
  {
   "cell_type": "code",
   "execution_count": 68,
   "metadata": {},
   "outputs": [
    {
     "data": {
      "image/png": "[encoded data removed]",
      "text/plain": [
       "<Figure size 432x288 with 1 Axes>"
      ]
     },
     "metadata": {
      "needs_background": "light"
     },
     "output_type": "display_data"
    }
   ],
   "source": [
    "OK2 = OrdinaryKriging(altimeters_summ['lon'].values, altimeters_summ['lat'].values, altimeters_summ['swh_trans'].values, \n",
    "                variogram_model='linear', nlags=20,\n",
    "                weight=True, enable_plotting=True, coordinates_type='geographic')"
   ]
  },
  {
   "cell_type": "code",
   "execution_count": 86,
   "metadata": {},
   "outputs": [],
   "source": [
    "z1, ss1 = OK1.execute(style='masked', xpoints= x, ypoints= y, mask= mask1)\n",
    "#z2, ss2 = OK2.execute(style='masked', xpoints= x, ypoints= y, mask= mask1)"
   ]
  },
  {
   "cell_type": "code",
   "execution_count": 87,
   "metadata": {},
   "outputs": [],
   "source": [
    "z01 = inv_boxcox(z1,l001)\n",
    "#z02 = inv_boxcox(z2,l002)"
   ]
  },
  {
   "cell_type": "code",
   "execution_count": 440,
   "metadata": {},
   "outputs": [
    {
     "data": {
      "image/png": "[encoded data removed]",
      "text/plain": [
       "<Figure size 432x288 with 1 Axes>"
      ]
     },
     "metadata": {
      "needs_background": "light"
     },
     "output_type": "display_data"
    }
   ],
   "source": [
    "OK3 = OrdinaryKriging(sentinel3_wint201819['lon'].values, sentinel3_wint201819['lat'].values, sentinel3_wint201819['ws_trans'].values, \n",
    "                variogram_model='linear', nlags=20,\n",
    "                weight=True, enable_plotting=True, coordinates_type='geographic')"
   ]
  },
  {
   "cell_type": "code",
   "execution_count": 441,
   "metadata": {},
   "outputs": [
    {
     "data": {
      "image/png": "[encoded data removed]",
      "text/plain": [
       "<Figure size 432x288 with 1 Axes>"
      ]
     },
     "metadata": {
      "needs_background": "light"
     },
     "output_type": "display_data"
    }
   ],
   "source": [
    "OK1 = OrdinaryKriging(jason3_wint201819['lon'].values, jason3_wint201819['lat'].values, jason3_wint201819['ws_trans'].values, \n",
    "                variogram_model='linear', nlags=20,\n",
    "                weight=True, enable_plotting=True, coordinates_type='geographic')"
   ]
  },
  {
   "cell_type": "code",
   "execution_count": 450,
   "metadata": {},
   "outputs": [
    {
     "data": {
      "image/png": "[encoded data removed]",
      "text/plain": [
       "<Figure size 432x288 with 1 Axes>"
      ]
     },
     "metadata": {
      "needs_background": "light"
     },
     "output_type": "display_data"
    }
   ],
   "source": [
    "OK2 = OrdinaryKriging(js_wint201819['lon'].values, js_wint201819['lat'].values, js_wint201819['ws_trans'].values, \n",
    "                variogram_model='spherical', nlags=20,\n",
    "                weight=True, enable_plotting=True, coordinates_type='geographic')"
   ]
  },
  {
   "cell_type": "code",
   "execution_count": 451,
   "metadata": {},
   "outputs": [
    {
     "data": {
      "image/png": "[encoded data removed]",
      "text/plain": [
       "<Figure size 432x288 with 1 Axes>"
      ]
     },
     "metadata": {
      "needs_background": "light"
     },
     "output_type": "display_data"
    }
   ],
   "source": [
    "OK3 = OrdinaryKriging(jss_wint201819['lon'].values, jss_wint201819['lat'].values, jss_wint201819['ws_trans'].values, \n",
    "                variogram_model='spherical', nlags=20,\n",
    "                weight=True, enable_plotting=True, coordinates_type='geographic')"
   ]
  },
  {
   "cell_type": "code",
   "execution_count": 30,
   "metadata": {},
   "outputs": [
    {
     "data": {
      "text/plain": [
       "(48, 32)"
      ]
     },
     "execution_count": 30,
     "metadata": {},
     "output_type": "execute_result"
    }
   ],
   "source": [
    "mask1.shape"
   ]
  },
  {
   "cell_type": "code",
   "execution_count": 85,
   "metadata": {},
   "outputs": [],
   "source": [
    "x = np.arange(-75,-69,0.125)\n",
    "y = np.arange(39,43,0.125)"
   ]
  },
  {
   "cell_type": "code",
   "execution_count": 80,
   "metadata": {},
   "outputs": [],
   "source": [
    "# wind (winter 19, summer 19)\n",
    "z1, ss1 = OK_01.execute(style='masked', xpoints= x, ypoints= y, mask= mask1)\n",
    "z2, ss2 = OK_02.execute(style='masked', xpoints= x, ypoints= y, mask= mask1)"
   ]
  },
  {
   "cell_type": "code",
   "execution_count": 81,
   "metadata": {},
   "outputs": [],
   "source": [
    "z01 = inv_boxcox(z1,l02)\n",
    "z02 = inv_boxcox(z2,l04)"
   ]
  },
  {
   "cell_type": "code",
   "execution_count": 41,
   "metadata": {},
   "outputs": [],
   "source": [
    "#wind (winter 20, summer 20)\n",
    "z3, ss3 = OK_03.execute(style='masked', xpoints= x, ypoints= y, mask= mask1)\n",
    "z4, ss4 = OK_04.execute(style='masked', xpoints= x, ypoints= y, mask= mask1)"
   ]
  },
  {
   "cell_type": "code",
   "execution_count": 42,
   "metadata": {},
   "outputs": [],
   "source": [
    "z03 = inv_boxcox(z3,l06)\n",
    "z04 = inv_boxcox(z4,l08)"
   ]
  },
  {
   "cell_type": "code",
   "execution_count": 71,
   "metadata": {},
   "outputs": [],
   "source": [
    "z1, ss1 = OK_1.execute('grid', xpoints= x, ypoints= y)"
   ]
  },
  {
   "cell_type": "code",
   "execution_count": 469,
   "metadata": {},
   "outputs": [],
   "source": [
    "#wave\n",
    "z5, ss5 = OK_01.execute(style='masked', xpoints= x, ypoints= y, mask= mask1)\n",
    "z6, ss6 = OK_02.execute(style='masked', xpoints= x, ypoints= y, mask= mask1)"
   ]
  },
  {
   "cell_type": "code",
   "execution_count": 470,
   "metadata": {},
   "outputs": [],
   "source": [
    "z05 = inv_boxcox(z5,l01)\n",
    "z06 = inv_boxcox(z6,l07)"
   ]
  },
  {
   "cell_type": "code",
   "execution_count": 288,
   "metadata": {},
   "outputs": [],
   "source": [
    "#z1, ss1 = OK_1.execute(style='masked', xpoints= x, ypoints= y, mask= mask1)\n",
    "z2, ss2 = OK_01.execute('grid',xpoints= x, ypoints= y)"
   ]
  },
  {
   "cell_type": "code",
   "execution_count": 289,
   "metadata": {},
   "outputs": [],
   "source": [
    "z02 = inv_boxcox(z2,l04)"
   ]
  },
  {
   "cell_type": "code",
   "execution_count": 453,
   "metadata": {},
   "outputs": [],
   "source": [
    "zj1, ssj1 = OK1.execute(style='masked', xpoints= x, ypoints= y, mask= mask1)\n",
    "zjs1, ssjs1 = OK2.execute(style='masked', xpoints= x, ypoints= y, mask= mask1)\n",
    "zjss1, ssjss1 = OK3.execute(style='masked', xpoints= x, ypoints= y, mask= mask1)"
   ]
  },
  {
   "cell_type": "code",
   "execution_count": 372,
   "metadata": {},
   "outputs": [
    {
     "data": {
      "text/plain": [
       "(0.9438126003839802, 1.1737801410741926)"
      ]
     },
     "execution_count": 372,
     "metadata": {},
     "output_type": "execute_result"
    }
   ],
   "source": [
    "#altika & cryosat2\n",
    "np.sqrt(ssjs1).min(),np.sqrt(ssjs1).max()"
   ]
  },
  {
   "cell_type": "code",
   "execution_count": 455,
   "metadata": {},
   "outputs": [
    {
     "data": {
      "text/plain": [
       "(1.1430693046385982, 1.211953576342687)"
      ]
     },
     "execution_count": 455,
     "metadata": {},
     "output_type": "execute_result"
    }
   ],
   "source": [
    "#altika & jason\n",
    "np.sqrt(ssjs1).min(),np.sqrt(ssjs1).max()"
   ]
  },
  {
   "cell_type": "code",
   "execution_count": 382,
   "metadata": {},
   "outputs": [
    {
     "data": {
      "text/plain": [
       "(0.9982691348153729, 1.1737801410741926)"
      ]
     },
     "execution_count": 382,
     "metadata": {},
     "output_type": "execute_result"
    }
   ],
   "source": [
    "#altika, cryosat2 & jason3\n",
    "np.sqrt(ssjss1).min(),np.sqrt(ssjs1).max()"
   ]
  },
  {
   "cell_type": "code",
   "execution_count": 454,
   "metadata": {},
   "outputs": [
    {
     "data": {
      "text/plain": [
       "(1.0025091898008112, 1.211953576342687)"
      ]
     },
     "execution_count": 454,
     "metadata": {},
     "output_type": "execute_result"
    }
   ],
   "source": [
    "#altika, cryosat2 & jason3 linear 20 lags\n",
    "np.sqrt(ssjss1).min(),np.sqrt(ssjs1).max()"
   ]
  },
  {
   "cell_type": "code",
   "execution_count": 390,
   "metadata": {},
   "outputs": [
    {
     "data": {
      "text/plain": [
       "(1.100122091197431, 1.1384166353732912)"
      ]
     },
     "execution_count": 390,
     "metadata": {},
     "output_type": "execute_result"
    }
   ],
   "source": [
    "#all\n",
    "np.sqrt(ss1).min(),np.sqrt(ss1).max()"
   ]
  },
  {
   "cell_type": "code",
   "execution_count": 456,
   "metadata": {},
   "outputs": [
    {
     "data": {
      "text/plain": [
       "(1.0961961731000007, 1.1373693453551772)"
      ]
     },
     "execution_count": 456,
     "metadata": {},
     "output_type": "execute_result"
    }
   ],
   "source": [
    "#all\n",
    "np.sqrt(ss1).min(),np.sqrt(ss1).max()"
   ]
  },
  {
   "cell_type": "code",
   "execution_count": 344,
   "metadata": {},
   "outputs": [
    {
     "data": {
      "text/plain": [
       "(0.6092786624406422, 1.0254183734806848)"
      ]
     },
     "execution_count": 344,
     "metadata": {},
     "output_type": "execute_result"
    }
   ],
   "source": [
    "#sentinel 3 only errors\n",
    "np.sqrt(ssj1).min(),np.sqrt(ssj1).max()"
   ]
  },
  {
   "cell_type": "code",
   "execution_count": 325,
   "metadata": {},
   "outputs": [
    {
     "data": {
      "text/plain": [
       "(0.7579846192375922, 1.5926830342884026)"
      ]
     },
     "execution_count": 325,
     "metadata": {},
     "output_type": "execute_result"
    }
   ],
   "source": [
    "#altika only errors\n",
    "np.sqrt(ssj1).min(),np.sqrt(ssj1).max()"
   ]
  },
  {
   "cell_type": "code",
   "execution_count": null,
   "metadata": {},
   "outputs": [],
   "source": [
    "#jason3 only errors\n",
    "np.sqrt(ssj1).min(),np.sqrt(ssj1).max()"
   ]
  },
  {
   "cell_type": "code",
   "execution_count": 88,
   "metadata": {},
   "outputs": [],
   "source": [
    "x, y = np.mgrid[-75:-69:48j, 39:43:32j]"
   ]
  },
  {
   "cell_type": "code",
   "execution_count": 79,
   "metadata": {},
   "outputs": [
    {
     "data": {
      "text/html": [
       "<div>\n",
       "<style scoped>\n",
       "    .dataframe tbody tr th:only-of-type {\n",
       "        vertical-align: middle;\n",
       "    }\n",
       "\n",
       "    .dataframe tbody tr th {\n",
       "        vertical-align: top;\n",
       "    }\n",
       "\n",
       "    .dataframe thead th {\n",
       "        text-align: right;\n",
       "    }\n",
       "</style>\n",
       "<table border=\"1\" class=\"dataframe\">\n",
       "  <thead>\n",
       "    <tr style=\"text-align: right;\">\n",
       "      <th></th>\n",
       "      <th>Buoy #</th>\n",
       "      <th>Longitude</th>\n",
       "      <th>Latitude</th>\n",
       "    </tr>\n",
       "  </thead>\n",
       "  <tbody>\n",
       "    <tr>\n",
       "      <th>0</th>\n",
       "      <td>44097</td>\n",
       "      <td>-71.127</td>\n",
       "      <td>40.969</td>\n",
       "    </tr>\n",
       "    <tr>\n",
       "      <th>1</th>\n",
       "      <td>44020</td>\n",
       "      <td>-70.279</td>\n",
       "      <td>41.493</td>\n",
       "    </tr>\n",
       "    <tr>\n",
       "      <th>2</th>\n",
       "      <td>44025</td>\n",
       "      <td>-73.164</td>\n",
       "      <td>40.251</td>\n",
       "    </tr>\n",
       "    <tr>\n",
       "      <th>3</th>\n",
       "      <td>44017</td>\n",
       "      <td>-72.049</td>\n",
       "      <td>40.693</td>\n",
       "    </tr>\n",
       "    <tr>\n",
       "      <th>4</th>\n",
       "      <td>44065</td>\n",
       "      <td>-73.703</td>\n",
       "      <td>40.369</td>\n",
       "    </tr>\n",
       "    <tr>\n",
       "      <th>5</th>\n",
       "      <td>44039</td>\n",
       "      <td>-72.655</td>\n",
       "      <td>41.138</td>\n",
       "    </tr>\n",
       "    <tr>\n",
       "      <th>6</th>\n",
       "      <td>44008</td>\n",
       "      <td>-69.248</td>\n",
       "      <td>40.504</td>\n",
       "    </tr>\n",
       "    <tr>\n",
       "      <th>7</th>\n",
       "      <td>44066</td>\n",
       "      <td>-72.644</td>\n",
       "      <td>39.618</td>\n",
       "    </tr>\n",
       "    <tr>\n",
       "      <th>8</th>\n",
       "      <td>44091</td>\n",
       "      <td>-73.769</td>\n",
       "      <td>39.778</td>\n",
       "    </tr>\n",
       "  </tbody>\n",
       "</table>\n",
       "</div>"
      ],
      "text/plain": [
       "   Buoy #  Longitude  Latitude\n",
       "0   44097    -71.127    40.969\n",
       "1   44020    -70.279    41.493\n",
       "2   44025    -73.164    40.251\n",
       "3   44017    -72.049    40.693\n",
       "4   44065    -73.703    40.369\n",
       "5   44039    -72.655    41.138\n",
       "6   44008    -69.248    40.504\n",
       "7   44066    -72.644    39.618\n",
       "8   44091    -73.769    39.778"
      ]
     },
     "execution_count": 79,
     "metadata": {},
     "output_type": "execute_result"
    }
   ],
   "source": [
    "buoys = pd.read_excel('buoys.xlsx', 'Sheet1', header=0, index_col=None, usecols=[1,3,4])\n",
    "buoys"
   ]
  },
  {
   "cell_type": "code",
   "execution_count": 62,
   "metadata": {},
   "outputs": [
    {
     "data": {
      "text/plain": [
       "32"
      ]
     },
     "execution_count": 62,
     "metadata": {},
     "output_type": "execute_result"
    }
   ],
   "source": [
    "len(z01)"
   ]
  },
  {
   "cell_type": "code",
   "execution_count": 63,
   "metadata": {},
   "outputs": [
    {
     "data": {
      "text/plain": [
       "masked_array(\n",
       "  data=[[0.9897532603506928, --, 1.04027206685905, ...,\n",
       "         2.0452056140757917, 2.0264590448629898, 2.017541500042183],\n",
       "        [0.9765030912041472, --, --, ..., 2.0175781342363552,\n",
       "         1.9969672450928662, 1.9899849396212141],\n",
       "        [--, --, --, ..., 1.9877953307126395, 1.9694395013502504,\n",
       "         1.9640870915812185],\n",
       "        ...,\n",
       "        [--, --, --, ..., 1.2857805173850185, 1.2518798440971595,\n",
       "         1.2393798544764079],\n",
       "        [--, --, --, ..., 1.2622699894470326, 1.2316390026684068,\n",
       "         1.2209183649519038],\n",
       "        [--, --, --, ..., 1.2458110252867496, 1.2182496110980463,\n",
       "         1.20654655871557]],\n",
       "  mask=[[False,  True, False, ..., False, False, False],\n",
       "        [False,  True,  True, ..., False, False, False],\n",
       "        [ True,  True,  True, ..., False, False, False],\n",
       "        ...,\n",
       "        [ True,  True,  True, ..., False, False, False],\n",
       "        [ True,  True,  True, ..., False, False, False],\n",
       "        [ True,  True,  True, ..., False, False, False]],\n",
       "  fill_value=1e+20)"
      ]
     },
     "execution_count": 63,
     "metadata": {},
     "output_type": "execute_result"
    }
   ],
   "source": [
    "z01"
   ]
  },
  {
   "cell_type": "code",
   "execution_count": 89,
   "metadata": {},
   "outputs": [
    {
     "name": "stderr",
     "output_type": "stream",
     "text": [
      "C:\\Users\\panmits86\\Anaconda3\\envs\\thesis\\lib\\site-packages\\cartopy\\mpl\\gridliner.py:319: UserWarning: The .xlabels_bottom attribute is deprecated. Please use .bottom_labels to toggle visibility instead.\n",
      "  warnings.warn('The .xlabels_bottom attribute is deprecated. Please '\n",
      "C:\\Users\\panmits86\\Anaconda3\\envs\\thesis\\lib\\site-packages\\cartopy\\mpl\\gridliner.py:343: UserWarning: The .ylabels_right attribute is deprecated. Please use .right_labels to toggle visibility instead.\n",
      "  warnings.warn('The .ylabels_right attribute is deprecated. Please '\n"
     ]
    },
    {
     "ename": "AttributeError",
     "evalue": "'MaskedArray' object has no attribute 'Τ'",
     "output_type": "error",
     "traceback": [
      "\u001b[1;31m---------------------------------------------------------------------------\u001b[0m",
      "\u001b[1;31mAttributeError\u001b[0m                            Traceback (most recent call last)",
      "\u001b[1;32m<ipython-input-89-6e96f8c617d0>\u001b[0m in \u001b[0;36m<module>\u001b[1;34m\u001b[0m\n\u001b[0;32m     44\u001b[0m \u001b[1;31m#norm = mpl.colors.Normalize(vmin=0., vmax=3)\u001b[0m\u001b[1;33m\u001b[0m\u001b[1;33m\u001b[0m\u001b[1;33m\u001b[0m\u001b[0m\n\u001b[0;32m     45\u001b[0m \u001b[1;33m\u001b[0m\u001b[0m\n\u001b[1;32m---> 46\u001b[1;33m \u001b[0mcs1\u001b[0m \u001b[1;33m=\u001b[0m \u001b[0max_lst\u001b[0m\u001b[1;33m[\u001b[0m\u001b[1;36m0\u001b[0m\u001b[1;33m]\u001b[0m\u001b[1;33m.\u001b[0m\u001b[0mcontourf\u001b[0m\u001b[1;33m(\u001b[0m\u001b[0mx\u001b[0m\u001b[1;33m,\u001b[0m \u001b[0my\u001b[0m\u001b[1;33m,\u001b[0m \u001b[0mz01\u001b[0m\u001b[1;33m.\u001b[0m\u001b[0mΤ\u001b[0m\u001b[1;33m,\u001b[0m \u001b[0mlevels\u001b[0m\u001b[1;33m=\u001b[0m\u001b[0mnp\u001b[0m\u001b[1;33m.\u001b[0m\u001b[0marange\u001b[0m\u001b[1;33m(\u001b[0m\u001b[1;36m0.5\u001b[0m\u001b[1;33m,\u001b[0m\u001b[1;36m2.3\u001b[0m\u001b[1;33m,\u001b[0m\u001b[1;36m0.1\u001b[0m\u001b[1;33m)\u001b[0m\u001b[1;33m,\u001b[0m \u001b[0mcmap\u001b[0m\u001b[1;33m=\u001b[0m\u001b[0mcmap\u001b[0m\u001b[1;33m,\u001b[0m \u001b[0mcorner_mask\u001b[0m\u001b[1;33m=\u001b[0m\u001b[1;32mFalse\u001b[0m\u001b[1;33m)\u001b[0m\u001b[1;33m\u001b[0m\u001b[1;33m\u001b[0m\u001b[0m\n\u001b[0m\u001b[0;32m     47\u001b[0m \u001b[0mcs01\u001b[0m \u001b[1;33m=\u001b[0m \u001b[0max_lst\u001b[0m\u001b[1;33m[\u001b[0m\u001b[1;36m0\u001b[0m\u001b[1;33m]\u001b[0m\u001b[1;33m.\u001b[0m\u001b[0mcontour\u001b[0m\u001b[1;33m(\u001b[0m\u001b[0mcs1\u001b[0m\u001b[1;33m,\u001b[0m \u001b[0mlevels\u001b[0m\u001b[1;33m=\u001b[0m\u001b[0mnp\u001b[0m\u001b[1;33m.\u001b[0m\u001b[0marange\u001b[0m\u001b[1;33m(\u001b[0m\u001b[1;36m0.5\u001b[0m\u001b[1;33m,\u001b[0m\u001b[1;36m2.55\u001b[0m\u001b[1;33m,\u001b[0m\u001b[1;36m0.2\u001b[0m\u001b[1;33m)\u001b[0m\u001b[1;33m,\u001b[0m \u001b[0mcolors\u001b[0m\u001b[1;33m=\u001b[0m\u001b[1;34m'grey'\u001b[0m\u001b[1;33m,\u001b[0m\u001b[0mlinewidths\u001b[0m\u001b[1;33m=\u001b[0m\u001b[1;36m0.5\u001b[0m\u001b[1;33m)\u001b[0m\u001b[1;33m\u001b[0m\u001b[1;33m\u001b[0m\u001b[0m\n\u001b[0;32m     48\u001b[0m \u001b[1;31m#cs2 = ax_lst[0].pcolormesh(x, y, z13.T, cmap=cmap, norm=norm)\u001b[0m\u001b[1;33m\u001b[0m\u001b[1;33m\u001b[0m\u001b[1;33m\u001b[0m\u001b[0m\n",
      "\u001b[1;31mAttributeError\u001b[0m: 'MaskedArray' object has no attribute 'Τ'"
     ]
    },
    {
     "data": {
      "image/png": "[encoded data removed]",
      "text/plain": [
       "<Figure size 720x360 with 2 Axes>"
      ]
     },
     "metadata": {
      "needs_background": "light"
     },
     "output_type": "display_data"
    }
   ],
   "source": [
    "from itertools import count\n",
    "fig, ax_lst = plt.subplots(1, 2,figsize=(10, 5), subplot_kw=dict(projection=ccrs.PlateCarree()), gridspec_kw={'hspace': 0.15, 'wspace': 0.05})\n",
    "\n",
    "#fig.tight_layout(pad=4)\n",
    "mpl.rcParams['font.size'] = 8\n",
    "\n",
    "def label_subplots(ax_lst, *, upper_case=True,\n",
    "                   offset_points=(-5, -5)):\n",
    "    start_ord = 65 if upper_case else 97\n",
    "    for ax, lab in zip(np.ravel(ax_lst), (chr(j) for j in count(start_ord))):\n",
    "        ax.annotate(lab, (0.07, 1),\n",
    "                    xytext=offset_points,\n",
    "                    xycoords='axes fraction',\n",
    "                    textcoords='offset points',\n",
    "                    ha='right', va='top', fontsize=14, fontweight='bold')\n",
    "\n",
    "\n",
    "label_subplots(ax_lst, upper_case=True)\n",
    "\n",
    "# Figure 1\n",
    "\n",
    "ax_lst[0].set_extent([-75, -69, 39, 43])\n",
    "\n",
    "gl = ax_lst[0].gridlines(draw_labels=True, linestyle='--',alpha=0.,linewidth=0.5)\n",
    "gl.xlabels_bottom = False\n",
    "gl.ylabels_right = False\n",
    "gl.xlocator = mticker.FixedLocator([-75, -74, -73, -72, -71, -70, -69])\n",
    "gl.ylocator = mticker.FixedLocator([39, 40, 41, 42, 43])\n",
    "gl.xformatter = LONGITUDE_FORMATTER\n",
    "gl.yformatter = LATITUDE_FORMATTER\n",
    "\n",
    "shp = shapereader.Reader('C:/Users/panmits86/Desktop/Python/SNE_shapefile/GSHHS_i_L1_SNE1.shp')\n",
    "for record, geometry in zip(shp.records(), shp.geometries()):\n",
    "    ax_lst[0].add_geometries([geometry], ccrs.PlateCarree(), facecolor='gray')\n",
    "    \n",
    "\n",
    "#cmap=cmaps.BlAqGrYeOrRe\n",
    "cmap=cmaps.WhiteBlueGreenYellowRed\n",
    "#cmap=cmaps.gui_default\n",
    "#bounds = np.array([0.,0.5,1.,1.5,2.,2.5,3])\n",
    "#bounds = np.arange(0,5,0.5)\n",
    "#norm = colors.BoundaryNorm(boundaries=bounds, ncolors=10)\n",
    "norm = mpl.colors.Normalize(vmin=0.5, vmax=2.5)\n",
    "#norm = mpl.colors.Normalize(vmin=0., vmax=3)\n",
    "\n",
    "cs1 = ax_lst[0].contourf(x, y, z01.Τ, levels=np.arange(0.5,2.3,0.1), cmap=cmap, corner_mask=False)\n",
    "cs01 = ax_lst[0].contour(cs1, levels=np.arange(0.5,2.55,0.2), colors='grey',linewidths=0.5)\n",
    "#cs2 = ax_lst[0].pcolormesh(x, y, z13.T, cmap=cmap, norm=norm)\n",
    "\n",
    "\n",
    "cax,kw = matplotlib.colorbar.make_axes(ax_lst,location='bottom',pad=0.05,aspect=80,shrink=0.7)\n",
    "\n",
    "out=fig.colorbar(cs1,cax=cax,extend='both',**kw)\n",
    "out.set_label('Significant Wave Height (m)',size=10)\n",
    "#ax.set_title('Kriging using 1Hz Altimeter Data (Winter Season 2017-18) 0.1deg Resolution',fontsize=14)\n",
    "\n",
    "\n",
    "\n",
    "\n",
    "# Figure 2\n",
    "\n",
    "ax_lst[1].set_extent([-75, -69, 39, 43])\n",
    "\n",
    "gl = ax_lst[1].gridlines(draw_labels=True, linestyle='--',alpha=0.,linewidth=0.5)\n",
    "gl.xlabels_bottom = False\n",
    "gl.ylabels_left = False\n",
    "gl.xlocator = mticker.FixedLocator([-75, -74, -73, -72, -71, -70, -69])\n",
    "gl.ylocator = mticker.FixedLocator([39, 40, 41, 42, 43])\n",
    "gl.xformatter = LONGITUDE_FORMATTER\n",
    "gl.yformatter = LATITUDE_FORMATTER\n",
    "\n",
    "shp = shapereader.Reader('C:/Users/panmits86/Desktop/Python/SNE_shapefile/GSHHS_i_L1_SNE1.shp')\n",
    "for record, geometry in zip(shp.records(), shp.geometries()):\n",
    "    ax_lst[1].add_geometries([geometry], ccrs.PlateCarree(), facecolor='gray')\n",
    "    \n",
    "\n",
    "#cmap=cmaps.BlAqGrYeOrRe\n",
    "#bounds = np.array([0.,0.5,1.,1.5,2.,2.5,3])\n",
    "#bounds = np.arange(0,5,0.5)\n",
    "#norm = colors.BoundaryNorm(boundaries=bounds, ncolors=10)\n",
    "#norm = mpl.colors.Normalize(vmin=3, vmax=10)\n",
    "#norm = mpl.colors.Normalize(vmin=0., vmax=3)\n",
    "\n",
    "#cs2 = ax_lst[1].contourf(x, y, z02.Τ, levels=cs1.levels, cmap=cmap, corner_mask=False)\n",
    "ax_lst[1].contour(cs2, levels=cs01.levels, colors='grey',linewidths=0.5)\n",
    "#cs2 = ax_lst[1].pcolormesh(x, y, z12.T, cmap=cmap, norm=norm)\n",
    "\n",
    "\"\"\"\n",
    "cax,kw = matplotlib.colorbar.make_axes(ax,location='bottom',pad=0.05,aspect=50)\n",
    "\n",
    "out=fig.colorbar(cs2,cax=cax,extend='both',**kw)\n",
    "out.set_label('Wind Speed (m/s)',size=12)\n",
    "#ax.set_title('Kriging using 1Hz Altimeter Data (Winter Season 2017-18) 0.1deg Resolution',fontsize=14)\n",
    "\n",
    "\n",
    "\n",
    "ax_lst[1].scatter(buoys['Longitude'], buoys['Latitude'], s=25, marker='x', color='red', label='NDBC Buoys & Metocean Stations',\n",
    "           transform=ccrs.PlateCarree())\n",
    "ax_lst[0].scatter(buoys['Longitude'], buoys['Latitude'], s=25, marker='x', color='red', label='NDBC Buoys & Metocean Stations',\n",
    "           transform=ccrs.PlateCarree())\n",
    "\"\"\"\n",
    "\n",
    "#plt.savefig('kriging_wintsumm2019_wave_expon427.png', dpi=300, bbox_inches='tight')"
   ]
  },
  {
   "cell_type": "code",
   "execution_count": 83,
   "metadata": {},
   "outputs": [
    {
     "name": "stderr",
     "output_type": "stream",
     "text": [
      "C:\\Users\\panmits86\\Anaconda3\\envs\\thesis\\lib\\site-packages\\cartopy\\mpl\\gridliner.py:319: UserWarning: The .xlabels_bottom attribute is deprecated. Please use .bottom_labels to toggle visibility instead.\n",
      "  warnings.warn('The .xlabels_bottom attribute is deprecated. Please '\n",
      "C:\\Users\\panmits86\\Anaconda3\\envs\\thesis\\lib\\site-packages\\cartopy\\mpl\\gridliner.py:343: UserWarning: The .ylabels_right attribute is deprecated. Please use .right_labels to toggle visibility instead.\n",
      "  warnings.warn('The .ylabels_right attribute is deprecated. Please '\n",
      "<ipython-input-83-d7c8b2431da5>:52: MatplotlibDeprecationWarning: The 'extend' parameter to Colorbar has no effect because it is overridden by the mappable; it is deprecated since 3.3 and will be removed two minor releases later.\n",
      "  out=fig.colorbar(cs1,cax=cax,extend='both',**kw)\n",
      "C:\\Users\\panmits86\\Anaconda3\\envs\\thesis\\lib\\site-packages\\cartopy\\mpl\\gridliner.py:331: UserWarning: The .ylabels_left attribute is deprecated. Please use .left_labels to toggle visibility instead.\n",
      "  warnings.warn('The .ylabels_left attribute is deprecated. Please '\n"
     ]
    },
    {
     "data": {
      "text/plain": [
       "\"\\ncax,kw = matplotlib.colorbar.make_axes(ax,location='bottom',pad=0.05,aspect=50)\\n\\nout=fig.colorbar(cs2,cax=cax,extend='both',**kw)\\nout.set_label('Wind Speed (m/s)',size=12)\\n#ax.set_title('Kriging using 1Hz Altimeter Data (Winter Season 2017-18) 0.1deg Resolution',fontsize=14)\\n\\n\\nax_lst[1].scatter(buoys['Longitude'], buoys['Latitude'], s=25, marker='x', color='red', label='NDBC Buoys & Metocean Stations',\\n           transform=ccrs.PlateCarree())\\nax_lst[0].scatter(buoys['Longitude'], buoys['Latitude'], s=25, marker='x', color='red', label='NDBC Buoys & Metocean Stations',\\n           transform=ccrs.PlateCarree())\\n\""
      ]
     },
     "execution_count": 83,
     "metadata": {},
     "output_type": "execute_result"
    },
    {
     "data": {
      "image/png": "[encoded data removed]",
      "text/plain": [
       "<Figure size 720x360 with 3 Axes>"
      ]
     },
     "metadata": {
      "needs_background": "light"
     },
     "output_type": "display_data"
    }
   ],
   "source": [
    "from itertools import count\n",
    "fig, ax_lst = plt.subplots(1, 2,figsize=(10, 5), subplot_kw=dict(projection=ccrs.PlateCarree()), gridspec_kw={'hspace': 0.15, 'wspace': 0.05})\n",
    "\n",
    "#fig.tight_layout(pad=4)\n",
    "mpl.rcParams['font.size'] = 8\n",
    "\n",
    "def label_subplots(ax_lst, *, upper_case=True,\n",
    "                   offset_points=(-5, -5)):\n",
    "    start_ord = 65 if upper_case else 97\n",
    "    for ax, lab in zip(np.ravel(ax_lst), (chr(j) for j in count(start_ord))):\n",
    "        ax.annotate(lab, (0.07, 1),\n",
    "                    xytext=offset_points,\n",
    "                    xycoords='axes fraction',\n",
    "                    textcoords='offset points',\n",
    "                    ha='right', va='top', fontsize=14, fontweight='bold')\n",
    "\n",
    "\n",
    "label_subplots(ax_lst, upper_case=True)\n",
    "\n",
    "# Figure 1\n",
    "\n",
    "ax_lst[0].set_extent([-75, -69, 39, 43])\n",
    "\n",
    "gl = ax_lst[0].gridlines(draw_labels=True, linestyle='--',alpha=0.,linewidth=0.5)\n",
    "gl.xlabels_bottom = False\n",
    "gl.ylabels_right = False\n",
    "gl.xlocator = mticker.FixedLocator([-75, -74, -73, -72, -71, -70, -69])\n",
    "gl.ylocator = mticker.FixedLocator([39, 40, 41, 42, 43])\n",
    "gl.xformatter = LONGITUDE_FORMATTER\n",
    "gl.yformatter = LATITUDE_FORMATTER\n",
    "\n",
    "shp = shapereader.Reader('C:/Users/panmits86/Desktop/Python/SNE_shapefile/GSHHS_i_L1_SNE1.shp')\n",
    "for record, geometry in zip(shp.records(), shp.geometries()):\n",
    "    ax_lst[0].add_geometries([geometry], ccrs.PlateCarree(), facecolor='gray')\n",
    "    \n",
    "\n",
    "#cmap=cmaps.BlAqGrYeOrRe\n",
    "cmap=cmaps.WhiteBlueGreenYellowRed\n",
    "#bounds = np.array([0.,0.5,1.,1.5,2.,2.5,3])\n",
    "#bounds = np.arange(0,5,0.5)\n",
    "#norm = colors.BoundaryNorm(boundaries=bounds, ncolors=10)\n",
    "norm = mpl.colors.Normalize(vmin=3, vmax=10)\n",
    "#norm = mpl.colors.Normalize(vmin=0., vmax=3)\n",
    "\n",
    "cs1 = ax_lst[0].contourf(x, y, z01.T, levels=np.arange(3.5,12,0.25), cmap=cmap, corner_mask=False)\n",
    "cs01 = ax_lst[0].contour(cs1, levels=np.arange(2.5,11,0.5), colors='grey',linewidths=0.5)\n",
    "#cs2 = ax_lst[0].pcolormesh(x, y, z01.T, cmap=cmap, norm=norm)\n",
    "\n",
    "\n",
    "cax,kw = matplotlib.colorbar.make_axes(ax_lst,location='bottom',pad=0.05,aspect=80,shrink=0.7)\n",
    "\n",
    "out=fig.colorbar(cs1,cax=cax,extend='both',**kw)\n",
    "out.set_label('Wind Speed (m/s)',size=10)\n",
    "#ax.set_title('Kriging using 1Hz Altimeter Data (Winter Season 2017-18) 0.1deg Resolution',fontsize=14)\n",
    "\n",
    "\"\"\"\n",
    "ax.scatter(buoys['Longitude'], buoys['Latitude'], s=25, marker='x', color='red', label='NDBC Buoys & Metocean Stations',\n",
    "           transform=ccrs.PlateCarree())\n",
    "\"\"\"\n",
    "\n",
    "\n",
    "# Figure 2\n",
    "\n",
    "ax_lst[1].set_extent([-75, -69, 39, 43])\n",
    "\n",
    "gl = ax_lst[1].gridlines(draw_labels=True, linestyle='--',alpha=0.,linewidth=0.5)\n",
    "gl.xlabels_bottom = False\n",
    "gl.ylabels_left = False\n",
    "gl.xlocator = mticker.FixedLocator([-75, -74, -73, -72, -71, -70, -69])\n",
    "gl.ylocator = mticker.FixedLocator([39, 40, 41, 42, 43])\n",
    "gl.xformatter = LONGITUDE_FORMATTER\n",
    "gl.yformatter = LATITUDE_FORMATTER\n",
    "\n",
    "shp = shapereader.Reader('C:/Users/panmits86/Desktop/Python/SNE_shapefile/GSHHS_i_L1_SNE1.shp')\n",
    "for record, geometry in zip(shp.records(), shp.geometries()):\n",
    "    ax_lst[1].add_geometries([geometry], ccrs.PlateCarree(), facecolor='gray')\n",
    "    \n",
    "\n",
    "#cmap=cmaps.BlAqGrYeOrRe\n",
    "#bounds = np.array([0.,0.5,1.,1.5,2.,2.5,3])\n",
    "#bounds = np.arange(0,5,0.5)\n",
    "#norm = colors.BoundaryNorm(boundaries=bounds, ncolors=10)\n",
    "#norm = mpl.colors.Normalize(vmin=3, vmax=10)\n",
    "#norm = mpl.colors.Normalize(vmin=0., vmax=3)\n",
    "\n",
    "cs2 = ax_lst[1].contourf(x, y, z02.T, levels=cs1.levels, cmap=cmap, corner_mask=False)\n",
    "ax_lst[1].contour(cs2, levels=cs01.levels, colors='grey',linewidths=0.5)\n",
    "#cs2 = ax_lst[1].pcolormesh(x, y, z02.T, cmap=cmap, norm=norm)\n",
    "\n",
    "\"\"\"\n",
    "cax,kw = matplotlib.colorbar.make_axes(ax,location='bottom',pad=0.05,aspect=50)\n",
    "\n",
    "out=fig.colorbar(cs2,cax=cax,extend='both',**kw)\n",
    "out.set_label('Wind Speed (m/s)',size=12)\n",
    "#ax.set_title('Kriging using 1Hz Altimeter Data (Winter Season 2017-18) 0.1deg Resolution',fontsize=14)\n",
    "\n",
    "\n",
    "ax_lst[1].scatter(buoys['Longitude'], buoys['Latitude'], s=25, marker='x', color='red', label='NDBC Buoys & Metocean Stations',\n",
    "           transform=ccrs.PlateCarree())\n",
    "ax_lst[0].scatter(buoys['Longitude'], buoys['Latitude'], s=25, marker='x', color='red', label='NDBC Buoys & Metocean Stations',\n",
    "           transform=ccrs.PlateCarree())\n",
    "\"\"\"\n",
    "\n",
    "#plt.savefig('kriging_wintsumm2020_wind_01.png', dpi=300, bbox_inches='tight')"
   ]
  },
  {
   "cell_type": "code",
   "execution_count": 25,
   "metadata": {},
   "outputs": [],
   "source": [
    "shp = shapereader.Reader('C:/Users/panmits86/Desktop/Python/SNE_shapefile/GSHHS_i_L1_SNE1.shp')\n",
    "\n",
    "geoms = shp.geometries()\n",
    "polygon = cascaded_union(list(geoms))"
   ]
  },
  {
   "cell_type": "code",
   "execution_count": 26,
   "metadata": {},
   "outputs": [],
   "source": [
    "from shapely.geometry import Point\n",
    "\n",
    "def inpolygon(polygon, xp, yp):\n",
    "    return np.array([Point(x, y).intersects(polygon) for x, y in zip(xp, yp)],\n",
    "                    dtype=np.bool)"
   ]
  },
  {
   "cell_type": "code",
   "execution_count": 28,
   "metadata": {},
   "outputs": [
    {
     "name": "stderr",
     "output_type": "stream",
     "text": [
      "<ipython-input-26-2517a5576565>:5: DeprecationWarning: `np.bool` is a deprecated alias for the builtin `bool`. To silence this warning, use `bool` by itself. Doing this will not modify any behavior and is safe. If you specifically wanted the numpy scalar type, use `np.bool_` here.\n",
      "Deprecated in NumPy 1.20; for more details and guidance: https://numpy.org/devdocs/release/1.20.0-notes.html#deprecations\n",
      "  dtype=np.bool)\n"
     ]
    }
   ],
   "source": [
    "mask = inpolygon(polygon, x.ravel(), y.ravel())"
   ]
  },
  {
   "cell_type": "code",
   "execution_count": 29,
   "metadata": {},
   "outputs": [],
   "source": [
    "mask1 = mask.reshape(48,32)"
   ]
  },
  {
   "cell_type": "code",
   "execution_count": 25,
   "metadata": {},
   "outputs": [],
   "source": [
    "x[mask1] = np.nan\n",
    "y[mask1] = np.nan"
   ]
  },
  {
   "cell_type": "code",
   "execution_count": 317,
   "metadata": {},
   "outputs": [],
   "source": [
    "x, y = np.mgrid[-75:-69:48j, 39:43:32j]"
   ]
  },
  {
   "cell_type": "code",
   "execution_count": 100,
   "metadata": {},
   "outputs": [],
   "source": [
    "def make_map(projection=ccrs.PlateCarree()):\n",
    "    fig, ax = plt.subplots(figsize=(6, 9),\n",
    "                           subplot_kw=dict(projection=projection))\n",
    "    gl = ax.gridlines(draw_labels=True, linestyle='--',linewidth=0.5)\n",
    "    gl.xlabels_bottom = False\n",
    "    gl.xlocator = mticker.FixedLocator([-75, -74, -73, -72, -71, -70, -69])\n",
    "    gl.ylocator = mticker.FixedLocator([39, 40, 41, 42, 43])\n",
    "    gl.xformatter = LONGITUDE_FORMATTER\n",
    "    gl.yformatter = LATITUDE_FORMATTER\n",
    "    return fig, ax"
   ]
  },
  {
   "cell_type": "code",
   "execution_count": 64,
   "metadata": {},
   "outputs": [],
   "source": [
    "from itertools import count\n",
    "def make_map(projection=ccrs.PlateCarree()):\n",
    "    fig, ax = plt.subplots(2, 2,figsize=(8, 12), subplot_kw=dict(projection=projection))\n",
    "    fig.tight_layout(pad=3)\n",
    "    label_subplots(ax, upper_case=True)\n",
    "    \"\"\"\n",
    "    gl = ax.gridlines(draw_labels=True, linestyle='--',alpha=0.7)\n",
    "    gl.xlabels_top = False\n",
    "    gl.xlocator = mticker.FixedLocator([-75, -74, -73, -72, -71, -70, -69])\n",
    "    gl.ylocator = mticker.FixedLocator([39, 40, 41, 42, 43])\n",
    "    gl.xformatter = LONGITUDE_FORMATTER\n",
    "    gl.yformatter = LATITUDE_FORMATTER\n",
    "    \"\"\"\n",
    "def label_subplots(ax_lst, *, upper_case=True,\n",
    "                   offset_points=(-5, -5)):\n",
    "    start_ord = 65 if upper_case else 97\n",
    "    for ax, lab in zip(np.ravel(ax_lst), (chr(j) for j in count(start_ord))):\n",
    "        ax.annotate(lab, (1, 0.1),\n",
    "                    xytext=offset_points,\n",
    "                    xycoords='axes fraction',\n",
    "                    textcoords='offset points',\n",
    "                    ha='right', va='top', fontsize=14, fontweight='bold')\n",
    "\n",
    "    return fig, ax"
   ]
  },
  {
   "cell_type": "code",
   "execution_count": 120,
   "metadata": {},
   "outputs": [
    {
     "data": {
      "text/plain": [
       "0.283306813099211"
      ]
     },
     "execution_count": 120,
     "metadata": {},
     "output_type": "execute_result"
    }
   ],
   "source": [
    "ss1.min()"
   ]
  },
  {
   "cell_type": "code",
   "execution_count": 106,
   "metadata": {},
   "outputs": [
    {
     "data": {
      "text/plain": [
       "0.6258661665870462"
      ]
     },
     "execution_count": 106,
     "metadata": {},
     "output_type": "execute_result"
    }
   ],
   "source": [
    "np.sqrt(ssj1).ravel().max()"
   ]
  },
  {
   "cell_type": "code",
   "execution_count": 145,
   "metadata": {},
   "outputs": [
    {
     "data": {
      "text/plain": [
       "\"\\ncax,kw = matplotlib.colorbar.make_axes(ax_lst[1,0],location='bottom',pad=0.05,aspect=50)\\n\\nout=fig.colorbar(cs2,cax=cax,ticks=bounds,extend='both',**kw)\\nout.set_label('$H_{s}$ Mapping Error (m)',size=10)\\n#ax.set_title('Kriging using 1Hz Altimeter Data (Winter Season 2017-18) 0.1deg Resolution',fontsize=14)\\n\""
      ]
     },
     "execution_count": 145,
     "metadata": {},
     "output_type": "execute_result"
    },
    {
     "data": {
      "image/png": "[encoded data removed]",
      "text/plain": [
       "<Figure size 684x576 with 5 Axes>"
      ]
     },
     "metadata": {
      "needs_background": "light"
     },
     "output_type": "display_data"
    }
   ],
   "source": [
    "fig, ax_lst = plt.subplots(2, 2,figsize=(9.5, 8), subplot_kw=dict(projection=ccrs.PlateCarree()), gridspec_kw={'hspace': 0.13, 'wspace': 0.03})\n",
    "\n",
    "#fig.tight_layout(pad=1)\n",
    "mpl.rcParams['font.size'] = 8\n",
    "\n",
    "def label_subplots(ax_lst, *, upper_case=True,\n",
    "                   offset_points=(-5, -5)):\n",
    "    start_ord = 65 if upper_case else 97\n",
    "    for ax, lab in zip(np.ravel(ax_lst), (chr(j) for j in count(start_ord))):\n",
    "        ax.annotate(lab, (0.08, 1),\n",
    "                    xytext=offset_points,\n",
    "                    xycoords='axes fraction',\n",
    "                    textcoords='offset points',\n",
    "                    ha='right', va='top', fontsize=14, fontweight='bold')\n",
    "\n",
    "label_subplots(ax_lst, upper_case=True)\n",
    "\n",
    "\n",
    "# Figure 1\n",
    "\n",
    "ax_lst[1,1].set_extent([-75, -69, 39, 43])\n",
    "\n",
    "gl = ax_lst[1,1].gridlines(draw_labels=True, linestyle='--',alpha=0.7,linewidth=0.5)\n",
    "gl.xlabels_bottom = False\n",
    "gl.xlabels_top = False\n",
    "gl.ylabels_left = False\n",
    "gl.xlocator = mticker.FixedLocator([-75, -74, -73, -72, -71, -70, -69])\n",
    "gl.ylocator = mticker.FixedLocator([39, 40, 41, 42, 43])\n",
    "gl.xformatter = LONGITUDE_FORMATTER\n",
    "gl.yformatter = LATITUDE_FORMATTER\n",
    "\n",
    "shp = shapereader.Reader('C:/Users/panmits86/Desktop/Python/SNE_shapefile/GSHHS_i_L1_SNE1.shp')\n",
    "for record, geometry in zip(shp.records(), shp.geometries()):\n",
    "    ax_lst[1,1].add_geometries([geometry], ccrs.PlateCarree(), facecolor='gray')\n",
    "    \n",
    "    \n",
    "#cmap=cmaps.BlAqGrYeOrRe\n",
    "cmap=cmaps.NCV_bright\n",
    "bounds = np.array([0.55,0.56,0.57,0.58,0.59,0.60,0.61,0.62,0.63])\n",
    "#bounds = np.arange(0,5,0.5)\n",
    "#norm = colors.BoundaryNorm(boundaries=bounds, ncolors=10)\n",
    "norm = mpl.colors.Normalize(vmin=0.55, vmax=0.63)\n",
    "#norm = mpl.colors.Normalize(vmin=0., vmax=3)\n",
    "\n",
    "#ax_lst[1,1].contourf(x, y, np.sqrt(ss5).T, levels=10, linewidths=0.5, cmap=cmap,corner_mask=False)\n",
    "#cs2 = plt.contourf(x, y, field, levels=5, linewidths=0.5, cmap=cmap)\n",
    "cs2 = ax_lst[1,1].pcolormesh(x, y, np.sqrt(ss5).T, cmap=cmap,norm=norm)\n",
    "#cs2 = ax_lst[1,1].pcolormesh(x, y, ss5.T, cmap=cmap,norm=norm)\n",
    "\n",
    "\n",
    "cax,kw = matplotlib.colorbar.make_axes(ax_lst,location='bottom',pad=0.05,aspect=80, shrink=0.8)\n",
    "\n",
    "out=fig.colorbar(cs2,cax=cax,ticks=bounds,extend='both',**kw)\n",
    "out.set_label('$H_{s}$ Kriging Standard Error (m)',size=10)\n",
    "#ax.set_title('Kriging using 1Hz Altimeter Data (Winter Season 2017-18) 0.1deg Resolution',fontsize=14)\n",
    "#plt.savefig('Kriging_swh_2018_0.1deg_exp_10lags_pk.png', dpi=300, bbox_inches='tight')\n",
    "#plt.savefig('Kriging_swh_test.png', dpi=300, bbox_inches='tight')\n",
    "\n",
    "# Figure 2\n",
    "\n",
    "ax_lst[0,0].set_extent([-75, -69, 39, 43])\n",
    "\n",
    "gl = ax_lst[0,0].gridlines(draw_labels=True, linestyle='--',alpha=0.7,linewidth=0.5)\n",
    "gl.xlabels_bottom = False\n",
    "#gl.xlabels_top = False\n",
    "gl.ylabels_right = False\n",
    "gl.xlocator = mticker.FixedLocator([-75, -74, -73, -72, -71, -70, -69])\n",
    "gl.ylocator = mticker.FixedLocator([39, 40, 41, 42, 43])\n",
    "gl.xformatter = LONGITUDE_FORMATTER\n",
    "gl.yformatter = LATITUDE_FORMATTER\n",
    "\n",
    "shp = shapereader.Reader('C:/Users/panmits86/Desktop/Python/SNE_shapefile/GSHHS_i_L1_SNE1.shp')\n",
    "for record, geometry in zip(shp.records(), shp.geometries()):\n",
    "    ax_lst[0,0].add_geometries([geometry], ccrs.PlateCarree(), facecolor='gray')\n",
    "    \n",
    "    \n",
    "#cmap=cmaps.BlAqGrYeOrRe\n",
    "cmap=cmaps.NCV_bright\n",
    "bounds = np.array([0.28,0.3,0.32,0.34,0.36,0.38,0.40])\n",
    "#bounds = np.arange(0,5,0.5)\n",
    "#norm = colors.BoundaryNorm(boundaries=bounds, ncolors=10)\n",
    "norm = mpl.colors.Normalize(vmin=0.55, vmax=0.63)\n",
    "#norm = mpl.colors.Normalize(vmin=0., vmax=3)\n",
    "\n",
    "#ax_lst[0,0].contourf(x, y, np.sqrt(ssj1).T, levels=10, linewidths=0.5, cmap=cmap,corner_mask=False)\n",
    "#cs2 = plt.contourf(x, y, field, levels=5, linewidths=0.5, cmap=cmap)\n",
    "cs2 = ax_lst[0,0].pcolormesh(x, y, np.sqrt(ssj1).T, cmap=cmap, norm=norm)\n",
    "#cs2 = ax_lst[0,0].pcolormesh(x, y, ssj1.T, cmap=cmap, norm=norm)\n",
    "\n",
    "\"\"\"\n",
    "cax,kw = matplotlib.colorbar.make_axes(ax_lst[0,0],location='bottom',pad=0.05,aspect=50)\n",
    "\n",
    "out=fig.colorbar(cs2,cax=cax,ticks=bounds,extend='both',**kw)\n",
    "out.set_label('$H_{s}$ Mapping Error (m)',size=10)\n",
    "#ax.set_title('Kriging using 1Hz Altimeter Data (Winter Season 2017-18) 0.1deg Resolution',fontsize=14)\n",
    "\"\"\"\n",
    "\n",
    "# Figure 3\n",
    "\n",
    "ax_lst[0,1].set_extent([-75, -69, 39, 43])\n",
    "\n",
    "gl = ax_lst[0,1].gridlines(draw_labels=True, linestyle='--',alpha=0.7,linewidth=0.5)\n",
    "gl.xlabels_bottom = False\n",
    "#gl.xlabels_top = False\n",
    "gl.ylabels_left = False\n",
    "gl.xlocator = mticker.FixedLocator([-75, -74, -73, -72, -71, -70, -69])\n",
    "gl.ylocator = mticker.FixedLocator([39, 40, 41, 42, 43])\n",
    "gl.xformatter = LONGITUDE_FORMATTER\n",
    "gl.yformatter = LATITUDE_FORMATTER\n",
    "\n",
    "shp = shapereader.Reader('C:/Users/panmits86/Desktop/Python/SNE_shapefile/GSHHS_i_L1_SNE1.shp')\n",
    "for record, geometry in zip(shp.records(), shp.geometries()):\n",
    "    ax_lst[0,1].add_geometries([geometry], ccrs.PlateCarree(), facecolor='gray')\n",
    "    \n",
    "    \n",
    "#cmap=cmaps.BlAqGrYeOrRe\n",
    "cmap=cmaps.NCV_bright\n",
    "bounds = np.array([0.28,0.3,0.32,0.34,0.36,0.38,0.40])\n",
    "#bounds = np.arange(0,5,0.5)\n",
    "#norm = colors.BoundaryNorm(boundaries=bounds, ncolors=10)\n",
    "#norm = mpl.colors.Normalize(vmin=0.28, vmax=0.4)\n",
    "norm = mpl.colors.Normalize(vmin=0.55, vmax=0.63)\n",
    "#norm = mpl.colors.Normalize(vmin=0., vmax=3)\n",
    "\n",
    "#cs2 = ax_lst[0,1].contourf(x, y, np.sqrt(ssjs1).T, levels=10, linewidths=0.5, cmap=cmap,corner_mask=False)\n",
    "#cs2 = plt.contourf(x, y, field, levels=5, linewidths=0.5, cmap=cmap)\n",
    "cs2 = ax_lst[0,1].pcolormesh(x, y, np.sqrt(ssjs1).T, cmap=cmap, norm=norm)\n",
    "#cs2 = ax_lst[0,1].pcolormesh(x, y, ssjs1.T, cmap=cmap, norm=norm)\n",
    "\n",
    "\"\"\"\n",
    "cax,kw = matplotlib.colorbar.make_axes(ax_lst[0,1],location='bottom',pad=0.05,aspect=50)\n",
    "\n",
    "out=fig.colorbar(cs2,cax=cax,ticks=bounds,extend='both',**kw)\n",
    "out.set_label('$H_{s}$ Mapping Error (m)',size=10)\n",
    "#ax.set_title('Kriging using 1Hz Altimeter Data (Winter Season 2017-18) 0.1deg Resolution',fontsize=14)\n",
    "\"\"\"\n",
    "\n",
    "# Figure 4\n",
    "\n",
    "ax_lst[1,0].set_extent([-75, -69, 39, 43])\n",
    "\n",
    "gl = ax_lst[1,0].gridlines(draw_labels=True, linestyle='--',alpha=0.7,linewidth=0.5)\n",
    "gl.xlabels_bottom = False\n",
    "gl.xlabels_top = False\n",
    "gl.ylabels_right = False\n",
    "gl.xlocator = mticker.FixedLocator([-75, -74, -73, -72, -71, -70, -69])\n",
    "gl.ylocator = mticker.FixedLocator([39, 40, 41, 42, 43])\n",
    "gl.xformatter = LONGITUDE_FORMATTER\n",
    "gl.yformatter = LATITUDE_FORMATTER\n",
    "\n",
    "shp = shapereader.Reader('C:/Users/panmits86/Desktop/Python/SNE_shapefile/GSHHS_i_L1_SNE1.shp')\n",
    "for record, geometry in zip(shp.records(), shp.geometries()):\n",
    "    ax_lst[1,0].add_geometries([geometry], ccrs.PlateCarree(), facecolor='gray')\n",
    "    \n",
    "    \n",
    "#cmap=cmaps.BlAqGrYeOrRe\n",
    "cmap=cmaps.NCV_bright\n",
    "bounds = np.array([0.28,0.3,0.32,0.34,0.36,0.38,0.40])\n",
    "#bounds = np.arange(0,5,0.5)\n",
    "#norm = colors.BoundaryNorm(boundaries=bounds, ncolors=10)\n",
    "norm = mpl.colors.Normalize(vmin=0.55, vmax=0.63)\n",
    "#norm = mpl.colors.Normalize(vmin=0., vmax=3)\n",
    "\n",
    "#cs2 = ax_lst[1,0].contourf(x, y, np.sqrt(ssjss1).T, levels=10, linewidths=0.5, cmap=cmap,corner_mask=False)\n",
    "cs2 = ax_lst[1,0].pcolormesh(x, y, np.sqrt(ssjss1).T, cmap=cmap, norm=norm)\n",
    "#cs2 = ax_lst[1,0].pcolormesh(x, y, ssjss1.T, cmap=cmap, norm=norm)\n",
    "\n",
    "\"\"\"\n",
    "cax,kw = matplotlib.colorbar.make_axes(ax_lst[1,0],location='bottom',pad=0.05,aspect=50)\n",
    "\n",
    "out=fig.colorbar(cs2,cax=cax,ticks=bounds,extend='both',**kw)\n",
    "out.set_label('$H_{s}$ Mapping Error (m)',size=10)\n",
    "#ax.set_title('Kriging using 1Hz Altimeter Data (Winter Season 2017-18) 0.1deg Resolution',fontsize=14)\n",
    "\"\"\"\n",
    "\n",
    "#plt.savefig('kriging_mapping_error_w19_1.png', dpi=300, bbox_inches='tight')"
   ]
  },
  {
   "cell_type": "code",
   "execution_count": 375,
   "metadata": {},
   "outputs": [
    {
     "name": "stderr",
     "output_type": "stream",
     "text": [
      "C:\\Users\\panmits86\\Anaconda3\\envs\\thesis\\lib\\site-packages\\cartopy\\mpl\\gridliner.py:343: UserWarning: The .ylabels_right attribute is deprecated. Please use .right_labels to toggle visibility instead.\n",
      "  warnings.warn('The .ylabels_right attribute is deprecated. Please '\n"
     ]
    },
    {
     "data": {
      "text/plain": [
       "\"\\ncax,kw = matplotlib.colorbar.make_axes(ax_lst[1,0],location='bottom',pad=0.05,aspect=50)\\n\\nout=fig.colorbar(cs2,cax=cax,ticks=bounds,extend='both',**kw)\\nout.set_label('$H_{s}$ Mapping Error (m)',size=10)\\n#ax.set_title('Kriging using 1Hz Altimeter Data (Winter Season 2017-18) 0.1deg Resolution',fontsize=14)\\n\""
      ]
     },
     "execution_count": 375,
     "metadata": {},
     "output_type": "execute_result"
    },
    {
     "data": {
      "image/png": "[encoded data removed]",
      "text/plain": [
       "<Figure size 684x576 with 5 Axes>"
      ]
     },
     "metadata": {
      "needs_background": "light"
     },
     "output_type": "display_data"
    }
   ],
   "source": [
    "fig, ax_lst = plt.subplots(2, 2,figsize=(9.5, 8), subplot_kw=dict(projection=ccrs.PlateCarree()), gridspec_kw={'hspace': 0.13, 'wspace': 0.03})\n",
    "\n",
    "#fig.tight_layout(pad=1)\n",
    "mpl.rcParams['font.size'] = 8\n",
    "\n",
    "def label_subplots(ax_lst, *, upper_case=True,\n",
    "                   offset_points=(-5, -5)):\n",
    "    start_ord = 65 if upper_case else 97\n",
    "    for ax, lab in zip(np.ravel(ax_lst), (chr(j) for j in count(start_ord))):\n",
    "        ax.annotate(lab, (0.08, 1),\n",
    "                    xytext=offset_points,\n",
    "                    xycoords='axes fraction',\n",
    "                    textcoords='offset points',\n",
    "                    ha='right', va='top', fontsize=14, fontweight='bold')\n",
    "\n",
    "label_subplots(ax_lst, upper_case=True)\n",
    "\n",
    "\n",
    "# Figure 1\n",
    "\n",
    "ax_lst[1,1].set_extent([-75, -69, 39, 43])\n",
    "\n",
    "gl = ax_lst[1,1].gridlines(draw_labels=True, linestyle='--',alpha=0.7,linewidth=0.5)\n",
    "gl.xlabels_bottom = False\n",
    "gl.xlabels_top = False\n",
    "gl.ylabels_left = False\n",
    "gl.xlocator = mticker.FixedLocator([-75, -74, -73, -72, -71, -70, -69])\n",
    "gl.ylocator = mticker.FixedLocator([39, 40, 41, 42, 43])\n",
    "gl.xformatter = LONGITUDE_FORMATTER\n",
    "gl.yformatter = LATITUDE_FORMATTER\n",
    "\n",
    "shp = shapereader.Reader('C:/Users/panmits86/Desktop/Python/SNE_shapefile/GSHHS_i_L1_SNE1.shp')\n",
    "for record, geometry in zip(shp.records(), shp.geometries()):\n",
    "    ax_lst[1,1].add_geometries([geometry], ccrs.PlateCarree(), facecolor='gray')\n",
    "    \n",
    "    \n",
    "#cmap=cmaps.BlAqGrYeOrRe\n",
    "cmap=cmaps.NCV_bright\n",
    "bounds = np.array([0.8,0.9,1.,1.1,1.2,1.3,1.4,1.5,1.6])\n",
    "#bounds = np.arange(0,5,0.5)\n",
    "#norm = colors.BoundaryNorm(boundaries=bounds, ncolors=10)\n",
    "norm = mpl.colors.Normalize(vmin=0.75, vmax=1.6)\n",
    "#norm = mpl.colors.Normalize(vmin=0., vmax=3)\n",
    "\n",
    "#ax_lst[1,1].contourf(x, y, np.sqrt(ss5).T, levels=10, linewidths=0.5, cmap=cmap,corner_mask=False)\n",
    "#cs2 = plt.contourf(x, y, field, levels=5, linewidths=0.5, cmap=cmap)\n",
    "cs2 = ax_lst[1,1].pcolormesh(x, y, np.sqrt(ss1).T, cmap=cmap, norm=norm)\n",
    "#cs2 = ax_lst[1,1].pcolormesh(x, y, ss5.T, cmap=cmap,norm=norm)\n",
    "\n",
    "\n",
    "cax,kw = matplotlib.colorbar.make_axes(ax_lst,location='bottom',pad=0.05,aspect=80, shrink=0.8)\n",
    "\n",
    "out=fig.colorbar(cs2,cax=cax,ticks=bounds,extend='both',**kw)\n",
    "out.set_label('$H_{s}$ Kriging Standard Error (m)',size=10)\n",
    "#ax.set_title('Kriging using 1Hz Altimeter Data (Winter Season 2017-18) 0.1deg Resolution',fontsize=14)\n",
    "#plt.savefig('Kriging_swh_2018_0.1deg_exp_10lags_pk.png', dpi=300, bbox_inches='tight')\n",
    "#plt.savefig('Kriging_swh_test.png', dpi=300, bbox_inches='tight')\n",
    "\n",
    "# Figure 2\n",
    "\n",
    "ax_lst[0,0].set_extent([-75, -69, 39, 43])\n",
    "\n",
    "gl = ax_lst[0,0].gridlines(draw_labels=True, linestyle='--',alpha=0.7,linewidth=0.5)\n",
    "gl.xlabels_bottom = False\n",
    "#gl.xlabels_top = False\n",
    "gl.ylabels_right = False\n",
    "gl.xlocator = mticker.FixedLocator([-75, -74, -73, -72, -71, -70, -69])\n",
    "gl.ylocator = mticker.FixedLocator([39, 40, 41, 42, 43])\n",
    "gl.xformatter = LONGITUDE_FORMATTER\n",
    "gl.yformatter = LATITUDE_FORMATTER\n",
    "\n",
    "shp = shapereader.Reader('C:/Users/panmits86/Desktop/Python/SNE_shapefile/GSHHS_i_L1_SNE1.shp')\n",
    "for record, geometry in zip(shp.records(), shp.geometries()):\n",
    "    ax_lst[0,0].add_geometries([geometry], ccrs.PlateCarree(), facecolor='gray')\n",
    "    \n",
    "    \n",
    "#cmap=cmaps.BlAqGrYeOrRe\n",
    "cmap=cmaps.NCV_bright\n",
    "#bounds = np.array([0.28,0.3,0.32,0.34,0.36,0.38,0.40])\n",
    "#bounds = np.arange(0,5,0.5)\n",
    "#norm = colors.BoundaryNorm(boundaries=bounds, ncolors=10)\n",
    "norm = mpl.colors.Normalize(vmin=0.75, vmax=1.6)\n",
    "#norm = mpl.colors.Normalize(vmin=0., vmax=3)\n",
    "\n",
    "#ax_lst[0,0].contourf(x, y, np.sqrt(ssj1).T, levels=10, linewidths=0.5, cmap=cmap,corner_mask=False)\n",
    "#cs2 = plt.contourf(x, y, field, levels=5, linewidths=0.5, cmap=cmap)\n",
    "cs2 = ax_lst[0,0].pcolormesh(x, y, np.sqrt(ssj1).T, cmap=cmap, norm=norm)\n",
    "#cs2 = ax_lst[0,0].pcolormesh(x, y, ssj1.T, cmap=cmap, norm=norm)\n",
    "\n",
    "\"\"\"\n",
    "cax,kw = matplotlib.colorbar.make_axes(ax_lst[0,0],location='bottom',pad=0.05,aspect=50)\n",
    "\n",
    "out=fig.colorbar(cs2,cax=cax,ticks=bounds,extend='both',**kw)\n",
    "out.set_label('$H_{s}$ Mapping Error (m)',size=10)\n",
    "#ax.set_title('Kriging using 1Hz Altimeter Data (Winter Season 2017-18) 0.1deg Resolution',fontsize=14)\n",
    "\"\"\"\n",
    "\n",
    "# Figure 3\n",
    "\n",
    "ax_lst[0,1].set_extent([-75, -69, 39, 43])\n",
    "\n",
    "gl = ax_lst[0,1].gridlines(draw_labels=True, linestyle='--',alpha=0.7,linewidth=0.5)\n",
    "gl.xlabels_bottom = False\n",
    "#gl.xlabels_top = False\n",
    "gl.ylabels_left = False\n",
    "gl.xlocator = mticker.FixedLocator([-75, -74, -73, -72, -71, -70, -69])\n",
    "gl.ylocator = mticker.FixedLocator([39, 40, 41, 42, 43])\n",
    "gl.xformatter = LONGITUDE_FORMATTER\n",
    "gl.yformatter = LATITUDE_FORMATTER\n",
    "\n",
    "shp = shapereader.Reader('C:/Users/panmits86/Desktop/Python/SNE_shapefile/GSHHS_i_L1_SNE1.shp')\n",
    "for record, geometry in zip(shp.records(), shp.geometries()):\n",
    "    ax_lst[0,1].add_geometries([geometry], ccrs.PlateCarree(), facecolor='gray')\n",
    "    \n",
    "    \n",
    "#cmap=cmaps.BlAqGrYeOrRe\n",
    "cmap=cmaps.NCV_bright\n",
    "#bounds = np.array([0.28,0.3,0.32,0.34,0.36,0.38,0.40])\n",
    "#bounds = np.arange(0,5,0.5)\n",
    "#norm = colors.BoundaryNorm(boundaries=bounds, ncolors=10)\n",
    "#norm = mpl.colors.Normalize(vmin=0.28, vmax=0.4)\n",
    "norm = mpl.colors.Normalize(vmin=0.99, vmax=1.21)\n",
    "#norm = mpl.colors.Normalize(vmin=0., vmax=3)\n",
    "\n",
    "#cs2 = ax_lst[0,1].contourf(x, y, np.sqrt(ssjs1).T, levels=10, linewidths=0.5, cmap=cmap,corner_mask=False)\n",
    "#cs2 = plt.contourf(x, y, field, levels=5, linewidths=0.5, cmap=cmap)\n",
    "cs2 = ax_lst[0,1].pcolormesh(x, y, np.sqrt(ssjs1).T, cmap=cmap, norm=norm)\n",
    "#cs2 = ax_lst[0,1].pcolormesh(x, y, ssjs1.T, cmap=cmap, norm=norm)\n",
    "\n",
    "\"\"\"\n",
    "cax,kw = matplotlib.colorbar.make_axes(ax_lst[0,1],location='bottom',pad=0.05,aspect=50)\n",
    "\n",
    "out=fig.colorbar(cs2,cax=cax,ticks=bounds,extend='both',**kw)\n",
    "out.set_label('$H_{s}$ Mapping Error (m)',size=10)\n",
    "#ax.set_title('Kriging using 1Hz Altimeter Data (Winter Season 2017-18) 0.1deg Resolution',fontsize=14)\n",
    "\"\"\"\n",
    "\n",
    "# Figure 4\n",
    "\n",
    "ax_lst[1,0].set_extent([-75, -69, 39, 43])\n",
    "\n",
    "gl = ax_lst[1,0].gridlines(draw_labels=True, linestyle='--',alpha=0.7,linewidth=0.5)\n",
    "gl.xlabels_bottom = False\n",
    "gl.xlabels_top = False\n",
    "gl.ylabels_right = False\n",
    "gl.xlocator = mticker.FixedLocator([-75, -74, -73, -72, -71, -70, -69])\n",
    "gl.ylocator = mticker.FixedLocator([39, 40, 41, 42, 43])\n",
    "gl.xformatter = LONGITUDE_FORMATTER\n",
    "gl.yformatter = LATITUDE_FORMATTER\n",
    "\n",
    "shp = shapereader.Reader('C:/Users/panmits86/Desktop/Python/SNE_shapefile/GSHHS_i_L1_SNE1.shp')\n",
    "for record, geometry in zip(shp.records(), shp.geometries()):\n",
    "    ax_lst[1,0].add_geometries([geometry], ccrs.PlateCarree(), facecolor='gray')\n",
    "    \n",
    "    \n",
    "#cmap=cmaps.BlAqGrYeOrRe\n",
    "cmap=cmaps.NCV_bright\n",
    "#bounds = np.array([0.28,0.3,0.32,0.34,0.36,0.38,0.40])\n",
    "#bounds = np.arange(0,5,0.5)\n",
    "#norm = colors.BoundaryNorm(boundaries=bounds, ncolors=10)\n",
    "norm = mpl.colors.Normalize(vmin=0.99, vmax=1.21)\n",
    "#norm = mpl.colors.Normalize(vmin=0., vmax=3)\n",
    "\n",
    "#cs2 = ax_lst[1,0].contourf(x, y, np.sqrt(ssjss1).T, levels=10, linewidths=0.5, cmap=cmap,corner_mask=False)\n",
    "cs2 = ax_lst[1,0].pcolormesh(x, y, np.sqrt(ssjss1).T, cmap=cmap, norm=norm)\n",
    "#cs2 = ax_lst[1,0].pcolormesh(x, y, ssjss1.T, cmap=cmap, norm=norm)\n",
    "\n",
    "\"\"\"\n",
    "cax,kw = matplotlib.colorbar.make_axes(ax_lst[1,0],location='bottom',pad=0.05,aspect=50)\n",
    "\n",
    "out=fig.colorbar(cs2,cax=cax,ticks=bounds,extend='both',**kw)\n",
    "out.set_label('$H_{s}$ Mapping Error (m)',size=10)\n",
    "#ax.set_title('Kriging using 1Hz Altimeter Data (Winter Season 2017-18) 0.1deg Resolution',fontsize=14)\n",
    "\"\"\"\n",
    "\n",
    "#plt.savefig('kriging_mapping_error_w19_1.png', dpi=300, bbox_inches='tight')"
   ]
  },
  {
   "cell_type": "code",
   "execution_count": 239,
   "metadata": {},
   "outputs": [
    {
     "data": {
      "text/plain": [
       "1.5345772337816046"
      ]
     },
     "execution_count": 239,
     "metadata": {},
     "output_type": "execute_result"
    }
   ],
   "source": [
    "np.sqrt(ssj1).min()"
   ]
  },
  {
   "cell_type": "code",
   "execution_count": null,
   "metadata": {},
   "outputs": [],
   "source": []
  },
  {
   "cell_type": "code",
   "execution_count": 63,
   "metadata": {},
   "outputs": [],
   "source": [
    "fig, ax = make_map(projection=ccrs.PlateCarree())\n",
    "ax.set_extent([-75, -69, 39, 43])\n",
    "\n",
    "shp = shapereader.Reader('C:/Users/panmits86/Desktop/Python/SNE_shapefile/GSHHS_i_L1_SNE1.shp')\n",
    "for record, geometry in zip(shp.records(), shp.geometries()):\n",
    "    ax.add_geometries([geometry], ccrs.PlateCarree(), facecolor='gray')\n",
    "    \n",
    "\"\"\"\n",
    "# Add markers for the position of the satellite observations.\n",
    "cmap=cmaps.BlAqGrYeOrRe\n",
    "bounds = np.array([0,1,2,3,4,5,6])\n",
    "#norm = colors.BoundaryNorm(boundaries=bounds, ncolors=10)\n",
    "norm = mpl.colors.Normalize(vmin=0, vmax=6)\n",
    "cs2 = plt.pcolormesh(x, y, field, cmap=cmap, norm=norm,\n",
    "            transform=ccrs.PlateCarree())\n",
    "cax,kw = matplotlib.colorbar.make_axes(ax,location='bottom',pad=0.05,aspect=50)\n",
    "\"\"\"\n",
    "cmap=cmaps.BlAqGrYeOrRe\n",
    "#bounds = np.array([0.,0.5,1.,1.5,2.,2.5,3])\n",
    "#bounds = np.arange(0,5,0.5)\n",
    "#norm = colors.BoundaryNorm(boundaries=bounds, ncolors=10)\n",
    "norm = mpl.colors.Normalize(vmin=0.7, vmax=2.6)\n",
    "#norm = mpl.colors.Normalize(vmin=0., vmax=3)\n",
    "\n",
    "#cs2 = plt.contourf(x, y, field, levels=5, linewidths=0.5, cmap=cmap)\n",
    "#cs2 = plt.pcolormesh(x, y, z2.T, cmap=cmap,norm=norm)\n",
    "cs2 = plt.contourf(x, y, z2.T, levels=16, cmap=cmap, norm=norm)\n",
    "\n",
    "cax,kw = matplotlib.colorbar.make_axes(ax,location='bottom',pad=0.05,aspect=50)\n",
    "\n",
    "out=fig.colorbar(cs2,cax=cax,extend='both',**kw)\n",
    "out.set_label('Significant Wave Height (m)',size=12)\n",
    "#ax.set_title('Kriging using 1Hz Altimeter Data (Winter Season 2017-18) 0.1deg Resolution',fontsize=14)\n",
    "#plt.savefig('Kriging_swh_2018_0.1deg_exp_10lags_pk.png', dpi=300, bbox_inches='tight')\n",
    "plt.savefig('Kriging_swh_201819_cont.png', dpi=300, bbox_inches='tight')\n",
    "\n",
    "z2 = inv_boxcox(z1,l)\n"
   ]
  },
  {
   "cell_type": "code",
   "execution_count": 73,
   "metadata": {},
   "outputs": [
    {
     "data": {
      "text/plain": [
       "0.08627665482830826"
      ]
     },
     "execution_count": 73,
     "metadata": {},
     "output_type": "execute_result"
    }
   ],
   "source": [
    "(ssj1-ss1).ravel().max()"
   ]
  },
  {
   "cell_type": "code",
   "execution_count": null,
   "metadata": {},
   "outputs": [],
   "source": []
  },
  {
   "cell_type": "code",
   "execution_count": 85,
   "metadata": {},
   "outputs": [
    {
     "data": {
      "text/plain": [
       "0.07475149181194107"
      ]
     },
     "execution_count": 85,
     "metadata": {},
     "output_type": "execute_result"
    }
   ],
   "source": [
    "(np.sqrt(ssj1)-np.sqrt(ss1)).ravel().max()"
   ]
  },
  {
   "cell_type": "code",
   "execution_count": 94,
   "metadata": {},
   "outputs": [
    {
     "data": {
      "text/plain": [
       "0.034896190199513843"
      ]
     },
     "execution_count": 94,
     "metadata": {},
     "output_type": "execute_result"
    }
   ],
   "source": [
    "(np.sqrt(ssjs1)-np.sqrt(ss1)).ravel().max()"
   ]
  },
  {
   "cell_type": "code",
   "execution_count": 93,
   "metadata": {},
   "outputs": [
    {
     "data": {
      "text/plain": [
       "0.02341060909000081"
      ]
     },
     "execution_count": 93,
     "metadata": {},
     "output_type": "execute_result"
    }
   ],
   "source": [
    "(np.sqrt(ssjss1)-np.sqrt(ss1)).ravel().max()"
   ]
  },
  {
   "cell_type": "code",
   "execution_count": 90,
   "metadata": {},
   "outputs": [
    {
     "data": {
      "text/plain": [
       "\"\\n\\n# Figure 4\\n\\nax_lst[1,0].set_extent([-75, -69, 39, 43])\\n\\ngl = ax_lst[1,0].gridlines(draw_labels=True, linestyle='--',alpha=0.7,linewidth=0.5)\\ngl.xlabels_bottom = False\\ngl.xlabels_top = False\\ngl.ylabels_right = False\\ngl.xlocator = mticker.FixedLocator([-75, -74, -73, -72, -71, -70, -69])\\ngl.ylocator = mticker.FixedLocator([39, 40, 41, 42, 43])\\ngl.xformatter = LONGITUDE_FORMATTER\\ngl.yformatter = LATITUDE_FORMATTER\\n\\nshp = shapereader.Reader('C:/Users/panmits86/Desktop/Python/SNE_shapefile/GSHHS_i_L1_SNE1.shp')\\nfor record, geometry in zip(shp.records(), shp.geometries()):\\n    ax_lst[1,0].add_geometries([geometry], ccrs.PlateCarree(), facecolor='gray')\\n    \\n    \\n#cmap=cmaps.BlAqGrYeOrRe\\ncmap=cmaps.NCV_bright\\nbounds = np.array([0.28,0.3,0.32,0.34,0.36,0.38,0.40])\\n#bounds = np.arange(0,5,0.5)\\n#norm = colors.BoundaryNorm(boundaries=bounds, ncolors=10)\\nnorm = mpl.colors.Normalize(vmin=0.28, vmax=0.4)\\n#norm = mpl.colors.Normalize(vmin=0., vmax=3)\\n\\n#cs2 = plt.contourf(x, y, field, levels=5, linewidths=0.5, cmap=cmap)\\ncs2 = ax_lst[1,0].pcolormesh(x, y, ssjss1.T, cmap=cmap, norm=norm)\\n\\n\\ncax,kw = matplotlib.colorbar.make_axes(ax_lst[1,0],location='bottom',pad=0.05,aspect=50)\\n\\nout=fig.colorbar(cs2,cax=cax,ticks=bounds,extend='both',**kw)\\nout.set_label('$H_{s}$ Mapping Error (m)',size=10)\\n#ax.set_title('Kriging using 1Hz Altimeter Data (Winter Season 2017-18) 0.1deg Resolution',fontsize=14)\\n\\n\\nplt.savefig('kriging_mapping_error_w1819.png', dpi=300, bbox_inches='tight')\\n\""
      ]
     },
     "execution_count": 90,
     "metadata": {},
     "output_type": "execute_result"
    },
    {
     "data": {
      "image/png": "[encoded data removed]",
      "text/plain": [
       "<Figure size 576x864 with 8 Axes>"
      ]
     },
     "metadata": {
      "needs_background": "light"
     },
     "output_type": "display_data"
    }
   ],
   "source": [
    "fig, ax_lst = plt.subplots(3, 2,figsize=(8, 12), subplot_kw=dict(projection=ccrs.PlateCarree()), gridspec_kw={'hspace': 0.1, 'wspace': 0.05})\n",
    "\n",
    "#fig.tight_layout(pad=1)\n",
    "mpl.rcParams['font.size'] = 8\n",
    "\n",
    "def label_subplots(ax_lst, *, upper_case=True,\n",
    "                   offset_points=(-5, -5)):\n",
    "    start_ord = 65 if upper_case else 97\n",
    "    for ax, lab in zip(np.ravel(ax_lst), (chr(j) for j in count(start_ord))):\n",
    "        ax.annotate(lab, (0.08, 1),\n",
    "                    xytext=offset_points,\n",
    "                    xycoords='axes fraction',\n",
    "                    textcoords='offset points',\n",
    "                    ha='right', va='top', fontsize=14, fontweight='bold')\n",
    "\n",
    "label_subplots(ax_lst, upper_case=True)\n",
    "\n",
    "\n",
    "# Figure 1\n",
    "\n",
    "ax_lst[0,1].set_extent([-75, -69, 39, 43])\n",
    "\n",
    "gl = ax_lst[0,1].gridlines(draw_labels=True, linestyle='--',alpha=0.7,linewidth=0.5)\n",
    "gl.xlabels_bottom = False\n",
    "gl.xlabels_top = False\n",
    "gl.ylabels_left = False\n",
    "gl.xlocator = mticker.FixedLocator([-75, -74, -73, -72, -71, -70, -69])\n",
    "gl.ylocator = mticker.FixedLocator([39, 40, 41, 42, 43])\n",
    "gl.xformatter = LONGITUDE_FORMATTER\n",
    "gl.yformatter = LATITUDE_FORMATTER\n",
    "\n",
    "shp = shapereader.Reader('C:/Users/panmits86/Desktop/Python/SNE_shapefile/GSHHS_i_L1_SNE1.shp')\n",
    "for record, geometry in zip(shp.records(), shp.geometries()):\n",
    "    ax_lst[0,1].add_geometries([geometry], ccrs.PlateCarree(), facecolor='gray')\n",
    "    \n",
    "    \n",
    "#cmap=cmaps.BlAqGrYeOrRe\n",
    "cmap=cmaps.NCV_bright\n",
    "bounds = np.array([0.28,0.3,0.32,0.34,0.36,0.38,0.40])\n",
    "#bounds = np.arange(0,5,0.5)\n",
    "#norm = colors.BoundaryNorm(boundaries=bounds, ncolors=10)\n",
    "norm = mpl.colors.Normalize(vmin=0.017, vmax=0.075)\n",
    "#norm = mpl.colors.Normalize(vmin=0., vmax=3)\n",
    "\n",
    "#cs2 = plt.contourf(x, y, field, levels=5, linewidths=0.5, cmap=cmap)\n",
    "cs2 = ax_lst[0,1].pcolormesh(x, y, (np.sqrt(ssj1)-np.sqrt(ss1)).T, cmap=cmap,norm=norm)\n",
    "\n",
    "\n",
    "cax,kw = matplotlib.colorbar.make_axes(ax_lst[0,1],location='bottom',pad=0.05,aspect=50)\n",
    "\n",
    "out=fig.colorbar(cs2,cax=cax,ticks=bounds,extend='both',**kw)\n",
    "out.set_label('$H_{s}$ Mapping Error (m)',size=10)\n",
    "#ax.set_title('Kriging using 1Hz Altimeter Data (Winter Season 2017-18) 0.1deg Resolution',fontsize=14)\n",
    "#plt.savefig('Kriging_swh_2018_0.1deg_exp_10lags_pk.png', dpi=300, bbox_inches='tight')\n",
    "#plt.savefig('Kriging_swh_test.png', dpi=300, bbox_inches='tight')\n",
    "\n",
    "\"\"\"\n",
    "\n",
    "\n",
    "# Figure 2\n",
    "\n",
    "ax_lst[0,0].set_extent([-75, -69, 39, 43])\n",
    "\n",
    "gl = ax_lst[0,0].gridlines(draw_labels=True, linestyle='--',alpha=0.7,linewidth=0.5)\n",
    "gl.xlabels_bottom = False\n",
    "#gl.xlabels_top = False\n",
    "gl.ylabels_right = False\n",
    "gl.xlocator = mticker.FixedLocator([-75, -74, -73, -72, -71, -70, -69])\n",
    "gl.ylocator = mticker.FixedLocator([39, 40, 41, 42, 43])\n",
    "gl.xformatter = LONGITUDE_FORMATTER\n",
    "gl.yformatter = LATITUDE_FORMATTER\n",
    "\n",
    "shp = shapereader.Reader('C:/Users/panmits86/Desktop/Python/SNE_shapefile/GSHHS_i_L1_SNE1.shp')\n",
    "for record, geometry in zip(shp.records(), shp.geometries()):\n",
    "    ax_lst[0,0].add_geometries([geometry], ccrs.PlateCarree(), facecolor='gray')\n",
    "    \n",
    "    \n",
    "#cmap=cmaps.BlAqGrYeOrRe\n",
    "cmap=cmaps.NCV_bright\n",
    "bounds = np.array([0.28,0.3,0.32,0.34,0.36,0.38,0.40])\n",
    "#bounds = np.arange(0,5,0.5)\n",
    "#norm = colors.BoundaryNorm(boundaries=bounds, ncolors=10)\n",
    "norm = mpl.colors.Normalize(vmin=0.28, vmax=0.4)\n",
    "#norm = mpl.colors.Normalize(vmin=0., vmax=3)\n",
    "\n",
    "#cs2 = plt.contourf(x, y, field, levels=5, linewidths=0.5, cmap=cmap)\n",
    "cs2 = ax_lst[0,0].pcolormesh(x, y, ssj1.T, cmap=cmap, norm=norm)\n",
    "\n",
    "\n",
    "cax,kw = matplotlib.colorbar.make_axes(ax_lst[0,0],location='bottom',pad=0.05,aspect=50)\n",
    "\n",
    "out=fig.colorbar(cs2,cax=cax,ticks=bounds,extend='both',**kw)\n",
    "out.set_label('$H_{s}$ Mapping Error (m)',size=10)\n",
    "#ax.set_title('Kriging using 1Hz Altimeter Data (Winter Season 2017-18) 0.1deg Resolution',fontsize=14)\n",
    "\n",
    "\"\"\"\n",
    "# Figure 3\n",
    "\n",
    "ax_lst[1,1].set_extent([-75, -69, 39, 43])\n",
    "\n",
    "gl = ax_lst[1,1].gridlines(draw_labels=True, linestyle='--',alpha=0.7,linewidth=0.5)\n",
    "gl.xlabels_bottom = False\n",
    "#gl.xlabels_top = False\n",
    "gl.ylabels_left = False\n",
    "gl.xlocator = mticker.FixedLocator([-75, -74, -73, -72, -71, -70, -69])\n",
    "gl.ylocator = mticker.FixedLocator([39, 40, 41, 42, 43])\n",
    "gl.xformatter = LONGITUDE_FORMATTER\n",
    "gl.yformatter = LATITUDE_FORMATTER\n",
    "\n",
    "shp = shapereader.Reader('C:/Users/panmits86/Desktop/Python/SNE_shapefile/GSHHS_i_L1_SNE1.shp')\n",
    "for record, geometry in zip(shp.records(), shp.geometries()):\n",
    "    ax_lst[1,1].add_geometries([geometry], ccrs.PlateCarree(), facecolor='gray')\n",
    "    \n",
    "    \n",
    "#cmap=cmaps.BlAqGrYeOrRe\n",
    "cmap=cmaps.NCV_bright\n",
    "bounds = np.array([0.28,0.3,0.32,0.34,0.36,0.38,0.40])\n",
    "#bounds = np.arange(0,5,0.5)\n",
    "#norm = colors.BoundaryNorm(boundaries=bounds, ncolors=10)\n",
    "norm = mpl.colors.Normalize(vmin=0., vmax=0.75)\n",
    "#norm = mpl.colors.Normalize(vmin=0., vmax=3)\n",
    "\n",
    "#cs2 = plt.contourf(x, y, field, levels=5, linewidths=0.5, cmap=cmap)\n",
    "cs2 = ax_lst[1,1].pcolormesh(x, y, (np.sqrt(ssjs1)-np.sqrt(ss1)).T, cmap=cmap,norm=norm)\n",
    "\n",
    "\n",
    "cax,kw = matplotlib.colorbar.make_axes(ax_lst[1,1],location='bottom',pad=0.05,aspect=50)\n",
    "\n",
    "out=fig.colorbar(cs2,cax=cax,ticks=bounds,extend='both',**kw)\n",
    "out.set_label('$H_{s}$ Mapping Error (m)',size=10)\n",
    "#ax.set_title('Kriging using 1Hz Altimeter Data (Winter Season 2017-18) 0.1deg Resolution',fontsize=14)\n",
    "\"\"\"\n",
    "\n",
    "# Figure 4\n",
    "\n",
    "ax_lst[1,0].set_extent([-75, -69, 39, 43])\n",
    "\n",
    "gl = ax_lst[1,0].gridlines(draw_labels=True, linestyle='--',alpha=0.7,linewidth=0.5)\n",
    "gl.xlabels_bottom = False\n",
    "gl.xlabels_top = False\n",
    "gl.ylabels_right = False\n",
    "gl.xlocator = mticker.FixedLocator([-75, -74, -73, -72, -71, -70, -69])\n",
    "gl.ylocator = mticker.FixedLocator([39, 40, 41, 42, 43])\n",
    "gl.xformatter = LONGITUDE_FORMATTER\n",
    "gl.yformatter = LATITUDE_FORMATTER\n",
    "\n",
    "shp = shapereader.Reader('C:/Users/panmits86/Desktop/Python/SNE_shapefile/GSHHS_i_L1_SNE1.shp')\n",
    "for record, geometry in zip(shp.records(), shp.geometries()):\n",
    "    ax_lst[1,0].add_geometries([geometry], ccrs.PlateCarree(), facecolor='gray')\n",
    "    \n",
    "    \n",
    "#cmap=cmaps.BlAqGrYeOrRe\n",
    "cmap=cmaps.NCV_bright\n",
    "bounds = np.array([0.28,0.3,0.32,0.34,0.36,0.38,0.40])\n",
    "#bounds = np.arange(0,5,0.5)\n",
    "#norm = colors.BoundaryNorm(boundaries=bounds, ncolors=10)\n",
    "norm = mpl.colors.Normalize(vmin=0.28, vmax=0.4)\n",
    "#norm = mpl.colors.Normalize(vmin=0., vmax=3)\n",
    "\n",
    "#cs2 = plt.contourf(x, y, field, levels=5, linewidths=0.5, cmap=cmap)\n",
    "cs2 = ax_lst[1,0].pcolormesh(x, y, ssjss1.T, cmap=cmap, norm=norm)\n",
    "\n",
    "\n",
    "cax,kw = matplotlib.colorbar.make_axes(ax_lst[1,0],location='bottom',pad=0.05,aspect=50)\n",
    "\n",
    "out=fig.colorbar(cs2,cax=cax,ticks=bounds,extend='both',**kw)\n",
    "out.set_label('$H_{s}$ Mapping Error (m)',size=10)\n",
    "#ax.set_title('Kriging using 1Hz Altimeter Data (Winter Season 2017-18) 0.1deg Resolution',fontsize=14)\n",
    "\n",
    "\n",
    "plt.savefig('kriging_mapping_error_w1819.png', dpi=300, bbox_inches='tight')\n",
    "\"\"\""
   ]
  },
  {
   "cell_type": "code",
   "execution_count": 101,
   "metadata": {},
   "outputs": [],
   "source": [
    "z = inv_boxcox(z1,l)"
   ]
  },
  {
   "cell_type": "code",
   "execution_count": 122,
   "metadata": {},
   "outputs": [
    {
     "name": "stderr",
     "output_type": "stream",
     "text": [
      "C:\\Users\\panmits86\\Anaconda3\\envs\\thesis\\lib\\site-packages\\cartopy\\mpl\\gridliner.py:319: UserWarning: The .xlabels_bottom attribute is deprecated. Please use .bottom_labels to toggle visibility instead.\n",
      "  warnings.warn('The .xlabels_bottom attribute is deprecated. Please '\n"
     ]
    },
    {
     "data": {
      "image/png": "[encoded data removed]",
      "text/plain": [
       "<Figure size 432x648 with 2 Axes>"
      ]
     },
     "metadata": {
      "needs_background": "light"
     },
     "output_type": "display_data"
    }
   ],
   "source": [
    "fig, ax = make_map(projection=ccrs.PlateCarree())\n",
    "ax.set_extent([-75, -69, 39, 43])\n",
    "\n",
    "shp = shapereader.Reader('C:/Users/panmits86/Desktop/Python/SNE_shapefile/GSHHS_i_L1_SNE1.shp')\n",
    "for record, geometry in zip(shp.records(), shp.geometries()):\n",
    "    ax.add_geometries([geometry], ccrs.PlateCarree(), facecolor='gray')\n",
    "    \n",
    "\n",
    "cmap=cmaps.BlAqGrYeOrRe\n",
    "#bounds = np.array([0.,0.5,1.,1.5,2.,2.5,3])\n",
    "#bounds = np.arange(0,5,0.5)\n",
    "#norm = colors.BoundaryNorm(boundaries=bounds, ncolors=10)\n",
    "norm = mpl.colors.Normalize(vmin=0.7, vmax=2.7)\n",
    "#norm = mpl.colors.Normalize(vmin=0., vmax=3)\n",
    "\n",
    "#cs2 = plt.contourf(x, y, z.T, levels=15, linewidths=0.5, cmap=cmap)\n",
    "cs2 = plt.pcolormesh(x, y, z.T, cmap=cmap, norm=norm)\n",
    "\n",
    "\n",
    "cax,kw = matplotlib.colorbar.make_axes(ax,location='bottom',pad=0.05,aspect=50)\n",
    "\n",
    "out=fig.colorbar(cs2,cax=cax,extend='both',**kw)\n",
    "out.set_label('Significant Wave Height (m)',size=12)\n",
    "#ax.set_title('Kriging using 1Hz Altimeter Data (Winter Season 2017-18) 0.1deg Resolution',fontsize=14)\n",
    "plt.savefig('kriging_201819_swh1.png', dpi=300, bbox_inches='tight')"
   ]
  },
  {
   "cell_type": "code",
   "execution_count": 204,
   "metadata": {},
   "outputs": [
    {
     "data": {
      "image/png": "[encoded data removed]",
      "text/plain": [
       "<Figure size 432x648 with 2 Axes>"
      ]
     },
     "metadata": {
      "needs_background": "light"
     },
     "output_type": "display_data"
    }
   ],
   "source": [
    "fig, ax = make_map(projection=ccrs.PlateCarree())\n",
    "ax.set_extent([-75, -69, 39, 43])\n",
    "\n",
    "shp = shapereader.Reader('C:/Users/panmits86/Desktop/Python/SNE_shapefile/GSHHS_i_L1_SNE1.shp')\n",
    "for record, geometry in zip(shp.records(), shp.geometries()):\n",
    "    ax.add_geometries([geometry], ccrs.PlateCarree(), facecolor='gray')\n",
    "    \n",
    "\n",
    "cmap=cmaps.BlAqGrYeOrRe\n",
    "#bounds = np.array([0.,0.5,1.,1.5,2.,2.5,3])\n",
    "#bounds = np.arange(0,5,0.5)\n",
    "#norm = colors.BoundaryNorm(boundaries=bounds, ncolors=10)\n",
    "norm = mpl.colors.Normalize(vmin=5.5, vmax=10.5)\n",
    "#norm = mpl.colors.Normalize(vmin=0., vmax=3)\n",
    "\n",
    "cs2 = plt.contourf(x, y, z.T, levels=10, cmap=cmap)\n",
    "plt.contour(cs2, colors='black',linewidths=0.5)\n",
    "#cs2 = plt.pcolormesh(x, y, z.T, cmap=cmap, norm=norm)\n",
    "\n",
    "\n",
    "cax,kw = matplotlib.colorbar.make_axes(ax,location='bottom',pad=0.05,aspect=50)\n",
    "\n",
    "out=fig.colorbar(cs2,cax=cax,extend='both',**kw)\n",
    "out.set_label('Wind Speed (m/s)',size=12)\n",
    "#ax.set_title('Kriging using 1Hz Altimeter Data (Winter Season 2017-18) 0.1deg Resolution',fontsize=14)\n",
    "plt.savefig('kriging_201819_ws_lin.png', dpi=300, bbox_inches='tight')"
   ]
  },
  {
   "cell_type": "code",
   "execution_count": 148,
   "metadata": {},
   "outputs": [
    {
     "data": {
      "image/png": "[encoded data removed]",
      "text/plain": [
       "<Figure size 432x648 with 2 Axes>"
      ]
     },
     "metadata": {
      "needs_background": "light"
     },
     "output_type": "display_data"
    }
   ],
   "source": [
    "fig, ax = make_map(projection=ccrs.PlateCarree())\n",
    "ax.set_extent([-75, -69, 39, 43])\n",
    "\n",
    "shp = shapereader.Reader('C:/Users/panmits86/Desktop/Python/SNE_shapefile/GSHHS_i_L1_SNE1.shp')\n",
    "for record, geometry in zip(shp.records(), shp.geometries()):\n",
    "    ax.add_geometries([geometry], ccrs.PlateCarree(), facecolor='gray')\n",
    "    \n",
    "\n",
    "cmap=cmaps.BlAqGrYeOrRe\n",
    "#bounds = np.array([0.,0.5,1.,1.5,2.,2.5,3])\n",
    "#bounds = np.arange(0,5,0.5)\n",
    "#norm = colors.BoundaryNorm(boundaries=bounds, ncolors=10)\n",
    "norm = mpl.colors.Normalize(vmin=0.99, vmax=1.03)\n",
    "#norm = mpl.colors.Normalize(vmin=0., vmax=3)\n",
    "\n",
    "#cs2 = plt.contourf(x, y, ss1.T, levels=10, linewidths=0.5, cmap=cmap)\n",
    "cs2 = plt.pcolormesh(x, y, np.sqrt(ss1).T, cmap=cmap, norm=norm)\n",
    "\n",
    "\n",
    "cax,kw = matplotlib.colorbar.make_axes(ax,location='bottom',pad=0.05,aspect=50)\n",
    "\n",
    "out=fig.colorbar(cs2,cax=cax,extend='both',**kw)\n",
    "out.set_label('Wind Speed (m/s)',size=12)\n",
    "#ax.set_title('Kriging using 1Hz Altimeter Data (Winter Season 2017-18) 0.1deg Resolution',fontsize=14)\n",
    "#plt.savefig('kriging_201819_ws.png', dpi=300, bbox_inches='tight')"
   ]
  },
  {
   "cell_type": "code",
   "execution_count": null,
   "metadata": {},
   "outputs": [],
   "source": []
  }
 ],
 "metadata": {
  "kernelspec": {
   "display_name": "Python 3",
   "language": "python",
   "name": "python3"
  },
  "language_info": {
   "codemirror_mode": {
    "name": "ipython",
    "version": 3
   },
   "file_extension": ".py",
   "mimetype": "text/x-python",
   "name": "python",
   "nbconvert_exporter": "python",
   "pygments_lexer": "ipython3",
   "version": "3.8.6"
  }
 },
 "nbformat": 4,
 "nbformat_minor": 4
}
