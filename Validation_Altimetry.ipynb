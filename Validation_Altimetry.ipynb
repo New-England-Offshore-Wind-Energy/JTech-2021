{
 "cells": [
  {
   "cell_type": "markdown",
   "id": "2bc2d7ac",
   "metadata": {},
   "source": [
    "# Validation of Wind & Wave data from Satellite Altimetry with Buoys observations\n",
    "\n",
    "## Purpose\n",
    "\n",
    "In this Notebook, we are looking at the consistency of the wind speed and significant wave height between altimeters and observations from the buoy stations moored in the domain.\n",
    "\n",
    "## Methodology\n",
    "\n",
    "1. The first step is to keep only the valid significant wave height satellite observations on the grounds that there are many outliers owing to land contamination and the sensitivity of altimeters to clouds and low rain. The criteria are included and described in the references. We keep the satellite wind speed data correspondingly. \n",
    "2. To create a colocation algorithm, first we detect and keep satellite observations in specific distance from each buoy's location. The domain of interest is located close to the coast, therefore the distance of $10km$ is chosen. For every observation in the specific distance limit, we compute the time difference between each satellite observation and each buoy observation. We keep only the observations with a time difference of 30 minutes.\n",
    "3. The algorithm is independent of the compared variable. It can be used for comparing either wind speed or significant wave height.\n",
    "\n",
    "## Work in Progress - improvements\n",
    "\n",
    "1. Correct the Bias estimation.\n",
    "2. Improve the figures\n",
    "\n",
    "## Results"
   ]
  },
  {
   "cell_type": "code",
   "execution_count": 5,
   "id": "4b7da175",
   "metadata": {},
   "outputs": [],
   "source": [
    "#data manipulation\n",
    "from pathlib import Path\n",
    "import numpy as np\n",
    "from numpy import percentile\n",
    "from datetime import datetime, timedelta\n",
    "import xarray as xr\n",
    "import pandas as pd\n",
    "import glob\n",
    "from sklearn.model_selection import train_test_split \n",
    "from sklearn.linear_model import LinearRegression, RANSACRegressor\n",
    "from sklearn import metrics\n",
    "from sklearn.metrics import r2_score, mean_squared_error\n",
    "from sklearn.model_selection import cross_val_score, cross_validate\n",
    "from sklearn.preprocessing import PolynomialFeatures\n",
    "from sklearn.pipeline import make_pipeline\n",
    "\n",
    "from math import sqrt\n",
    "from scipy import stats\n",
    "from scipy.stats import gaussian_kde\n",
    "from scipy.constants import g, pi\n",
    "\n",
    "\n",
    "#double iteration in pandas\n",
    "from itertools import product\n",
    "\n",
    "#compute distance between two points on earth\n",
    "from haversine import haversine, haversine_vector, Unit\n",
    "\n",
    "#mapping\n",
    "import cartopy.crs as ccrs\n",
    "import cartopy.feature as cfeature\n",
    "from cartopy.io import shapereader\n",
    "from cartopy.mpl.gridliner import LONGITUDE_FORMATTER, LATITUDE_FORMATTER\n",
    "\n",
    "#import gdal\n",
    "\n",
    "#colorbars\n",
    "import cmocean\n",
    "import cmaps\n",
    "\n",
    "#plotting\n",
    "import matplotlib as mpl\n",
    "import matplotlib\n",
    "import matplotlib.pyplot as plt\n",
    "import matplotlib.ticker as mticker\n",
    "import matplotlib.patches as mpatch\n",
    "import matplotlib.patches as patches\n",
    "from matplotlib.transforms import offset_copy\n",
    "import matplotlib.colors as colors\n",
    "\n",
    "import warnings; warnings.simplefilter('ignore')\n",
    "\n",
    "\n",
    "%matplotlib inline"
   ]
  },
  {
   "cell_type": "markdown",
   "id": "6a75cc74",
   "metadata": {},
   "source": [
    "## Input Data"
   ]
  },
  {
   "cell_type": "markdown",
   "id": "6e5fa49c",
   "metadata": {},
   "source": [
    "### SARAL-AltiKa"
   ]
  },
  {
   "cell_type": "code",
   "execution_count": 50,
   "id": "db6126d9",
   "metadata": {},
   "outputs": [],
   "source": [
    "altika1 = pd.read_csv('C:/Users/panmits86/Desktop/Python/data/valid_altimeter_data/altika_phase1_qc.txt',  sep='\\t')\n",
    "altika2 = pd.read_csv('C:/Users/panmits86/Desktop/Python/data/valid_altimeter_data/altika_phase2_qc_gdrf_full.txt',  sep='\\t')\n",
    "\n",
    "altika = pd.concat([altika1,altika2],axis=0)"
   ]
  },
  {
   "cell_type": "markdown",
   "id": "b2b89479",
   "metadata": {},
   "source": [
    "### Jason 3"
   ]
  },
  {
   "cell_type": "code",
   "execution_count": 51,
   "id": "b93cd96d",
   "metadata": {},
   "outputs": [],
   "source": [
    "jason31 = pd.read_csv('C:/Users/panmits86/Desktop/Python/data/valid_altimeter_data/jason3_phase1_qc.txt',  sep='\\t')\n",
    "jason32 = pd.read_csv('C:/Users/panmits86/Desktop/Python\\data/valid_altimeter_data/jason3_phase2_gdrd_qc.txt',  sep='\\t')\n",
    "\n",
    "jason3 = pd.concat([jason31,jason32],axis=0)"
   ]
  },
  {
   "cell_type": "markdown",
   "id": "2ab97555",
   "metadata": {},
   "source": [
    "### Cryosat 2"
   ]
  },
  {
   "cell_type": "code",
   "execution_count": 52,
   "id": "b4284192",
   "metadata": {},
   "outputs": [],
   "source": [
    "cryosat21 = pd.read_csv('C:/Users/panmits86/Desktop/Python/data/valid_altimeter_data/cryosat2_qc_1.txt',  sep='\\t')\n",
    "cryosat22 = pd.read_csv('C:/Users/panmits86/Desktop/Python/data/valid_altimeter_data/cryosat2_qc_2.txt',  sep='\\t')\n",
    "\n",
    "cryosat2 = pd.concat([cryosat21,cryosat22],axis=0)"
   ]
  },
  {
   "cell_type": "markdown",
   "id": "f0362536",
   "metadata": {},
   "source": [
    "### Sentinel 3"
   ]
  },
  {
   "cell_type": "code",
   "execution_count": 53,
   "id": "c20d54ad",
   "metadata": {},
   "outputs": [],
   "source": [
    "# sentinel3 A & B\n",
    "\n",
    "sentinel31 = pd.read_csv('C:/Users/panmits86/Desktop/Python/data/valid_altimeter_data/sentinel3a_qc_1.txt',  sep='\\t')\n",
    "sentinel32 = pd.read_csv('C:/Users/panmits86/Desktop/Python/data/valid_altimeter_data/sentinel3b_qc_1.txt',  sep='\\t')\n",
    "sentinel33 = pd.read_csv('C:/Users/panmits86/Desktop/Python/data/valid_altimeter_data/sentinel3ab_qc_2.txt',  sep='\\t')\n",
    "\n",
    "sentinel3 = pd.concat([sentinel31,sentinel32,sentinel33],axis=0)"
   ]
  },
  {
   "cell_type": "code",
   "execution_count": 54,
   "id": "55f3c422",
   "metadata": {},
   "outputs": [],
   "source": [
    "altika = altika.reset_index()\n",
    "altika = altika.drop(['index'], axis=1)\n",
    "altika['time'] = pd.to_datetime(altika['time'])\n",
    "\n",
    "\n",
    "jason3 = jason3.reset_index()\n",
    "jason3 = jason3.drop(['index'], axis=1)\n",
    "jason3['time'] = pd.to_datetime(jason3['time'])\n",
    "\n",
    "\n",
    "cryosat2 = cryosat2.reset_index()\n",
    "cryosat2 = cryosat2.drop(['index'], axis=1)\n",
    "cryosat2['time'] = pd.to_datetime(cryosat2['time'])\n",
    "\n",
    "\n",
    "sentinel3 = sentinel3.reset_index()\n",
    "sentinel3 = sentinel3.drop(['index'], axis=1)\n",
    "sentinel3['time'] = pd.to_datetime(sentinel3['time'])"
   ]
  },
  {
   "cell_type": "markdown",
   "id": "48731846",
   "metadata": {},
   "source": [
    "### Buoys"
   ]
  },
  {
   "cell_type": "code",
   "execution_count": 6,
   "id": "c82b7673",
   "metadata": {},
   "outputs": [],
   "source": [
    "# input buoys coordinates (buoy_coords parameter)\n",
    "\n",
    "buoys = pd.read_excel('buoys.xlsx', header=0, index_col=None, usecols=\"C:E\")\n",
    "\n",
    "b44017 = (buoys['Latitude'][3],buoys['Longitude'][3]+360)\n",
    "b44025 = (buoys['Latitude'][2],buoys['Longitude'][2]+360)\n",
    "b44065 = (buoys['Latitude'][4],buoys['Longitude'][4]+360)\n",
    "b44020 = (buoys['Latitude'][1],buoys['Longitude'][1]+360)\n",
    "b44097 = (buoys['Latitude'][0],buoys['Longitude'][0]+360)\n",
    "b44039 = (buoys['Latitude'][5],buoys['Longitude'][5]+360)\n",
    "b44008 = (buoys['Latitude'][6],buoys['Longitude'][6]+360)\n",
    "b44066 = (buoys['Latitude'][7],buoys['Longitude'][7]+360)\n",
    "b44091 = (buoys['Latitude'][8],buoys['Longitude'][8]+360)\n",
    "b44013 = (buoys['Latitude'][9],buoys['Longitude'][9]+360)\n",
    "b44090 = (buoys['Latitude'][10],buoys['Longitude'][10]+360)\n",
    "b44018 = (buoys['Latitude'][11],buoys['Longitude'][11]+360)"
   ]
  },
  {
   "cell_type": "code",
   "execution_count": 7,
   "id": "d337a2cc",
   "metadata": {},
   "outputs": [],
   "source": [
    "# make a parser to include minutes, hours, days, months, years in one column and convert to datetime\n",
    "def parse(yr, mo, doy, hr, min):\n",
    "    yr, mo, doy, hr, min = [int(x) for x in [yr, mo, doy, hr, min]]\n",
    "    dt = datetime(yr - 0, mo, doy, hr, min)\n",
    "    return dt"
   ]
  },
  {
   "cell_type": "markdown",
   "id": "5e394815",
   "metadata": {},
   "source": [
    "### Significant Wave Height"
   ]
  },
  {
   "cell_type": "code",
   "execution_count": 141,
   "id": "7e8186ef",
   "metadata": {},
   "outputs": [],
   "source": [
    "# read all buoy data files and concatenate them into one single pandas data frame and exclude wave height error values\n",
    "# input for the buoy_data parameter (e.g. b44017_wind_wave)\n",
    "\n",
    "\n",
    "# Buoy 44017\n",
    "\n",
    "path = r'C:/Users/panmits86/Desktop/Python/data/buoys/Station_44017_1'\n",
    "all_files = glob.glob(path + \"/*.txt\")\n",
    "\n",
    "b44017_wave = pd.concat((pd.read_csv(f, delim_whitespace=True, \n",
    "                         skiprows=lambda x: x == 1, usecols=[0,1,2,3,4,6,8], header=0, date_parser=parse, \n",
    "                          parse_dates={'Date':['#YY','MM','DD','hh','mm']}) for f in all_files))\n",
    "b44017_wave = b44017_wave[(b44017_wave.WVHT !=99) & (b44017_wave.WVHT > 0.1)]\n",
    "b44017_wave.reset_index(inplace=True)\n",
    "b44017_wave.drop('index', 1, inplace=True)\n",
    "\n",
    "\n",
    "# Buoy 44025\n",
    "\n",
    "path = r'C:/Users/panmits86/Desktop/Python/data/buoys/Station_44025_1'\n",
    "all_files = glob.glob(path + \"/*.txt\")\n",
    "\n",
    "b44025_wave = pd.concat((pd.read_csv(f, delim_whitespace=True, \n",
    "                         skiprows=lambda x: x == 1, usecols=[0,1,2,3,4,6,8], header=0, date_parser=parse, \n",
    "                          parse_dates={'Date':['#YY','MM','DD','hh','mm']}) for f in all_files))\n",
    "b44025_wave = b44025_wave[(b44025_wave.WVHT !=99) & (b44025_wave.WVHT > 0.1)]\n",
    "b44025_wave.reset_index(inplace=True)\n",
    "b44025_wave.drop('index', 1, inplace=True)\n",
    "\n",
    "\n",
    "# Buoy 44097\n",
    "\n",
    "path = r'C:/Users/panmits86/Desktop/Python/data/buoys/Station_44097_1'\n",
    "all_files = glob.glob(path + \"/*.txt\")\n",
    "\n",
    "b44097_wave = pd.concat((pd.read_csv(f, delim_whitespace=True, \n",
    "                         skiprows=lambda x: x == 1, usecols=[0,1,2,3,4,6,8], header=0, date_parser=parse, \n",
    "                          parse_dates={'Date':['#YY','MM','DD','hh','mm']}) for f in all_files))\n",
    "b44097_wave = b44097_wave[(b44097_wave.WVHT !=99) & (b44097_wave.WVHT > 0.1)]\n",
    "b44097_wave.reset_index(inplace=True)\n",
    "b44097_wave.drop('index', 1, inplace=True)\n",
    "\n",
    "\n",
    "# Buoy 44065\n",
    "\n",
    "path = r'C:/Users/panmits86/Desktop/Python/data/buoys/Station_44065_1'\n",
    "all_files = glob.glob(path + \"/*.txt\")\n",
    "\n",
    "b44065_wave = pd.concat((pd.read_csv(f, delim_whitespace=True, \n",
    "                         skiprows=lambda x: x == 1, usecols=[0,1,2,3,4,6,8], header=0, date_parser=parse, \n",
    "                          parse_dates={'Date':['#YY','MM','DD','hh','mm']}) for f in all_files))\n",
    "b44065_wave = b44065_wave[(b44065_wave.WVHT !=99) & (b44065_wave.WVHT > 0.1)]\n",
    "b44065_wave.reset_index(inplace=True)\n",
    "b44065_wave.drop('index', 1, inplace=True)\n",
    "\n",
    "\n",
    "# Buoy 44020\n",
    "\n",
    "path = r'C:/Users/panmits86/Desktop/Python/data/buoys/Station_44020_1'\n",
    "all_files = glob.glob(path + \"/*.txt\")\n",
    "\n",
    "b44020_wave = pd.concat((pd.read_csv(f, delim_whitespace=True, \n",
    "                         skiprows=lambda x: x == 1, usecols=[0,1,2,3,4,6,8], header=0, date_parser=parse, \n",
    "                          parse_dates={'Date':['#YY','MM','DD','hh','mm']}) for f in all_files))\n",
    "b44020_wave = b44020_wave[(b44020_wave.WVHT !=99) & (b44020_wave.WVHT > 0.1)]\n",
    "b44020_wave.reset_index(inplace=True)\n",
    "b44020_wave.drop('index', 1, inplace=True)\n",
    "\n",
    "\n",
    "# Buoy 44039\n",
    "\n",
    "path = r'C:/Users/panmits86/Desktop/Python/data/buoys/Station_44039_1'\n",
    "all_files = glob.glob(path + \"/*.txt\")\n",
    "\n",
    "b44039_wave = pd.concat((pd.read_csv(f, delim_whitespace=True, \n",
    "                         skiprows=lambda x: x == 1, usecols=[0,1,2,3,4,6,8], header=0, date_parser=parse, \n",
    "                          parse_dates={'Date':['#YY','MM','DD','hh','mm']}) for f in all_files))\n",
    "b44039_wave = b44039_wave[(b44039_wave.WVHT !=99) & (b44039_wave.WVHT > 0.1)]\n",
    "b44039_wave.reset_index(inplace=True)\n",
    "b44039_wave.drop('index', 1, inplace=True)\n",
    "\n",
    "\n",
    "# Buoy 44091\n",
    "\n",
    "path = r'C:/Users/panmits86/Desktop/Python/data/buoys/Station_44091'\n",
    "all_files = glob.glob(path + \"/*.txt\")\n",
    "\n",
    "b44091_wave = pd.concat((pd.read_csv(f, delim_whitespace=True, \n",
    "                         skiprows=lambda x: x == 1, usecols=[0,1,2,3,4,6,8], header=0, date_parser=parse, \n",
    "                          parse_dates={'Date':['#YY','MM','DD','hh','mm']}) for f in all_files))\n",
    "b44091_wave = b44091_wave[(b44091_wave.WVHT !=99) & (b44091_wave.WVHT > 0.1)]\n",
    "b44091_wave.reset_index(inplace=True)\n",
    "b44091_wave.drop('index', 1, inplace=True)\n",
    "\n",
    "\n",
    "# Buoy 44008\n",
    "\n",
    "path = r'C:/Users/panmits86/Desktop/Python/data/buoys/Station_44008'\n",
    "all_files = glob.glob(path + \"/*.txt\")\n",
    "\n",
    "b44008_wave = pd.concat((pd.read_csv(f, delim_whitespace=True, \n",
    "                         skiprows=lambda x: x == 1, usecols=[0,1,2,3,4,6,8], header=0, date_parser=parse, \n",
    "                          parse_dates={'Date':['#YY','MM','DD','hh','mm']}) for f in all_files))\n",
    "b44008_wave = b44008_wave[(b44008_wave.WVHT !=99) & (b44008_wave.WVHT > 0.1)]\n",
    "b44008_wave.reset_index(inplace=True)\n",
    "b44008_wave.drop('index', 1, inplace=True)\n",
    "\n",
    "\n",
    "# Buoy 44066\n",
    "\n",
    "path = r'C:/Users/panmits86/Desktop/Python/data/buoys/Station_44066/2013-2019'\n",
    "all_files = glob.glob(path + \"/*.txt\")\n",
    "\n",
    "b44066_wave = pd.concat((pd.read_csv(f, delim_whitespace=True, \n",
    "                         skiprows=lambda x: x == 1, usecols=[0,1,2,3,4,6,8], header=0, date_parser=parse, \n",
    "                          parse_dates={'Date':['#YY','MM','DD','hh','mm']}) for f in all_files))\n",
    "b44066_wave = b44066_wave[(b44066_wave.WVHT !=99) & (b44066_wave.WVHT > 0.1)]\n",
    "b44066_wave.reset_index(inplace=True)\n",
    "b44066_wave.drop('index', 1, inplace=True)\n",
    "\n",
    "\n",
    "# Buoy 44013\n",
    "\n",
    "path = r'C:/Users/panmits86/Desktop/Python/data/buoys/Station_44013'\n",
    "all_files = glob.glob(path + \"/*.txt\")\n",
    "\n",
    "b44013_wave = pd.concat((pd.read_csv(f, delim_whitespace=True, \n",
    "                         skiprows=lambda x: x == 1, usecols=[0,1,2,3,4,6,8], header=0, date_parser=parse, \n",
    "                          parse_dates={'Date':['#YY','MM','DD','hh','mm']}) for f in all_files))\n",
    "b44013_wave = b44013_wave[(b44013_wave.WVHT !=99) & (b44013_wave.WVHT > 0.1)]\n",
    "b44013_wave.reset_index(inplace=True)\n",
    "b44013_wave.drop('index', 1, inplace=True)\n",
    "\n",
    "\n",
    "# Buoy 44018\n",
    "\n",
    "path = r'C:/Users/panmits86/Desktop/Python/data/buoys/Station_44018'\n",
    "all_files = glob.glob(path + \"/*.txt\")\n",
    "\n",
    "b44018_wave = pd.concat((pd.read_csv(f, delim_whitespace=True, \n",
    "                         skiprows=lambda x: x == 1, usecols=[0,1,2,3,4,6,8], header=0, date_parser=parse, \n",
    "                          parse_dates={'Date':['#YY','MM','DD','hh','mm']}) for f in all_files))\n",
    "b44018_wave = b44018_wave[(b44018_wave.WVHT !=99) & (b44018_wave.WVHT > 0.1)]\n",
    "b44018_wave.reset_index(inplace=True)\n",
    "b44018_wave.drop('index', 1, inplace=True)\n",
    "\n",
    "\n",
    "# Buoy 44090\n",
    "\n",
    "path = r'C:/Users/panmits86/Desktop/Python/data/buoys/Station_44090'\n",
    "all_files = glob.glob(path + \"/*.txt\")\n",
    "\n",
    "b44090_wave = pd.concat((pd.read_csv(f, delim_whitespace=True, \n",
    "                         skiprows=lambda x: x == 1, usecols=[0,1,2,3,4,6,8], header=0, date_parser=parse, \n",
    "                          parse_dates={'Date':['#YY','MM','DD','hh','mm']}) for f in all_files))\n",
    "b44090_wave = b44090_wave[(b44090_wave.WVHT !=99) & (b44090_wave.WVHT > 0.1)]\n",
    "b44090_wave.reset_index(inplace=True)\n",
    "b44090_wave.drop('index', 1, inplace=True)\n",
    "\n",
    "\n",
    "# Buoy 44013\n",
    "\n",
    "path = r'C:/Users/panmits86/Desktop/Python/data/buoys/Station_44013'\n",
    "all_files = glob.glob(path + \"/*.txt\")\n",
    "\n",
    "b44013_wave = pd.concat((pd.read_csv(f, delim_whitespace=True, \n",
    "                         skiprows=lambda x: x == 1, usecols=[0,1,2,3,4,6,8], header=0, date_parser=parse, \n",
    "                          parse_dates={'Date':['#YY','MM','DD','hh','mm']}) for f in all_files))\n",
    "b44013_wave = b44013_wave[(b44013_wave.WVHT !=99) & (b44013_wave.WVHT > 0.1)]\n",
    "b44013_wave.reset_index(inplace=True)\n",
    "b44013_wave.drop('index', 1, inplace=True)"
   ]
  },
  {
   "cell_type": "code",
   "execution_count": 9,
   "id": "da8f03d8",
   "metadata": {},
   "outputs": [],
   "source": [
    "b44017_time = b44017_wave['Date']\n",
    "b44025_time = b44025_wave['Date']\n",
    "b44065_time = b44065_wave['Date']\n",
    "b44020_time = b44020_wave['Date']\n",
    "b44097_time = b44097_wave['Date']\n",
    "b44039_time = b44039_wave['Date']\n",
    "b44008_time = b44008_wave['Date']\n",
    "b44091_time = b44091_wave['Date']\n",
    "b44066_time = b44066_wave['Date']\n",
    "b44013_time = b44013_wave['Date']\n",
    "b44090_time = b44090_wave['Date']\n",
    "b44018_time = b44018_wave['Date']"
   ]
  },
  {
   "cell_type": "markdown",
   "id": "251aad13",
   "metadata": {},
   "source": [
    "## Collocation"
   ]
  },
  {
   "cell_type": "code",
   "execution_count": 210,
   "id": "351a5967",
   "metadata": {},
   "outputs": [],
   "source": [
    "# SARAL-AltiKa\n",
    "a1 = [(altika['lat'][n], altika['lon'][n]) for n in range(altika.shape[0])]\n",
    "\n",
    "# Jason 3\n",
    "a2 = [(jason3['lat'][n], jason3['lon'][n]) for n in range(jason3.shape[0])]\n",
    "\n",
    "# Cryosat 2\n",
    "b1 = [(cryosat2['lat'][n], cryosat2['lon'][n]) for n in range(cryosat2.shape[0])]\n",
    "\n",
    "# Sentinel 3\n",
    "c1 = [(sentinel3['lat'][n], sentinel3['lon'][n]) for n in range(sentinel3.shape[0])]"
   ]
  },
  {
   "cell_type": "markdown",
   "id": "55e77792",
   "metadata": {},
   "source": [
    "### Significant Wave Height"
   ]
  },
  {
   "cell_type": "code",
   "execution_count": 237,
   "id": "92ecbdc3",
   "metadata": {},
   "outputs": [],
   "source": [
    "# Set the sampling radius in kilometers and the time window in minutes\n",
    "\n",
    "radius = 10\n",
    "time_window = 15"
   ]
  },
  {
   "cell_type": "code",
   "execution_count": 238,
   "id": "cbb13520",
   "metadata": {},
   "outputs": [],
   "source": [
    "def collocation(buoy_coords,radius_km,buoy_data,buoy_time,time_window_min,altimeter_data,d):\n",
    "    hav5 = haversine_vector([buoy_coords]*altimeter_data.shape[0],d, Unit.KILOMETERS)\n",
    "    altimeter_data['Buoy-Sat. Distance (km)'] = pd.DataFrame(hav5, columns=['Buoy-Sat. Distance (km)'])\n",
    "\n",
    "    radius = altimeter_data['Buoy-Sat. Distance (km)'] < radius_km\n",
    "    colocated = altimeter_data[radius]\n",
    "    colocated.reset_index(inplace=True)\n",
    "    colocated.drop('index', 1, inplace=True)\n",
    "\n",
    "    col = colocated['Buoy-Sat. Distance (km)'].to_numpy()\n",
    "\n",
    "    sat_time = colocated['time'].reset_index()\n",
    "    sat_time.drop('index', 1, inplace=True)\n",
    "    \n",
    "    b = colocated.to_numpy()\n",
    "    c = buoy_data.to_numpy()\n",
    "\n",
    "    bb1 = np.tile(b,(c.shape[0],1))\n",
    "    cc1 = np.repeat(c,b.shape[0],axis=0)\n",
    "\n",
    "    sat = sat_time['time'].to_numpy()\n",
    "    buoy = buoy_time.to_numpy()\n",
    "\n",
    "    buoy1 = buoy[:,np.newaxis]\n",
    "\n",
    "    a = sat-buoy1\n",
    "    aa = a/np.timedelta64(1,'m')\n",
    "\n",
    "    aaa = np.ravel(aa)\n",
    "    aaaa1 = aaa[:,np.newaxis]\n",
    "    \n",
    "    dd1=np.concatenate((cc1,bb1,aaaa1),axis=1)\n",
    "    \n",
    "    ddd1 = dd1[np.where(np.absolute(dd1[:,9])<time_window_min)]\n",
    "    dddd1 = pd.DataFrame(ddd1)\n",
    "    dddd1.columns = ['Buoy Time','Buoy Wind Speed','Buoy Wave Height', 'Altimeter Time', 'Altimeter lon', 'Altimeter lat',\n",
    "                'Altimeter Wave Height', 'Altimeter Wind Speed', 'Buoy-Sat. Distance (km)', 'Time Difference (min.)']\n",
    "    \n",
    "    collocated_data = dddd1\n",
    "    \n",
    "    return collocated_data"
   ]
  },
  {
   "cell_type": "markdown",
   "id": "1ab98342",
   "metadata": {},
   "source": [
    "### SARAL-AltiKa"
   ]
  },
  {
   "cell_type": "code",
   "execution_count": 212,
   "id": "f529aaa2",
   "metadata": {},
   "outputs": [],
   "source": [
    "altika1 = collocation(b44017,radius,b44017_wave,b44017_time,time_window,altika,a1)\n",
    "altika2 = collocation(b44025,radius,b44025_wave,b44025_time,time_window,altika,a1)\n",
    "altika4 = collocation(b44065,radius,b44065_wave,b44065_time,time_window,altika,a1)\n",
    "altika5 = collocation(b44020,radius,b44020_wave,b44020_time,time_window,altika,a1)\n",
    "altika6 = collocation(b44039,radius,b44039_wave,b44039_time,time_window,altika,a1)\n",
    "altika8 = collocation(b44008,radius,b44008_wave,b44008_time,time_window,altika,a1)\n",
    "altika9 = collocation(b44066,radius,b44066_wave,b44066_time,time_window,altika,a1)\n",
    "altika10 = collocation(b44013,radius,b44013_wave,b44013_time,time_window,altika,a1)\n",
    "altika12 = collocation(b44018,radius,b44018_wave,b44018_time,time_window,altika,a1)"
   ]
  },
  {
   "cell_type": "code",
   "execution_count": 215,
   "id": "a877669d",
   "metadata": {},
   "outputs": [],
   "source": [
    "# same process but lower time window for CDIP buoys\n",
    "\n",
    "altika3 = collocation(b44097,radius,b44097_wave,b44097_time,time_window,altika,a1)\n",
    "altika7 = collocation(b44091,radius,b44091_wave,b44091_time,time_window,altika,a1)\n",
    "altika11 = collocation(b44090,radius,b44090_wave,b44090_time,time_window,altika,a1)"
   ]
  },
  {
   "cell_type": "code",
   "execution_count": 216,
   "id": "ac6e6123",
   "metadata": {},
   "outputs": [
    {
     "data": {
      "text/plain": [
       "902"
      ]
     },
     "execution_count": 216,
     "metadata": {},
     "output_type": "execute_result"
    }
   ],
   "source": [
    "# merge collocated data from different buoys (optional)\n",
    "\n",
    "merge = [altika1,altika2,altika3,altika4,altika5,altika6,altika7,altika8,altika9,altika10,altika11,altika12]\n",
    "saral_wave = pd.concat(merge)\n",
    "len(saral_wave)"
   ]
  },
  {
   "cell_type": "code",
   "execution_count": 217,
   "id": "eb95a0ee",
   "metadata": {},
   "outputs": [],
   "source": [
    "saral_wave.loc[saral_wave['Buoy Wind Speed'] == 99.0,'Buoy Wind Speed'] = np.nan\n",
    "saral_wave.loc[saral_wave['Buoy Wave Height'] == 99.0,'Buoy Wave Height'] = np.nan"
   ]
  },
  {
   "cell_type": "markdown",
   "id": "0fa2a9d0",
   "metadata": {},
   "source": [
    "### Jason 3"
   ]
  },
  {
   "cell_type": "code",
   "execution_count": 220,
   "id": "6bbfbcb0",
   "metadata": {},
   "outputs": [],
   "source": [
    "jason31 = collocation(b44017,radius,b44017_wave,b44017_time,time_window,jason3,a2)\n",
    "jason32 = collocation(b44025,radius,b44025_wave,b44025_time,time_window,jason3,a2)\n",
    "jason34 = collocation(b44065,radius,b44065_wave,b44065_time,time_window,jason3,a2)\n",
    "jason35 = collocation(b44020,radius,b44020_wave,b44020_time,time_window,jason3,a2)\n",
    "jason36 = collocation(b44039,radius,b44039_wave,b44039_time,time_window,jason3,a2)\n",
    "jason38 = collocation(b44008,radius,b44008_wave,b44008_time,time_window,jason3,a2)\n",
    "jason39 = collocation(b44066,radius,b44066_wave,b44066_time,time_window,jason3,a2)\n",
    "jason310 = collocation(b44013,radius,b44013_wave,b44013_time,time_window,jason3,a2)\n",
    "jason312 = collocation(b44018,radius,b44018_wave,b44018_time,time_window,jason3,a2)"
   ]
  },
  {
   "cell_type": "code",
   "execution_count": 223,
   "id": "46c6f8ac",
   "metadata": {},
   "outputs": [],
   "source": [
    "# same process but with reduced time window for CDIP buoys\n",
    "\n",
    "jason33 = collocation(b44097,radius,b44097_wave,b44097_time,time_window,jason3,a2)\n",
    "jason37 = collocation(b44091,radius,b44091_wave,b44091_time,time_window,jason3,a2)\n",
    "jason311 = collocation(b44090,radius,b44090_wave,b44090_time,time_window,jason3,a2)"
   ]
  },
  {
   "cell_type": "code",
   "execution_count": 224,
   "id": "69a59253",
   "metadata": {},
   "outputs": [
    {
     "data": {
      "text/plain": [
       "1293"
      ]
     },
     "execution_count": 224,
     "metadata": {},
     "output_type": "execute_result"
    }
   ],
   "source": [
    "# merge collocated data from different buoys (optional)\n",
    "\n",
    "merge = [jason31,jason32,jason33,jason34,jason35,jason36,jason37,jason38,jason39,jason310,jason311,jason312]\n",
    "jason3_wave = pd.concat(merge)\n",
    "len(jason3_wave)"
   ]
  },
  {
   "cell_type": "code",
   "execution_count": 225,
   "id": "336e67a6",
   "metadata": {},
   "outputs": [],
   "source": [
    "jason3_wave.loc[jason3_wave['Buoy Wind Speed'] == 99.0,'Buoy Wind Speed'] = np.nan\n",
    "jason3_wave.loc[jason3_wave['Buoy Wave Height'] == 99.0,'Buoy Wave Height'] = np.nan"
   ]
  },
  {
   "cell_type": "markdown",
   "id": "21b9186f",
   "metadata": {},
   "source": [
    "### Cryosat 2"
   ]
  },
  {
   "cell_type": "code",
   "execution_count": 228,
   "id": "8dd58654",
   "metadata": {},
   "outputs": [],
   "source": [
    "cryosat21 = collocation(b44017,radius,b44017_wave,b44017_time,time_window,cryosat2,b1)\n",
    "cryosat22 = collocation(b44025,radius,b44025_wave,b44025_time,time_window,cryosat2,b1)\n",
    "cryosat24 = collocation(b44065,radius,b44065_wave,b44065_time,time_window,cryosat2,b1)\n",
    "cryosat25 = collocation(b44020,radius,b44020_wave,b44020_time,time_window,cryosat2,b1)\n",
    "cryosat26 = collocation(b44039,radius,b44039_wave,b44039_time,time_window,cryosat2,b1)\n",
    "cryosat28 = collocation(b44008,radius,b44008_wave,b44008_time,time_window,cryosat2,b1)\n",
    "cryosat29 = collocation(b44066,radius,b44066_wave,b44066_time,time_window,cryosat2,b1)\n",
    "cryosat210 = collocation(b44013,radius,b44013_wave,b44013_time,time_window,cryosat2,b1)\n",
    "cryosat212 = collocation(b44018,radius,b44018_wave,b44018_time,time_window,cryosat2,b1)"
   ]
  },
  {
   "cell_type": "code",
   "execution_count": 231,
   "id": "539a1065",
   "metadata": {},
   "outputs": [],
   "source": [
    "# same process but with reduced time window for CDIP buoys\n",
    "\n",
    "cryosat23 = collocation(b44097,radius,b44097_wave,b44097_time,time_window,cryosat2,b1)\n",
    "cryosat27 = collocation(b44091,radius,b44091_wave,b44091_time,time_window,cryosat2,b1)\n",
    "cryosat211 = collocation(b44090,radius,b44090_wave,b44090_time,time_window,cryosat2,b1)"
   ]
  },
  {
   "cell_type": "code",
   "execution_count": 232,
   "id": "f0db5db6",
   "metadata": {},
   "outputs": [
    {
     "data": {
      "text/plain": [
       "904"
      ]
     },
     "execution_count": 232,
     "metadata": {},
     "output_type": "execute_result"
    }
   ],
   "source": [
    "# merge collocated data from different buoys (optional)\n",
    "\n",
    "merge = [cryosat21,cryosat22,cryosat23,cryosat24,cryosat25,cryosat26,cryosat27,cryosat28,cryosat29,cryosat210,cryosat211,cryosat212]\n",
    "cryosat2_wave = pd.concat(merge)\n",
    "len(cryosat2_wave)"
   ]
  },
  {
   "cell_type": "code",
   "execution_count": 233,
   "id": "18133b1b",
   "metadata": {},
   "outputs": [],
   "source": [
    "cryosat2_wave.loc[cryosat2_wave['Buoy Wind Speed'] == 99.0,'Buoy Wind Speed'] = np.nan\n",
    "cryosat2_wave.loc[cryosat2_wave['Buoy Wave Height'] == 99.0,'Buoy Wave Height'] = np.nan"
   ]
  },
  {
   "cell_type": "markdown",
   "id": "0cec2e45",
   "metadata": {},
   "source": [
    "### Sentinel 3"
   ]
  },
  {
   "cell_type": "code",
   "execution_count": 236,
   "id": "bf064a93",
   "metadata": {},
   "outputs": [],
   "source": [
    "sentinel31 = collocation(b44017,radius,b44017_wave,b44017_time,time_window,sentinel3,c1)\n",
    "sentinel32 = collocation(b44025,radius,b44025_wave,b44025_time,time_window,sentinel3,c1)\n",
    "sentinel34 = collocation(b44065,radius,b44065_wave,b44065_time,time_window,sentinel3,c1)\n",
    "sentinel35 = collocation(b44020,radius,b44020_wave,b44020_time,time_window,sentinel3,c1)\n",
    "sentinel36 = collocation(b44039,radius,b44039_wave,b44039_time,time_window,sentinel3,c1)\n",
    "sentinel38 = collocation(b44008,radius,b44008_wave,b44008_time,time_window,sentinel3,c1)\n",
    "sentinel39 = collocation(b44066,radius,b44066_wave,b44066_time,time_window,sentinel3,c1)\n",
    "sentinel310 = collocation(b44013,radius,b44013_wave,b44013_time,time_window,sentinel3,c1)\n",
    "sentinel312 = collocation(b44018,radius,b44018_wave,b44018_time,time_window,sentinel3,c1)"
   ]
  },
  {
   "cell_type": "code",
   "execution_count": 239,
   "id": "b5f6079b",
   "metadata": {},
   "outputs": [],
   "source": [
    "# same process but with reduced time window for CDIP buoys\n",
    "\n",
    "sentinel33 = collocation(b44097,radius,b44097_wave,b44097_time,time_window,sentinel3,c1)\n",
    "sentinel37 = collocation(b44091,radius,b44091_wave,b44091_time,time_window,sentinel3,c1)\n",
    "sentinel311 = collocation(b44090,radius,b44090_wave,b44090_time,time_window,sentinel3,c1)"
   ]
  },
  {
   "cell_type": "code",
   "execution_count": 240,
   "id": "651f48cd",
   "metadata": {},
   "outputs": [
    {
     "data": {
      "text/plain": [
       "688"
      ]
     },
     "execution_count": 240,
     "metadata": {},
     "output_type": "execute_result"
    }
   ],
   "source": [
    "# merge collocated data from different buoys (optional)\n",
    "\n",
    "merge = [sentinel31,sentinel32,sentinel33,sentinel34,sentinel35,sentinel36,sentinel37,sentinel38,sentinel39,sentinel310,sentinel311,sentinel312]\n",
    "sentinel3a_wave = pd.concat(merge)\n",
    "len(sentinel3a_wave)"
   ]
  },
  {
   "cell_type": "code",
   "execution_count": 241,
   "id": "698660b8",
   "metadata": {},
   "outputs": [],
   "source": [
    "sentinel3a_wave.loc[sentinel3a_wave['Buoy Wind Speed'] == 99.0,'Buoy Wind Speed'] = np.nan\n",
    "sentinel3a_wave.loc[sentinel3a_wave['Buoy Wave Height'] == 99.0,'Buoy Wave Height'] = np.nan"
   ]
  },
  {
   "cell_type": "markdown",
   "id": "e67563c9",
   "metadata": {},
   "source": [
    "### Validation (Regression Analysis)"
   ]
  },
  {
   "cell_type": "markdown",
   "id": "37d6021a",
   "metadata": {},
   "source": [
    "### Significant Wave Height"
   ]
  },
  {
   "cell_type": "code",
   "execution_count": 177,
   "id": "a59198c1",
   "metadata": {},
   "outputs": [],
   "source": [
    "data0 = saral_wave.set_index('Buoy Time')\n",
    "\n",
    "# select the columns that you want: [1,6] is for wind, [,] is for significant wave height data\n",
    "\n",
    "df0 = data0.iloc[:,[1,5]]\n",
    "#df1.reset_index(inplace=True)\n",
    "#df1.drop('index', 1, inplace=True)\n",
    "df0 = df0.apply(pd.to_numeric, errors='coerce')\n",
    "df0 = df0.resample('D').mean()\n",
    "df0 = df0.dropna()\n",
    "\n",
    "\n",
    "\n",
    "data1 = cryosat2_wave.set_index('Buoy Time')\n",
    "\n",
    "# select the columns that you want: [1,6] is for wind, [,] is for significant wave height data\n",
    "\n",
    "df1 = data1.iloc[:,[1,5]]\n",
    "#df1.reset_index(inplace=True)\n",
    "#df1.drop('index', 1, inplace=True)\n",
    "df1 = df1.apply(pd.to_numeric, errors='coerce')\n",
    "df1 = df1.resample('D').mean()\n",
    "df1 = df1.dropna()\n",
    "\n",
    "\n",
    "\n",
    "data2 = sentinel3a_wave.set_index('Buoy Time')\n",
    "\n",
    "# select the columns that you want: [1,6] is for wind, [,] is for significant wave height data\n",
    "\n",
    "df2 = data2.iloc[:,[1,5]]\n",
    "#df1.reset_index(inplace=True)\n",
    "#df1.drop('index', 1, inplace=True)\n",
    "df2 = df2.apply(pd.to_numeric, errors='coerce')\n",
    "df2 = df2.resample('D').mean()\n",
    "df2 = df2.dropna()\n",
    "\n",
    "\n",
    "\n",
    "data3 = jason3_wave.set_index('Buoy Time')\n",
    "\n",
    "# select the columns that you want: [1,6] is for wind, [,] is for significant wave height data\n",
    "\n",
    "df3 = data3.iloc[:,[1,5]]\n",
    "#df1.reset_index(inplace=True)\n",
    "#df1.drop('index', 1, inplace=True)\n",
    "df3 = df3.apply(pd.to_numeric, errors='coerce')\n",
    "df3 = df3.resample('D').mean()\n",
    "df3 = df3.dropna()\n"
   ]
  },
  {
   "cell_type": "code",
   "execution_count": 178,
   "id": "30f29a4f",
   "metadata": {},
   "outputs": [],
   "source": [
    "# Linear Regression\n",
    "\n",
    "xx0 = df0['Buoy Wave Height']\n",
    "\n",
    "yy0 = df0['Altimeter Wave Height']\n",
    "\n",
    "model0 = LinearRegression(fit_intercept=True)\n",
    "\n",
    "model0.fit(xx0[:, np.newaxis], yy0)\n",
    "\n",
    "x1fit0 = np.linspace(0, 6, len(xx0))\n",
    "y1fit0 = model0.predict(x1fit0[:, np.newaxis])\n",
    "\n",
    "\n",
    "\n",
    "xx1 = df1['Buoy Wave Height']\n",
    "\n",
    "yy1 = df1['Altimeter Wave Height']\n",
    "\n",
    "model1 = LinearRegression(fit_intercept=True)\n",
    "#model1 = RANSACRegressor()\n",
    "\n",
    "model1.fit(xx1[:, np.newaxis], yy1)\n",
    "\n",
    "x1fit1 = np.linspace(0, 6, len(xx1))\n",
    "y1fit1 = model1.predict(x1fit1[:, np.newaxis])\n",
    "\n",
    "\n",
    "\n",
    "xx2 = df2['Buoy Wave Height']\n",
    "\n",
    "yy2 = df2['Altimeter Wave Height']\n",
    "\n",
    "#model2 = LinearRegression(fit_intercept=True)\n",
    "model2 = LinearRegression()\n",
    "\n",
    "model2.fit(xx2[:, np.newaxis], yy2)\n",
    "\n",
    "x1fit2 = np.linspace(0, 6, len(xx2))\n",
    "y1fit2 = model2.predict(x1fit2[:, np.newaxis])\n",
    "\n",
    "\n",
    "\n",
    "xx3 = df3['Buoy Wave Height']\n",
    "\n",
    "yy3 = df3['Altimeter Wave Height']\n",
    "\n",
    "model3 = LinearRegression(fit_intercept=True)\n",
    "#model3 = RANSACRegressor()\n",
    "\n",
    "model3.fit(xx3[:, np.newaxis], yy3)\n",
    "\n",
    "x1fit3 = np.linspace(0, 6, len(xx3))\n",
    "y1fit3 = model3.predict(x1fit3[:, np.newaxis])"
   ]
  },
  {
   "cell_type": "code",
   "execution_count": 179,
   "id": "cd3782e0",
   "metadata": {},
   "outputs": [
    {
     "data": {
      "text/plain": [
       "0.03379457410152977"
      ]
     },
     "execution_count": 179,
     "metadata": {},
     "output_type": "execute_result"
    }
   ],
   "source": [
    "# Calculate Bias \n",
    "\n",
    "ds0 = xx0 - yy0\n",
    "\n",
    "bias0 = abs(ds0.sum() / len(ds0))\n",
    "bias0\n",
    "\n",
    "\n",
    "ds1 = xx1 - yy1\n",
    "\n",
    "bias1 = abs(ds1.sum() / len(ds1))\n",
    "bias1\n",
    "\n",
    "\n",
    "ds2 = xx2 - yy2\n",
    "\n",
    "bias2 = abs(ds2.sum() / len(ds2))\n",
    "bias2\n",
    "\n",
    "\n",
    "ds3 = xx3 - yy3\n",
    "\n",
    "bias3 = abs(ds3.sum() / len(ds3))\n",
    "bias3"
   ]
  },
  {
   "cell_type": "code",
   "execution_count": 180,
   "id": "d834ea5b",
   "metadata": {},
   "outputs": [
    {
     "data": {
      "text/plain": [
       "0.16471008616615784"
      ]
     },
     "execution_count": 180,
     "metadata": {},
     "output_type": "execute_result"
    }
   ],
   "source": [
    "# Calculate Scatter Index\n",
    "\n",
    "df_squared0 = (ds0)**2\n",
    "\n",
    "si0 = np.sqrt(df_squared0.sum() / len(df_squared0)) / (xx0.sum() / len(xx0))\n",
    "si0\n",
    "\n",
    "\n",
    "df_squared1 = (ds1)**2\n",
    "\n",
    "si1 = np.sqrt(df_squared1.sum() / len(df_squared1)) / (xx1.sum() / len(xx1))\n",
    "si1\n",
    "\n",
    "\n",
    "df_squared2 = (ds2)**2\n",
    "\n",
    "si2 = np.sqrt(df_squared2.sum() / len(df_squared2)) / (xx2.sum() / len(xx2))\n",
    "si2\n",
    "\n",
    "\n",
    "df_squared3 = (ds3)**2\n",
    "\n",
    "si3 = np.sqrt(df_squared3.sum() / len(df_squared3)) / (xx3.sum() / len(xx3))\n",
    "si3"
   ]
  },
  {
   "cell_type": "code",
   "execution_count": 181,
   "id": "caf941dc",
   "metadata": {},
   "outputs": [
    {
     "data": {
      "text/plain": [
       "(0.11556427088332, 0.16277644933617186)"
      ]
     },
     "execution_count": 181,
     "metadata": {},
     "output_type": "execute_result"
    }
   ],
   "source": [
    "si0 = np.sqrt((((xx0-np.average(xx0))-(yy0-np.average(yy0)))**2).sum() / len(xx0)) / np.average(xx0)\n",
    "si1 = np.sqrt((((xx1-np.average(xx1))-(yy1-np.average(yy1)))**2).sum() / len(xx1)) / np.average(xx1)\n",
    "si2 = np.sqrt((((xx2-np.average(xx2))-(yy2-np.average(yy2)))**2).sum() / len(xx2)) / np.average(xx2)\n",
    "si3 = np.sqrt((((xx3-np.average(xx3))-(yy3-np.average(yy3)))**2).sum() / len(xx3)) / np.average(xx3)\n",
    "si0, si3\n"
   ]
  },
  {
   "cell_type": "code",
   "execution_count": 182,
   "id": "9f4ee0f4",
   "metadata": {},
   "outputs": [
    {
     "data": {
      "text/plain": [
       "(0.1307191147068927, 0.22119891522045984)"
      ]
     },
     "execution_count": 182,
     "metadata": {},
     "output_type": "execute_result"
    }
   ],
   "source": [
    "rmse0 = np.sqrt(np.average((xx0 - yy0)**2))\n",
    "rmse1 = np.sqrt(np.average((xx1 - yy1)**2))\n",
    "rmse2 = np.sqrt(np.average((xx2 - yy2)**2))\n",
    "rmse3 = np.sqrt(np.average((xx3 - yy3)**2))\n",
    "rmse0, rmse3\n"
   ]
  },
  {
   "cell_type": "code",
   "execution_count": 183,
   "id": "45a9e61e",
   "metadata": {},
   "outputs": [
    {
     "data": {
      "text/plain": [
       "0.977293887743021"
      ]
     },
     "execution_count": 183,
     "metadata": {},
     "output_type": "execute_result"
    }
   ],
   "source": [
    "# Pearson's Correlation\n",
    "\n",
    "rho0 = stats.pearsonr(xx0, yy0)[0]\n",
    "rho0\n",
    "\n",
    "\n",
    "rho1 = stats.pearsonr(xx1, yy1)[0]\n",
    "rho1\n",
    "\n",
    "\n",
    "rho2 = stats.pearsonr(xx2, yy2)[0]\n",
    "rho2\n",
    "\n",
    "\n",
    "rho3 = stats.pearsonr(xx3, yy3)[0]\n",
    "rho3"
   ]
  },
  {
   "cell_type": "code",
   "execution_count": 116,
   "id": "be9e6af3",
   "metadata": {},
   "outputs": [],
   "source": [
    "# Statistics of the Regression line\n",
    "\n",
    "a0=model0.coef_\n",
    "b0=model0.intercept_\n",
    "\n",
    "\n",
    "scores_mean0 = list()\n",
    "scores_std0 = list()\n",
    "\n",
    "scores0 = cross_validate(model0, xx0[:, np.newaxis], yy0, scoring=['r2', 'neg_root_mean_squared_error'], cv=6)\n",
    "\n",
    "#rsquared0 = np.mean(scores0['test_r2'])\n",
    "#rmse0 = -np.mean(scores0['test_neg_root_mean_squared_error'])\n",
    "#rmsee0 = np.std(scores0['test_neg_root_mean_squared_error'])\n",
    "N0=len(df0)\n",
    "\n",
    "\n",
    "\n",
    "a11=model1.coef_\n",
    "b11=model1.intercept_\n",
    "\n",
    "#a11=model1.estimator_.coef_\n",
    "#b11=model1.estimator_.intercept_\n",
    "\n",
    "scores_mean1 = list()\n",
    "scores_std1 = list()\n",
    "\n",
    "scores1 = cross_validate(model1, xx1[:, np.newaxis], yy1, scoring=['r2', 'neg_root_mean_squared_error'], cv=6)\n",
    "\n",
    "#rsquared1 = np.mean(scores1['test_r2'])\n",
    "#rmse1 = -np.mean(scores1['test_neg_root_mean_squared_error'])\n",
    "#rmsee1 = np.std(scores1['test_neg_root_mean_squared_error'])\n",
    "N1=len(df1)\n",
    "\n",
    "\n",
    "\n",
    "a2=model2.coef_\n",
    "b2=model2.intercept_\n",
    "#a2=model2.estimator_.coef_\n",
    "#b2=model2.estimator_.intercept_\n",
    "\n",
    "scores_mean2 = list()\n",
    "scores_std2 = list()\n",
    "\n",
    "scores2 = cross_validate(model2, xx2[:, np.newaxis], yy2, scoring=['r2', 'neg_root_mean_squared_error'], cv=6)\n",
    "\n",
    "#rsquared2 = np.mean(scores2['test_r2'])\n",
    "#rmse2 = -np.mean(scores2['test_neg_root_mean_squared_error'])\n",
    "#rmsee2 = np.std(scores2['test_neg_root_mean_squared_error'])\n",
    "N2=len(df2)\n",
    "\n",
    "\n",
    "\n",
    "a3=model3.coef_\n",
    "b3=model3.intercept_\n",
    "\n",
    "#a3=model3.estimator_.coef_\n",
    "#b3=model3.estimator_.intercept_\n",
    "\n",
    "scores_mean3 = list()\n",
    "scores_std3 = list()\n",
    "\n",
    "scores3 = cross_validate(model3, xx3[:, np.newaxis], yy3, scoring=['r2', 'neg_root_mean_squared_error'], cv=6)\n",
    "\n",
    "#rsquared3 = np.mean(scores3['test_r2'])\n",
    "#rmse3 = -np.mean(scores3['test_neg_root_mean_squared_error'])\n",
    "#rmsee3 = np.std(scores3['test_neg_root_mean_squared_error'])\n",
    "N3=len(df3)"
   ]
  },
  {
   "cell_type": "code",
   "execution_count": 134,
   "id": "0659b32b",
   "metadata": {},
   "outputs": [
    {
     "data": {
      "image/png": "[encoded data removed]",
      "text/plain": [
       "<Figure size 720x720 with 4 Axes>"
      ]
     },
     "metadata": {
      "needs_background": "light"
     },
     "output_type": "display_data"
    }
   ],
   "source": [
    "from itertools import count\n",
    "fig, ax_lst = plt.subplots(2, 2,figsize=(10, 10), gridspec_kw={'hspace': 0.2, 'wspace': 0.2})\n",
    "fig.tight_layout()\n",
    "\n",
    "def label_subplots(ax_lst, *, upper_case=True,\n",
    "                   offset_points=(-5, -5)):\n",
    "    start_ord = 65 if upper_case else 97\n",
    "    for ax, lab in zip(np.ravel(ax_lst), (chr(j) for j in count(start_ord))):\n",
    "        ax.annotate(lab, (1, 0.1),\n",
    "                    xytext=offset_points,\n",
    "                    xycoords='axes fraction',\n",
    "                    textcoords='offset points',\n",
    "                    ha='right', va='top', fontsize=14, fontweight='bold')\n",
    "\n",
    "\n",
    "label_subplots(ax_lst, upper_case=True)\n",
    "\n",
    "#figure 1\n",
    "\n",
    "ax_lst[1,1].plot(x1fit0, y1fit0, linewidth=3, linestyle='--', color='k', alpha=0.6, label='Regression Line')\n",
    "ax_lst[1,1].plot([0, 6], [0, 6], linestyle='-', linewidth=3, color='r', alpha=0.6, label='$Y=X$')\n",
    "\n",
    "#kde0 = ax_lst[1,1].scatter(x_0, y_0, c=z_0, s=10, edgecolor='', marker='s', cmap=cmaps.BlAqGrYeOrRe ,label='data')\n",
    "ax_lst[1,1].scatter(xx0, yy0, s=10, label='data',color='navy')\n",
    "\n",
    "ax_lst[1,1].set_xlabel('Buoys $H_{s}$ (m)', fontsize=12)\n",
    "ax_lst[1,1].set_ylabel('SARAL-AltiKa $H_{s}$ (m)', fontsize=12)\n",
    "#plt.ylabel('Power Law $u_{10n}$ (m/s)', fontsize=14)\n",
    "#plt.ylabel('Wind Speed $u$ (m/s) - No adjustment', fontsize=14)\n",
    "\n",
    "ax_lst[1,1].set_xlim(0,6)\n",
    "ax_lst[1,1].set_ylim(0,6)\n",
    "ax_lst[1,1].grid(linestyle='--',linewidth=1)\n",
    "\n",
    "props0 = dict(boxstyle='square', facecolor='white', alpha=1)\n",
    "\n",
    "textstr0 = '\\n'.join((r'$N=%i$' % (N0,), r'$\\rho=%.3f$' % (rho0,), r'$RMSE=%.3f$' % (rmse0,), r'$BIAS=%.3f$' % (bias0,),\n",
    "                     r'$SI=%.3f$' % (si0,), r'$Y=%.3fX + %.3f$' % (a0,b0,)))\n",
    "\n",
    "ax_lst[1,1].text(0.15,4.25,textstr0,fontsize=10,bbox=props0)\n",
    "\n",
    "#cbar = plt.colorbar(kde0, pad=0.02, aspect=40)\n",
    "\n",
    "#cbar.ax.set_ylabel('')\n",
    "\n",
    "#ax_lst[1,1].legend(loc='best')\n",
    "\n",
    "\n",
    "\n",
    "#figure 2\n",
    "\n",
    "ax_lst[0,1].plot(x1fit3, y1fit3, linewidth=3, linestyle='--', color='k', alpha=0.6, label='Regression Line')\n",
    "ax_lst[0,1].plot([0, 6], [0, 6], linestyle='-', linewidth=3, color='r', alpha=0.6, label='$Y=X$')\n",
    "\n",
    "#ax_lst[0,1].scatter(x_3, y_3, c=z_3, s=10, edgecolor='', marker='s', cmap=cmaps.BlAqGrYeOrRe ,label='data')\n",
    "ax_lst[0,1].scatter(xx3, yy3, s=10, label='data',color='navy')\n",
    "\n",
    "ax_lst[0,1].set_xlabel('Buoys $H_{s}$ (m)', fontsize=12)\n",
    "ax_lst[0,1].set_ylabel('Jason 3 $H_{s}$ (m)', fontsize=12)\n",
    "#plt.ylabel('Power Law $u_{10n}$ (m/s)', fontsize=14)\n",
    "#plt.ylabel('Wind Speed $u$ (m/s) - No adjustment', fontsize=14)\n",
    "\n",
    "ax_lst[0,1].set_xlim(0,6)\n",
    "ax_lst[0,1].set_ylim(0,6)\n",
    "ax_lst[0,1].grid(linestyle='--',linewidth=1)\n",
    "\n",
    "props3 = dict(boxstyle='square', facecolor='white', alpha=1)\n",
    "\n",
    "textstr3 = '\\n'.join((r'$N=%i$' % (N3,), r'$\\rho=%.3f$' % (rho3,), r'$RMSE=%.3f$' % (rmse3,), r'$BIAS=%.3f$' % (bias3,),\n",
    "                     r'$SI=%.3f$' % (si3,), r'$Y=%.3fX + %.3f$' % (a3,b3,)))\n",
    "\n",
    "ax_lst[0,1].text(0.15,4.25,textstr3,fontsize=10,bbox=props3)\n",
    "\n",
    "#ax_lst[1,1].legend(loc='best')\n",
    "\n",
    "\n",
    "#figure 3\n",
    "\n",
    "ax_lst[1,0].plot(x1fit1, y1fit1, linewidth=3, linestyle='--', color='k', alpha=0.6, label='Regression Line')\n",
    "#ax_lst[1,0].plot(x1fit1, y1fit11, linewidth=3, linestyle='--', color='k', alpha=0.6, label='Regression Line')\n",
    "ax_lst[1,0].plot([0, 6], [0, 6], linestyle='-', linewidth=3, color='r', alpha=0.6, label='$Y=X$')\n",
    "\n",
    "#ax_lst[1,0].scatter(x_1, y_1, c=z_1, s=10, edgecolor='', marker='s', cmap=cmaps.BlAqGrYeOrRe ,label='data')\n",
    "ax_lst[1,0].scatter(xx1, yy1, s=10, label='data',color='navy')\n",
    "\n",
    "ax_lst[1,0].set_xlabel('Buoys $H_{s}$ (m)', fontsize=12)\n",
    "#plt.ylabel('$C_{d} = 1.4 \\cdot 10^{-3}$ Parametrization $u_{10n}$ (m/s)', fontsize=12)\n",
    "ax_lst[1,0].set_ylabel('Cryosat 2 $H_{s}$ (m)', fontsize=12)\n",
    "#plt.ylabel('Wind Speed $u$ (m/s) - No adjustment', fontsize=14)\n",
    "\n",
    "ax_lst[1,0].set_xlim(0,6)\n",
    "ax_lst[1,0].set_ylim(0,6)\n",
    "ax_lst[1,0].grid(linestyle='--',linewidth=1)\n",
    "\n",
    "props1 = dict(boxstyle='square', facecolor='white', alpha=1)\n",
    "\n",
    "textstr1 = '\\n'.join((r'$N=%i$' % (N1,), r'$\\rho=%.3f$' % (rho1,), r'$RMSE=%.3f$' % (rmse1,), r'$BIAS=%.3f$' % (bias1,),\n",
    "                     r'$SI=%.3f$' % (si1,), r'$Y=%.3fX + %.3f$' % (a11,b11,)))\n",
    "\n",
    "ax_lst[1,0].text(0.15,4.25,textstr1,fontsize=10,bbox=props1)\n",
    "\n",
    "#ax_lst[1,1].legend(loc='best')\n",
    "\n",
    "\n",
    "#figure 4\n",
    "\n",
    "ax_lst[0,0].plot(x1fit2, y1fit2, linewidth=3, linestyle='--', color='k', alpha=0.6, label='Regression Line')\n",
    "ax_lst[0,0].plot([0, 6], [0, 6], linestyle='-', linewidth=3, color='r', alpha=0.6, label='$Y=X$')\n",
    "\n",
    "#ax_lst[0,0].scatter(x_2, y_2, c=z_2, s=10, edgecolor='', marker='s', cmap=cmaps.BlAqGrYeOrRe ,label='data')\n",
    "ax_lst[0,0].scatter(xx2, yy2, s=10, label='data',color='navy')\n",
    "\n",
    "ax_lst[0,0].set_xlabel('Buoys $H_{s}$ (m)', fontsize=12)\n",
    "#ax_lst[0,0].set_ylabel('$C_{d} = 1.2 \\cdot 10^{-3}$ Parametrization $u_{10n}$ (m/s)', fontsize=12)\n",
    "#ax_lst[0,0].ylabel('Power Law $u_{10n}$ (m/s)', fontsize=14)\n",
    "ax_lst[0,0].set_ylabel('Sentinel 3 $H_{s}$ (m)', fontsize=12)\n",
    "\n",
    "ax_lst[0,0].set_xlim(0,6)\n",
    "ax_lst[0,0].set_ylim(0,6)\n",
    "ax_lst[0,0].grid(linestyle='--',linewidth=1)\n",
    "\n",
    "props2 = dict(boxstyle='square', facecolor='white', alpha=1)\n",
    "\n",
    "textstr2 = '\\n'.join((r'$N=%i$' % (N2,), r'$\\rho=%.3f$' % (rho2,), r'$RMSE=%.3f$' % (rmse2,), r'$BIAS=%.3f$' % (bias2,),\n",
    "                     r'$SI=%.3f$' % (si2,), r'$Y=%.3fX + %.3f$' % (a2,b2,)))\n",
    "\n",
    "ax_lst[0,0].text(0.15,4.25,textstr2,fontsize=10,bbox=props2)\n",
    "\n",
    "#ax_lst[1,1].legend(loc='best')\n",
    "\n",
    "\n",
    "\n",
    "plt.savefig('validation_altimeters_wave_f.png', dpi=600, bbox_inches='tight')"
   ]
  },
  {
   "cell_type": "code",
   "execution_count": null,
   "id": "381d55cc",
   "metadata": {},
   "outputs": [],
   "source": [
    "altika1 = collocation(b44017,radius,b44017_wave,b44017_time,time_window,altika,a1)\n",
    "altika2 = collocation(b44025,radius,b44025_wave,b44025_time,time_window,altika,a1)\n",
    "altika4 = collocation(b44065,radius,b44065_wave,b44065_time,time_window,altika,a1)\n",
    "altika5 = collocation(b44020,radius,b44020_wave,b44020_time,time_window,altika,a1)\n",
    "altika6 = collocation(b44039,radius,b44039_wave,b44039_time,time_window,altika,a1)\n",
    "altika8 = collocation(b44008,radius,b44008_wave,b44008_time,time_window,altika,a1)\n",
    "altika9 = collocation(b44066,radius,b44066_wave,b44066_time,time_window,altika,a1)\n",
    "altika10 = collocation(b44013,radius,b44013_wave,b44013_time,time_window,altika,a1)\n",
    "altika12 = collocation(b44018,radius,b44018_wave,b44018_time,time_window,altika,a1)\n",
    "\n",
    "altika3 = collocation(b44097,radius,b44097_wave,b44097_time,time_window,altika,a1)\n",
    "altika7 = collocation(b44091,radius,b44091_wave,b44091_time,time_window,altika,a1)\n",
    "altika11 = collocation(b44090,radius,b44090_wave,b44090_time,time_window,altika,a1)"
   ]
  },
  {
   "cell_type": "code",
   "execution_count": 302,
   "id": "8b7b223a",
   "metadata": {},
   "outputs": [
    {
     "data": {
      "text/plain": [
       "((0.975410316120372, 4.1097801113247544e-41), 0.18496865093460482)"
      ]
     },
     "execution_count": 302,
     "metadata": {},
     "output_type": "execute_result"
    }
   ],
   "source": [
    "b44017_col = pd.concat([altika1,jason31,cryosat21,sentinel31],axis=0)\n",
    "b44017_col = b44017_col.set_index('Buoy Time')\n",
    "\n",
    "# select the columns that you want: [1,6] is for wind, [,] is for significant wave height data\n",
    "\n",
    "b44017_col = b44017_col.iloc[:,[1,5]]\n",
    "#df1.reset_index(inplace=True)\n",
    "#df1.drop('index', 1, inplace=True)\n",
    "b44017_col = b44017_col.apply(pd.to_numeric, errors='coerce')\n",
    "b44017_col = b44017_col.resample('D').mean()\n",
    "b44017_col = b44017_col.dropna()\n",
    "b44017_r = stats.pearsonr(b44017_col['Buoy Wave Height'], b44017_col['Altimeter Wave Height'])\n",
    "b44017_rmse = np.sqrt(np.average((b44017_col['Buoy Wave Height'] - b44017_col['Altimeter Wave Height'])**2))\n",
    "b44017_r, b44017_rmse"
   ]
  },
  {
   "cell_type": "code",
   "execution_count": 301,
   "id": "406e3635",
   "metadata": {},
   "outputs": [
    {
     "data": {
      "text/plain": [
       "((0.9742783430193054, 9.3321341046084e-107), 0.15463973739286035)"
      ]
     },
     "execution_count": 301,
     "metadata": {},
     "output_type": "execute_result"
    }
   ],
   "source": [
    "b44025_col = pd.concat([altika2,jason32,cryosat22,sentinel32],axis=0)\n",
    "b44025_col = b44025_col.set_index('Buoy Time')\n",
    "\n",
    "# select the columns that you want: [1,6] is for wind, [,] is for significant wave height data\n",
    "\n",
    "b44025_col = b44025_col.iloc[:,[1,5]]\n",
    "#df1.reset_index(inplace=True)\n",
    "#df1.drop('index', 1, inplace=True)\n",
    "b44025_col = b44025_col.apply(pd.to_numeric, errors='coerce')\n",
    "b44025_col = b44025_col.resample('D').mean()\n",
    "b44025_col = b44025_col.dropna()\n",
    "b44025_r = stats.pearsonr(b44025_col['Buoy Wave Height'], b44025_col['Altimeter Wave Height'])\n",
    "b44025_rmse = np.sqrt(np.average((b44025_col['Buoy Wave Height'] - b44025_col['Altimeter Wave Height'])**2))\n",
    "b44025_r, b44025_rmse"
   ]
  },
  {
   "cell_type": "code",
   "execution_count": 300,
   "id": "487a1aae",
   "metadata": {},
   "outputs": [
    {
     "data": {
      "text/plain": [
       "((0.928006274477735, 1.0160589323657234e-53), 0.20803472082062216)"
      ]
     },
     "execution_count": 300,
     "metadata": {},
     "output_type": "execute_result"
    }
   ],
   "source": [
    "b44065_col = pd.concat([altika4,jason34,cryosat24,sentinel34],axis=0)\n",
    "b44065_col = b44065_col.set_index('Buoy Time')\n",
    "\n",
    "# select the columns that you want: [1,6] is for wind, [,] is for significant wave height data\n",
    "\n",
    "b44065_col = b44065_col.iloc[:,[1,5]]\n",
    "#df1.reset_index(inplace=True)\n",
    "#df1.drop('index', 1, inplace=True)\n",
    "b44065_col = b44065_col.apply(pd.to_numeric, errors='coerce')\n",
    "b44065_col = b44065_col.resample('D').mean()\n",
    "b44065_col = b44065_col.dropna()\n",
    "b44065_r = stats.pearsonr(b44065_col['Buoy Wave Height'], b44065_col['Altimeter Wave Height'])\n",
    "b44065_rmse = np.sqrt(np.average((b44065_col['Buoy Wave Height'] - b44065_col['Altimeter Wave Height'])**2))\n",
    "b44065_r, b44065_rmse"
   ]
  },
  {
   "cell_type": "code",
   "execution_count": 293,
   "id": "1e08b746",
   "metadata": {},
   "outputs": [
    {
     "data": {
      "text/plain": [
       "((0.9819133622873554, 1.137145938497809e-190), 0.1382932666545038)"
      ]
     },
     "execution_count": 293,
     "metadata": {},
     "output_type": "execute_result"
    }
   ],
   "source": [
    "b44097_col = pd.concat([altika3,jason33,cryosat23,sentinel33],axis=0)\n",
    "b44097_col = b44097_col.set_index('Buoy Time')\n",
    "\n",
    "# select the columns that you want: [1,6] is for wind, [,] is for significant wave height data\n",
    "\n",
    "b44097_col = b44097_col.iloc[:,[1,5]]\n",
    "#df1.reset_index(inplace=True)\n",
    "#df1.drop('index', 1, inplace=True)\n",
    "b44097_col = b44097_col.apply(pd.to_numeric, errors='coerce')\n",
    "b44097_col = b44097_col.resample('D').mean()\n",
    "b44097_col = b44097_col.dropna()\n",
    "b44097_r = stats.pearsonr(b44097_col['Buoy Wave Height'], b44097_col['Altimeter Wave Height'])\n",
    "b44097_rmse = np.sqrt(np.average((b44097_col['Buoy Wave Height'] - b44097_col['Altimeter Wave Height'])**2))\n",
    "b44097_r, b44097_rmse"
   ]
  },
  {
   "cell_type": "code",
   "execution_count": 294,
   "id": "c8f9131c",
   "metadata": {},
   "outputs": [
    {
     "data": {
      "text/plain": [
       "((0.8322432607170327, 1.3278853859380165e-19), 0.22412458729293813)"
      ]
     },
     "execution_count": 294,
     "metadata": {},
     "output_type": "execute_result"
    }
   ],
   "source": [
    "b44020_col = pd.concat([altika5,jason35,cryosat25,sentinel35],axis=0)\n",
    "b44020_col = b44020_col.set_index('Buoy Time')\n",
    "\n",
    "# select the columns that you want: [1,6] is for wind, [,] is for significant wave height data\n",
    "\n",
    "b44020_col = b44020_col.iloc[:,[1,5]]\n",
    "#df1.reset_index(inplace=True)\n",
    "#df1.drop('index', 1, inplace=True)\n",
    "b44020_col = b44020_col.apply(pd.to_numeric, errors='coerce')\n",
    "b44020_col = b44020_col.resample('D').mean()\n",
    "b44020_col = b44020_col.dropna()\n",
    "b44020_r = stats.pearsonr(b44020_col['Buoy Wave Height'], b44020_col['Altimeter Wave Height'])\n",
    "b44020_rmse = np.sqrt(np.average((b44020_col['Buoy Wave Height'] - b44020_col['Altimeter Wave Height'])**2))\n",
    "b44020_r, b44020_rmse"
   ]
  },
  {
   "cell_type": "code",
   "execution_count": 299,
   "id": "7a13bbba",
   "metadata": {},
   "outputs": [
    {
     "data": {
      "text/plain": [
       "((0.9198972168978368, 7.43203959499596e-18), 0.1661837081613848)"
      ]
     },
     "execution_count": 299,
     "metadata": {},
     "output_type": "execute_result"
    }
   ],
   "source": [
    "b44039_col = pd.concat([altika6,jason36,cryosat26,sentinel36],axis=0)\n",
    "b44039_col = b44039_col.set_index('Buoy Time')\n",
    "\n",
    "# select the columns that you want: [1,6] is for wind, [,] is for significant wave height data\n",
    "\n",
    "b44039_col = b44039_col.iloc[:,[1,5]]\n",
    "#df1.reset_index(inplace=True)\n",
    "#df1.drop('index', 1, inplace=True)\n",
    "b44039_col = b44039_col.apply(pd.to_numeric, errors='coerce')\n",
    "b44039_col = b44039_col.resample('D').mean()\n",
    "b44039_col = b44039_col.dropna()\n",
    "b44039_r = stats.pearsonr(b44039_col['Buoy Wave Height'], b44039_col['Altimeter Wave Height'])\n",
    "b44039_rmse = np.sqrt(np.average((b44039_col['Buoy Wave Height'] - b44039_col['Altimeter Wave Height'])**2))\n",
    "b44039_r, b44039_rmse"
   ]
  },
  {
   "cell_type": "code",
   "execution_count": 298,
   "id": "d9a2f6c0",
   "metadata": {},
   "outputs": [
    {
     "data": {
      "text/plain": [
       "((0.9844764662466515, 2.3078163316061552e-52), 0.12347430419474559)"
      ]
     },
     "execution_count": 298,
     "metadata": {},
     "output_type": "execute_result"
    }
   ],
   "source": [
    "b44091_col = pd.concat([altika7,jason37,cryosat27,sentinel37],axis=0)\n",
    "b44091_col = b44091_col.set_index('Buoy Time')\n",
    "\n",
    "# select the columns that you want: [1,6] is for wind, [,] is for significant wave height data\n",
    "\n",
    "b44091_col = b44091_col.iloc[:,[1,5]]\n",
    "#df1.reset_index(inplace=True)\n",
    "#df1.drop('index', 1, inplace=True)\n",
    "b44091_col = b44091_col.apply(pd.to_numeric, errors='coerce')\n",
    "b44091_col = b44091_col.resample('D').mean()\n",
    "b44091_col = b44091_col.dropna()\n",
    "b44091_r = stats.pearsonr(b44091_col['Buoy Wave Height'], b44091_col['Altimeter Wave Height'])\n",
    "b44091_rmse = np.sqrt(np.average((b44091_col['Buoy Wave Height'] - b44091_col['Altimeter Wave Height'])**2))\n",
    "b44091_r, b44091_rmse"
   ]
  },
  {
   "cell_type": "code",
   "execution_count": 297,
   "id": "0c4c1800",
   "metadata": {},
   "outputs": [
    {
     "data": {
      "text/plain": [
       "((0.9897391809478984, 3.1829688168074847e-42), 0.15442563354308786)"
      ]
     },
     "execution_count": 297,
     "metadata": {},
     "output_type": "execute_result"
    }
   ],
   "source": [
    "b44008_col = pd.concat([altika8,jason38,cryosat28,sentinel38],axis=0)\n",
    "b44008_col = b44008_col.set_index('Buoy Time')\n",
    "\n",
    "# select the columns that you want: [1,6] is for wind, [,] is for significant wave height data\n",
    "\n",
    "b44008_col = b44008_col.iloc[:,[1,5]]\n",
    "#df1.reset_index(inplace=True)\n",
    "#df1.drop('index', 1, inplace=True)\n",
    "b44008_col = b44008_col.apply(pd.to_numeric, errors='coerce')\n",
    "b44008_col = b44008_col.resample('D').mean()\n",
    "b44008_col = b44008_col.dropna()\n",
    "b44008_r = stats.pearsonr(b44008_col['Buoy Wave Height'], b44008_col['Altimeter Wave Height'])\n",
    "b44008_rmse = np.sqrt(np.average((b44008_col['Buoy Wave Height'] - b44008_col['Altimeter Wave Height'])**2))\n",
    "b44008_r, b44008_rmse"
   ]
  },
  {
   "cell_type": "code",
   "execution_count": 303,
   "id": "64717053",
   "metadata": {},
   "outputs": [
    {
     "data": {
      "text/plain": [
       "((0.9756567190305044, 1.416898863248062e-151), 0.2593192672587288)"
      ]
     },
     "execution_count": 303,
     "metadata": {},
     "output_type": "execute_result"
    }
   ],
   "source": [
    "b44066_col = pd.concat([altika9,jason39,cryosat29,sentinel39],axis=0)\n",
    "b44066_col = b44066_col.set_index('Buoy Time')\n",
    "\n",
    "# select the columns that you want: [1,6] is for wind, [,] is for significant wave height data\n",
    "\n",
    "b44066_col = b44066_col.iloc[:,[1,5]]\n",
    "#df1.reset_index(inplace=True)\n",
    "#df1.drop('index', 1, inplace=True)\n",
    "b44066_col = b44066_col.apply(pd.to_numeric, errors='coerce')\n",
    "b44066_col = b44066_col.resample('D').mean()\n",
    "b44066_col = b44066_col.dropna()\n",
    "b44066_r = stats.pearsonr(b44066_col['Buoy Wave Height'], b44066_col['Altimeter Wave Height'])\n",
    "b44066_rmse = np.sqrt(np.average((b44066_col['Buoy Wave Height'] - b44066_col['Altimeter Wave Height'])**2))\n",
    "b44066_r, b44066_rmse"
   ]
  },
  {
   "cell_type": "code",
   "execution_count": 304,
   "id": "32874358",
   "metadata": {},
   "outputs": [
    {
     "data": {
      "text/plain": [
       "((0.9597307735077281, 2.5547459914886897e-45), 0.24414868304289028)"
      ]
     },
     "execution_count": 304,
     "metadata": {},
     "output_type": "execute_result"
    }
   ],
   "source": [
    "b44013_col = pd.concat([altika10,jason310,cryosat210,sentinel310],axis=0)\n",
    "b44013_col = b44013_col.set_index('Buoy Time')\n",
    "\n",
    "# select the columns that you want: [1,6] is for wind, [,] is for significant wave height data\n",
    "\n",
    "b44013_col = b44013_col.iloc[:,[1,5]]\n",
    "#df1.reset_index(inplace=True)\n",
    "#df1.drop('index', 1, inplace=True)\n",
    "b44013_col = b44013_col.apply(pd.to_numeric, errors='coerce')\n",
    "b44013_col = b44013_col.resample('D').mean()\n",
    "b44013_col = b44013_col.dropna()\n",
    "b44013_rmse = np.sqrt(np.average((b44013_col['Buoy Wave Height'] - b44013_col['Altimeter Wave Height'])**2))\n",
    "b44013_r, b44013_rmse"
   ]
  },
  {
   "cell_type": "code",
   "execution_count": 296,
   "id": "55da8636",
   "metadata": {},
   "outputs": [
    {
     "data": {
      "text/plain": [
       "((0.8430882224094826, 1.6861777753106948e-45), 0.2545069658130237)"
      ]
     },
     "execution_count": 296,
     "metadata": {},
     "output_type": "execute_result"
    }
   ],
   "source": [
    "b44090_col = pd.concat([altika11,jason311,cryosat211,sentinel311],axis=0)\n",
    "b44090_col = b44090_col.set_index('Buoy Time')\n",
    "\n",
    "# select the columns that you want: [1,6] is for wind, [,] is for significant wave height data\n",
    "\n",
    "b44090_col = b44090_col.iloc[:,[1,5]]\n",
    "#df1.reset_index(inplace=True)\n",
    "#df1.drop('index', 1, inplace=True)\n",
    "b44090_col = b44090_col.apply(pd.to_numeric, errors='coerce')\n",
    "b44090_col = b44090_col.resample('D').mean()\n",
    "b44090_col = b44090_col.dropna()\n",
    "b44090_rmse = np.sqrt(np.average((b44090_col['Buoy Wave Height'] - b44090_col['Altimeter Wave Height'])**2))\n",
    "b44090_r, b44090_rmse"
   ]
  },
  {
   "cell_type": "code",
   "execution_count": 305,
   "id": "f9ddf3d4",
   "metadata": {},
   "outputs": [
    {
     "data": {
      "text/plain": [
       "((0.9560402266326674, 3.742239843480286e-87), 0.2517899217373243)"
      ]
     },
     "execution_count": 305,
     "metadata": {},
     "output_type": "execute_result"
    }
   ],
   "source": [
    "b44018_col = pd.concat([altika12,jason312,cryosat212,sentinel312],axis=0)\n",
    "b44018_col = b44018_col.set_index('Buoy Time')\n",
    "\n",
    "# select the columns that you want: [1,6] is for wind, [,] is for significant wave height data\n",
    "\n",
    "b44018_col = b44018_col.iloc[:,[1,5]]\n",
    "#df1.reset_index(inplace=True)\n",
    "#df1.drop('index', 1, inplace=True)\n",
    "b44018_col = b44018_col.apply(pd.to_numeric, errors='coerce')\n",
    "b44018_col = b44018_col.resample('D').mean()\n",
    "b44018_col = b44018_col.dropna()\n",
    "b44018_rmse = np.sqrt(np.average((b44018_col['Buoy Wave Height'] - b44018_col['Altimeter Wave Height'])**2))\n",
    "b44018_r, b44018_rmse"
   ]
  },
  {
   "cell_type": "code",
   "execution_count": 326,
   "id": "dd2ed953",
   "metadata": {},
   "outputs": [
    {
     "name": "stdout",
     "output_type": "stream",
     "text": [
      "-69.248 40.504 44008\n"
     ]
    }
   ],
   "source": [
    "buoys1 = pd.read_excel('buoys.xlsx', sheet_name=\"Sheet3\", header=0, index_col=None, usecols=\"B:E\")\n",
    "\n",
    "for x,y,z in zip(buoys1['Longitude'], buoys1['Latitude'], buoys1['Buoy #']):print(x,y,z)"
   ]
  },
  {
   "cell_type": "code",
   "execution_count": 334,
   "id": "7456f0e5",
   "metadata": {},
   "outputs": [
    {
     "name": "stdout",
     "output_type": "stream",
     "text": [
      "-70.279 41.493 44020\n",
      "-73.164 40.251 44025\n",
      "-72.049 40.693 44017\n",
      "-73.703 40.369 44065\n",
      "-72.655 41.138 44039\n",
      "-72.644 39.618 44066\n",
      "-70.651 42.346 44013\n",
      "-70.143 42.206 44018\n"
     ]
    }
   ],
   "source": [
    "buoys2 = pd.read_excel('buoys.xlsx', sheet_name=\"Sheet2\", header=0, index_col=None, usecols=\"B:E\")\n",
    "\n",
    "for x,y,z in zip(buoys2['Longitude'], buoys2['Latitude'], buoys2['Buoy #']):print(x,y,z)"
   ]
  },
  {
   "cell_type": "code",
   "execution_count": 336,
   "id": "b41156dd",
   "metadata": {},
   "outputs": [
    {
     "name": "stdout",
     "output_type": "stream",
     "text": [
      "-71.127 40.969 44097\n",
      "-73.769 39.778 44091\n",
      "-70.329 41.84 44090\n"
     ]
    }
   ],
   "source": [
    "buoys3 = pd.read_excel('buoys.xlsx', sheet_name=\"Sheet4\", header=0, index_col=None, usecols=\"B:E\")\n",
    "\n",
    "for x,y,z in zip(buoys3['Longitude'], buoys3['Latitude'], buoys3['Buoy #']):print(x,y,z)"
   ]
  },
  {
   "cell_type": "code",
   "execution_count": 316,
   "id": "934e9e27",
   "metadata": {},
   "outputs": [
    {
     "data": {
      "text/html": [
       "<div>\n",
       "<style scoped>\n",
       "    .dataframe tbody tr th:only-of-type {\n",
       "        vertical-align: middle;\n",
       "    }\n",
       "\n",
       "    .dataframe tbody tr th {\n",
       "        vertical-align: top;\n",
       "    }\n",
       "\n",
       "    .dataframe thead th {\n",
       "        text-align: right;\n",
       "    }\n",
       "</style>\n",
       "<table border=\"1\" class=\"dataframe\">\n",
       "  <thead>\n",
       "    <tr style=\"text-align: right;\">\n",
       "      <th></th>\n",
       "      <th>buoy lon</th>\n",
       "      <th>buoy lat</th>\n",
       "      <th>r</th>\n",
       "    </tr>\n",
       "  </thead>\n",
       "  <tbody>\n",
       "    <tr>\n",
       "      <th>0</th>\n",
       "      <td>-72.049</td>\n",
       "      <td>40.693</td>\n",
       "      <td>0.975410</td>\n",
       "    </tr>\n",
       "    <tr>\n",
       "      <th>1</th>\n",
       "      <td>-73.164</td>\n",
       "      <td>40.251</td>\n",
       "      <td>0.974278</td>\n",
       "    </tr>\n",
       "    <tr>\n",
       "      <th>2</th>\n",
       "      <td>-73.703</td>\n",
       "      <td>40.369</td>\n",
       "      <td>0.928006</td>\n",
       "    </tr>\n",
       "    <tr>\n",
       "      <th>3</th>\n",
       "      <td>-70.279</td>\n",
       "      <td>41.493</td>\n",
       "      <td>0.832243</td>\n",
       "    </tr>\n",
       "    <tr>\n",
       "      <th>4</th>\n",
       "      <td>-72.655</td>\n",
       "      <td>41.138</td>\n",
       "      <td>0.919897</td>\n",
       "    </tr>\n",
       "    <tr>\n",
       "      <th>5</th>\n",
       "      <td>-69.248</td>\n",
       "      <td>40.504</td>\n",
       "      <td>0.989739</td>\n",
       "    </tr>\n",
       "    <tr>\n",
       "      <th>6</th>\n",
       "      <td>-72.644</td>\n",
       "      <td>39.618</td>\n",
       "      <td>0.975657</td>\n",
       "    </tr>\n",
       "    <tr>\n",
       "      <th>7</th>\n",
       "      <td>-70.651</td>\n",
       "      <td>42.346</td>\n",
       "      <td>0.959731</td>\n",
       "    </tr>\n",
       "    <tr>\n",
       "      <th>8</th>\n",
       "      <td>-70.329</td>\n",
       "      <td>41.840</td>\n",
       "      <td>0.843088</td>\n",
       "    </tr>\n",
       "    <tr>\n",
       "      <th>9</th>\n",
       "      <td>-70.143</td>\n",
       "      <td>42.206</td>\n",
       "      <td>0.956040</td>\n",
       "    </tr>\n",
       "    <tr>\n",
       "      <th>10</th>\n",
       "      <td>-71.127</td>\n",
       "      <td>40.969</td>\n",
       "      <td>0.981913</td>\n",
       "    </tr>\n",
       "    <tr>\n",
       "      <th>11</th>\n",
       "      <td>-73.769</td>\n",
       "      <td>39.778</td>\n",
       "      <td>0.984476</td>\n",
       "    </tr>\n",
       "  </tbody>\n",
       "</table>\n",
       "</div>"
      ],
      "text/plain": [
       "    buoy lon  buoy lat         r\n",
       "0    -72.049    40.693  0.975410\n",
       "1    -73.164    40.251  0.974278\n",
       "2    -73.703    40.369  0.928006\n",
       "3    -70.279    41.493  0.832243\n",
       "4    -72.655    41.138  0.919897\n",
       "5    -69.248    40.504  0.989739\n",
       "6    -72.644    39.618  0.975657\n",
       "7    -70.651    42.346  0.959731\n",
       "8    -70.329    41.840  0.843088\n",
       "9    -70.143    42.206  0.956040\n",
       "10   -71.127    40.969  0.981913\n",
       "11   -73.769    39.778  0.984476"
      ]
     },
     "execution_count": 316,
     "metadata": {},
     "output_type": "execute_result"
    }
   ],
   "source": [
    "cor_coefw = {'buoy lon': [buoys['Longitude'][3], buoys['Longitude'][2], buoys['Longitude'][4], buoys['Longitude'][1], buoys['Longitude'][5],\n",
    "                          buoys['Longitude'][6], buoys['Longitude'][7], buoys['Longitude'][9], buoys['Longitude'][10], buoys['Longitude'][11],\n",
    "                         buoys['Longitude'][0], buoys['Longitude'][8]],\n",
    "        'buoy lat': [buoys['Latitude'][3], buoys['Latitude'][2], buoys['Latitude'][4], buoys['Latitude'][1], buoys['Latitude'][5], \n",
    "                     buoys['Latitude'][6], buoys['Latitude'][7], buoys['Latitude'][9], buoys['Latitude'][10], buoys['Latitude'][11],\n",
    "                   buoys['Latitude'][0], buoys['Latitude'][8]],\n",
    "             'r': [b44017_r[0],b44025_r[0], b44065_r[0],b44020_r[0],b44039_r[0],b44008_r[0],b44066_r[0],b44013_r[0],b44090_r[0],b44018_r[0],\n",
    "                  b44097_r[0], b44091_r[0]]}\n",
    "cor_coeffw = pd.DataFrame(data=cor_coefw)\n",
    "cor_coeffw"
   ]
  },
  {
   "cell_type": "code",
   "execution_count": 308,
   "id": "9427acce",
   "metadata": {},
   "outputs": [],
   "source": [
    "def make_map(projection=ccrs.PlateCarree()):\n",
    "    fig, ax = plt.subplots(figsize=(8, 12),\n",
    "                           subplot_kw=dict(projection=projection))\n",
    "    gl = ax.gridlines(draw_labels=True, linestyle='--', linewidth=0.5, alpha=0.)\n",
    "    gl.xlabels_bottom = False\n",
    "    gl.xlocator = mticker.FixedLocator([-75, -74, -73, -72, -71, -70, -69])\n",
    "    gl.ylocator = mticker.FixedLocator([39, 40, 41, 42, 43])\n",
    "    gl.xformatter = LONGITUDE_FORMATTER\n",
    "    gl.yformatter = LATITUDE_FORMATTER\n",
    "    return fig, ax"
   ]
  },
  {
   "cell_type": "code",
   "execution_count": 340,
   "id": "f1b599c0",
   "metadata": {},
   "outputs": [
    {
     "data": {
      "image/png": "[encoded data removed]",
      "text/plain": [
       "<Figure size 576x864 with 2 Axes>"
      ]
     },
     "metadata": {
      "needs_background": "light"
     },
     "output_type": "display_data"
    }
   ],
   "source": [
    "fig, ax = make_map(projection=ccrs.PlateCarree())\n",
    "ax.set_extent([-75, -69, 39, 43])\n",
    "\n",
    "shp = shapereader.Reader('C:/Users/panmits86/Desktop/Python/SNE_shapefile/GSHHS_h_L1_SNE1.shp')\n",
    "for record, geometry in zip(shp.records(), shp.geometries()):\n",
    "    ax.add_geometries([geometry], ccrs.PlateCarree(), facecolor='gray')\n",
    "\n",
    "# Add markers for the position of the satellite observations.\n",
    "#cmap=cmocean.cm.dense\n",
    "cmap = cmaps.MPL_rainbow\n",
    "bounds = np.array([0.85,0.9,0.95,1.])\n",
    "#norm = colors.BoundaryNorm(boundaries=bounds, ncolors=10)\n",
    "norm = mpl.colors.Normalize(vmin=0.85, vmax=1.)\n",
    "cs2 = plt.scatter(cor_coeffw['buoy lon'], cor_coeffw['buoy lat'], c=cor_coeffw['r'], s=150, marker='o', cmap=cmap, norm=norm,\n",
    "                  label='10km sampling radius')\n",
    "\n",
    "for x,y,z in zip(buoys2['Longitude'], buoys2['Latitude'], buoys2['Buoy #']):\n",
    "    ax.text(x+0.075, y+0.05, z,\n",
    "                 verticalalignment='center', horizontalalignment='left', fontsize=8,\n",
    "                 transform=ccrs.Geodetic())\n",
    "\n",
    "for x,y,z in zip(buoys3['Longitude'], buoys3['Latitude'], buoys3['Buoy #']):\n",
    "    ax.text(x+0.075, y+0.05, z,\n",
    "                 verticalalignment='center', horizontalalignment='left', fontsize=8,\n",
    "                 transform=ccrs.Geodetic())\n",
    "    \n",
    "ax.text(buoys1['Longitude'][0]-0.42, buoys1['Latitude'][0]+0.05, buoys1['Buoy #'][0], verticalalignment='center', \n",
    "                 horizontalalignment='left', fontsize=8,\n",
    "                 transform=ccrs.Geodetic())\n",
    "\n",
    "\n",
    "cax,kw = mpl.colorbar.make_axes(ax,location='bottom',pad=0.02,aspect=50)\n",
    "out=fig.colorbar(cs2,cax=cax,ticks=bounds,extend='neither',**kw)\n",
    "out.set_label('Altimeter-Buoy $H_{s}$ Correlation Coefficient',size=10)\n",
    "ax.legend(loc='upper left',fontsize=10)\n",
    "#ax.set_title('Map of SARAL-AltiKa Level 3 observations 10/2019-03-2020')\n",
    "#ax.add_patch(mpatches.Circle(xy=[lon, lat], radius=r_ortho, color='red', alpha=0.1, transform=proj, zorder=30))\n",
    "plt.savefig('buoy_altimeter_cor_coef_wave_f.png', dpi=300, bbox_inches='tight')"
   ]
  },
  {
   "cell_type": "markdown",
   "id": "47dc04de",
   "metadata": {},
   "source": [
    "### Wind Speed "
   ]
  },
  {
   "cell_type": "code",
   "execution_count": 184,
   "id": "ae718a3b",
   "metadata": {},
   "outputs": [],
   "source": [
    "data0 = saral_wave.set_index('Buoy Time')\n",
    "\n",
    "# select the columns that you want: [1,6] is for wind, [,] is for significant wave height data\n",
    "\n",
    "df0 = data0.iloc[:,[0,6]]\n",
    "#df1.reset_index(inplace=True)\n",
    "#df1.drop('index', 1, inplace=True)\n",
    "df0 = df0.apply(pd.to_numeric, errors='coerce')\n",
    "df0 = df0.resample('D').mean()\n",
    "df0 = df0.dropna()\n",
    "\n",
    "\n",
    "\n",
    "data1 = cryosat2_wave.set_index('Buoy Time')\n",
    "\n",
    "# select the columns that you want: [1,6] is for wind, [,] is for significant wave height data\n",
    "\n",
    "df1 = data1.iloc[:,[0,6]]\n",
    "#df1.reset_index(inplace=True)\n",
    "#df1.drop('index', 1, inplace=True)\n",
    "df1 = df1.apply(pd.to_numeric, errors='coerce')\n",
    "df1 = df1.resample('D').mean()\n",
    "df1 = df1.dropna()\n",
    "\n",
    "\n",
    "\n",
    "data2 = sentinel3a_wave.set_index('Buoy Time')\n",
    "\n",
    "# select the columns that you want: [1,6] is for wind, [,] is for significant wave height data\n",
    "\n",
    "df2 = data2.iloc[:,[0,6]]\n",
    "#df1.reset_index(inplace=True)\n",
    "#df1.drop('index', 1, inplace=True)\n",
    "df2 = df2.apply(pd.to_numeric, errors='coerce')\n",
    "df2 = df2.resample('D').mean()\n",
    "df2 = df2.dropna()\n",
    "\n",
    "\n",
    "\n",
    "data3 = jason3_wave.set_index('Buoy Time')\n",
    "\n",
    "# select the columns that you want: [1,6] is for wind, [,] is for significant wave height data\n",
    "\n",
    "df3 = data3.iloc[:,[0,6]]\n",
    "#df1.reset_index(inplace=True)\n",
    "#df1.drop('index', 1, inplace=True)\n",
    "df3 = df3.apply(pd.to_numeric, errors='coerce')\n",
    "df3 = df3.resample('D').mean()\n",
    "df3 = df3.dropna()\n"
   ]
  },
  {
   "cell_type": "code",
   "execution_count": 185,
   "id": "6e4b26d0",
   "metadata": {},
   "outputs": [],
   "source": [
    "# Linear Regression\n",
    "\n",
    "xx0 = df0['Buoy Wind Speed']\n",
    "\n",
    "yy0 = df0['Altimeter Wind Speed']\n",
    "\n",
    "model0 = LinearRegression(fit_intercept=True)\n",
    "\n",
    "model0.fit(xx0[:, np.newaxis], yy0)\n",
    "\n",
    "x1fit0 = np.linspace(0, 20, len(xx0))\n",
    "y1fit0 = model0.predict(x1fit0[:, np.newaxis])\n",
    "\n",
    "\n",
    "\n",
    "xx1 = df1['Buoy Wind Speed']\n",
    "\n",
    "yy1 = df1['Altimeter Wind Speed']\n",
    "\n",
    "model1 = LinearRegression(fit_intercept=True)\n",
    "#model1 = RANSACRegressor()\n",
    "\n",
    "model1.fit(xx1[:, np.newaxis], yy1)\n",
    "\n",
    "x1fit1 = np.linspace(0, 20, len(xx1))\n",
    "y1fit1 = model1.predict(x1fit1[:, np.newaxis])\n",
    "\n",
    "\n",
    "\n",
    "xx2 = df2['Buoy Wind Speed']\n",
    "\n",
    "yy2 = df2['Altimeter Wind Speed']\n",
    "\n",
    "#model2 = LinearRegression(fit_intercept=True)\n",
    "model2 = LinearRegression()\n",
    "\n",
    "model2.fit(xx2[:, np.newaxis], yy2)\n",
    "\n",
    "x1fit2 = np.linspace(0, 20, len(xx2))\n",
    "y1fit2 = model2.predict(x1fit2[:, np.newaxis])\n",
    "\n",
    "\n",
    "\n",
    "xx3 = df3['Buoy Wind Speed']\n",
    "\n",
    "yy3 = df3['Altimeter Wind Speed']\n",
    "\n",
    "model3 = LinearRegression(fit_intercept=True)\n",
    "#model3 = RANSACRegressor()\n",
    "\n",
    "model3.fit(xx3[:, np.newaxis], yy3)\n",
    "\n",
    "x1fit3 = np.linspace(0, 20, len(xx3))\n",
    "y1fit3 = model3.predict(x1fit3[:, np.newaxis])"
   ]
  },
  {
   "cell_type": "code",
   "execution_count": 194,
   "id": "fc88f32c",
   "metadata": {},
   "outputs": [
    {
     "data": {
      "text/plain": [
       "(0.2431133659740117,\n",
       " 0.5149145431615169,\n",
       " 0.2566413608634696,\n",
       " 0.6932110901877172)"
      ]
     },
     "execution_count": 194,
     "metadata": {},
     "output_type": "execute_result"
    }
   ],
   "source": [
    "# Calculate Bias \n",
    "\n",
    "ds0 = xx0 - yy0\n",
    "\n",
    "bias0 = abs(ds0.sum() / len(ds0))\n",
    "\n",
    "\n",
    "ds1 = xx1 - yy1\n",
    "\n",
    "bias1 = abs(ds1.sum() / len(ds1))\n",
    "\n",
    "\n",
    "ds2 = xx2 - yy2\n",
    "\n",
    "bias2 = abs(ds2.sum() / len(ds2))\n",
    "\n",
    "\n",
    "ds3 = xx3 - yy3\n",
    "\n",
    "bias3 = abs(ds3.sum() / len(ds3))\n",
    "\n",
    "\n",
    "bias0, bias1, bias2, bias3"
   ]
  },
  {
   "cell_type": "code",
   "execution_count": 193,
   "id": "ab84982c",
   "metadata": {},
   "outputs": [
    {
     "data": {
      "text/plain": [
       "(0.20627962865754385,\n",
       " 0.23533721150767423,\n",
       " 0.20009855039274346,\n",
       " 0.19726906700202165)"
      ]
     },
     "execution_count": 193,
     "metadata": {},
     "output_type": "execute_result"
    }
   ],
   "source": [
    "si0 = np.sqrt((((xx0-np.average(xx0))-(yy0-np.average(yy0)))**2).sum() / len(xx0)) / np.average(xx0)\n",
    "si1 = np.sqrt((((xx1-np.average(xx1))-(yy1-np.average(yy1)))**2).sum() / len(xx1)) / np.average(xx1)\n",
    "si2 = np.sqrt((((xx2-np.average(xx2))-(yy2-np.average(yy2)))**2).sum() / len(xx2)) / np.average(xx2)\n",
    "si3 = np.sqrt((((xx3-np.average(xx3))-(yy3-np.average(yy3)))**2).sum() / len(xx3)) / np.average(xx3)\n",
    "si0, si1, si2, si3"
   ]
  },
  {
   "cell_type": "code",
   "execution_count": 189,
   "id": "c79496cd",
   "metadata": {},
   "outputs": [
    {
     "data": {
      "text/plain": [
       "(1.3638563924506735, 1.6005371423598929)"
      ]
     },
     "execution_count": 189,
     "metadata": {},
     "output_type": "execute_result"
    }
   ],
   "source": [
    "rmse0 = np.sqrt(np.average((xx0 - yy0)**2))\n",
    "rmse1 = np.sqrt(np.average((xx1 - yy1)**2))\n",
    "rmse2 = np.sqrt(np.average((xx2 - yy2)**2))\n",
    "rmse3 = np.sqrt(np.average((xx3 - yy3)**2))\n",
    "rmse0, rmse3"
   ]
  },
  {
   "cell_type": "code",
   "execution_count": 195,
   "id": "32f1fd11",
   "metadata": {},
   "outputs": [
    {
     "data": {
      "text/plain": [
       "(0.9234047227274524, 0.9050821132877732, 0.891257362331201, 0.9267504192631766)"
      ]
     },
     "execution_count": 195,
     "metadata": {},
     "output_type": "execute_result"
    }
   ],
   "source": [
    "# Pearson's Correlation\n",
    "\n",
    "rho0 = stats.pearsonr(xx0, yy0)[0]\n",
    "\n",
    "\n",
    "rho1 = stats.pearsonr(xx1, yy1)[0]\n",
    "\n",
    "\n",
    "rho2 = stats.pearsonr(xx2, yy2)[0]\n",
    "\n",
    "\n",
    "rho3 = stats.pearsonr(xx3, yy3)[0]\n",
    "\n",
    "rho0, rho1, rho2, rho3"
   ]
  },
  {
   "cell_type": "code",
   "execution_count": 199,
   "id": "5cac5136",
   "metadata": {},
   "outputs": [],
   "source": [
    "# Statistics of the Regression line\n",
    "\n",
    "a0=model0.coef_\n",
    "b0=model0.intercept_\n",
    "\n",
    "\n",
    "scores_mean0 = list()\n",
    "scores_std0 = list()\n",
    "\n",
    "scores0 = cross_validate(model0, xx0[:, np.newaxis], yy0, scoring=['r2', 'neg_root_mean_squared_error'], cv=6)\n",
    "\n",
    "N0=len(df0)\n",
    "\n",
    "\n",
    "\n",
    "a1=model1.coef_\n",
    "b1=model1.intercept_\n",
    "\n",
    "#a11=model1.estimator_.coef_\n",
    "#b11=model1.estimator_.intercept_\n",
    "\n",
    "scores_mean1 = list()\n",
    "scores_std1 = list()\n",
    "\n",
    "scores1 = cross_validate(model1, xx1[:, np.newaxis], yy1, scoring=['r2', 'neg_root_mean_squared_error'], cv=6)\n",
    "\n",
    "N1=len(df1)\n",
    "\n",
    "\n",
    "\n",
    "a2=model2.coef_\n",
    "b2=model2.intercept_\n",
    "#a2=model2.estimator_.coef_\n",
    "#b2=model2.estimator_.intercept_\n",
    "\n",
    "scores_mean2 = list()\n",
    "scores_std2 = list()\n",
    "\n",
    "scores2 = cross_validate(model2, xx2[:, np.newaxis], yy2, scoring=['r2', 'neg_root_mean_squared_error'], cv=6)\n",
    "\n",
    "N2=len(df2)\n",
    "\n",
    "\n",
    "\n",
    "a3=model3.coef_\n",
    "b3=model3.intercept_\n",
    "\n",
    "#a3=model3.estimator_.coef_\n",
    "#b3=model3.estimator_.intercept_\n",
    "\n",
    "scores_mean3 = list()\n",
    "scores_std3 = list()\n",
    "\n",
    "scores3 = cross_validate(model3, xx3[:, np.newaxis], yy3, scoring=['r2', 'neg_root_mean_squared_error'], cv=6)\n",
    "\n",
    "N3=len(df3)"
   ]
  },
  {
   "cell_type": "code",
   "execution_count": 206,
   "id": "3ce15566",
   "metadata": {},
   "outputs": [
    {
     "data": {
      "image/png": "[encoded data removed]",
      "text/plain": [
       "<Figure size 720x720 with 4 Axes>"
      ]
     },
     "metadata": {
      "needs_background": "light"
     },
     "output_type": "display_data"
    }
   ],
   "source": [
    "from itertools import count\n",
    "fig, ax_lst = plt.subplots(2, 2,figsize=(10, 10.), gridspec_kw={'hspace': 0.2, 'wspace': 0.25})\n",
    "fig.tight_layout()\n",
    "\n",
    "def label_subplots(ax_lst, *, upper_case=True,\n",
    "                   offset_points=(-5, -5)):\n",
    "    start_ord = 65 if upper_case else 97\n",
    "    for ax, lab in zip(np.ravel(ax_lst), (chr(j) for j in count(start_ord))):\n",
    "        ax.annotate(lab, (1, 0.1),\n",
    "                    xytext=offset_points,\n",
    "                    xycoords='axes fraction',\n",
    "                    textcoords='offset points',\n",
    "                    ha='right', va='top', fontsize=14, fontweight='bold')\n",
    "\n",
    "\n",
    "label_subplots(ax_lst, upper_case=True)\n",
    "\n",
    "#figure 1\n",
    "\n",
    "ax_lst[1,1].plot(x1fit0, y1fit0, linewidth=3, linestyle='--', color='k', alpha=0.6, label='Regression Line')\n",
    "ax_lst[1,1].plot([0, 20], [0, 20], linestyle='-', linewidth=3, color='r', alpha=0.6, label='$Y=X$')\n",
    "\n",
    "#kde0 = ax_lst[1,1].scatter(x_0, y_0, c=z_0, s=10, edgecolor='', marker='s', cmap=cmaps.BlAqGrYeOrRe ,label='data')\n",
    "ax_lst[1,1].scatter(xx0, yy0, s=10, label='data',color='darkgreen')\n",
    "\n",
    "ax_lst[1,1].set_xlabel('Buoys Wind Speed (m/s)', fontsize=12)\n",
    "ax_lst[1,1].set_ylabel('SARAL-AltiKa Wind Speed (m/s)', fontsize=12)\n",
    "#plt.ylabel('Power Law $u_{10n}$ (m/s)', fontsize=14)\n",
    "#plt.ylabel('Wind Speed $u$ (m/s) - No adjustment', fontsize=14)\n",
    "\n",
    "ax_lst[1,1].set_xlim(0,20)\n",
    "ax_lst[1,1].set_ylim(0,20)\n",
    "ax_lst[1,1].set_xticks(np.arange(0,22,5))\n",
    "ax_lst[1,1].set_yticks(np.arange(0,22,5))\n",
    "ax_lst[1,1].grid(linestyle='--',linewidth=1)\n",
    "\n",
    "props0 = dict(boxstyle='square', facecolor='white', alpha=1)\n",
    "\n",
    "textstr0 = '\\n'.join((r'$N=%i$' % (N0,), r'$\\rho=%.3f$' % (rho0,), r'$RMSE=%.3f$' % (rmse0,), r'$BIAS=%.3f$' % (bias0,),\n",
    "                     r'$SI=%.3f$' % (si0,), r'$Y=%.3fX + %.3f$' % (a0,b0,)))\n",
    "\n",
    "ax_lst[1,1].text(0.7,14,textstr0,fontsize=10,bbox=props0)\n",
    "\n",
    "#cbar = plt.colorbar(kde0, pad=0.02, aspect=40)\n",
    "\n",
    "#cbar.ax.set_ylabel('')\n",
    "\n",
    "#ax_lst[1,1].legend(loc='best')\n",
    "\n",
    "#figure 2\n",
    "\n",
    "ax_lst[0,1].plot(x1fit3, y1fit3, linewidth=3, linestyle='--', color='k', alpha=0.6, label='Regression Line')\n",
    "ax_lst[0,1].plot([0, 20], [0, 20], linestyle='-', linewidth=3, color='r', alpha=0.6, label='$Y=X$')\n",
    "\n",
    "#ax_lst[0,1].scatter(x_3, y_3, c=z_3, s=10, edgecolor='', marker='s', cmap=cmaps.BlAqGrYeOrRe ,label='data')\n",
    "ax_lst[0,1].scatter(xx3, yy3, s=10, label='data',color='darkgreen')\n",
    "\n",
    "ax_lst[0,1].set_xlabel('Buoys Wind Speed (m/s)', fontsize=12)\n",
    "ax_lst[0,1].set_ylabel('Jason 3 Wind Speed (m/s)', fontsize=12)\n",
    "#plt.ylabel('Power Law $u_{10n}$ (m/s)', fontsize=14)\n",
    "#plt.ylabel('Wind Speed $u$ (m/s) - No adjustment', fontsize=14)\n",
    "\n",
    "ax_lst[0,1].set_xlim(0,20)\n",
    "ax_lst[0,1].set_ylim(0,20)\n",
    "ax_lst[0,1].set_xticks(np.arange(0,22,5))\n",
    "ax_lst[0,1].set_yticks(np.arange(0,22,5))\n",
    "ax_lst[0,1].grid(linestyle='--',linewidth=1)\n",
    "\n",
    "props3 = dict(boxstyle='square', facecolor='white', alpha=1)\n",
    "\n",
    "textstr3 = '\\n'.join((r'$N=%i$' % (N3,), r'$\\rho=%.3f$' % (rho3,), r'$RMSE=%.3f$' % (rmse3,), r'$BIAS=%.3f$' % (bias3,),\n",
    "                     r'$SI=%.3f$' % (si3,), r'$Y=%.3fX %.3f$' % (a3,b3,)))\n",
    "\n",
    "ax_lst[0,1].text(0.7,14,textstr3,fontsize=10,bbox=props3)\n",
    "\n",
    "#ax_lst[1,1].legend(loc='best')\n",
    "\n",
    "\n",
    "#figure 3\n",
    "\n",
    "ax_lst[1,0].plot(x1fit1, y1fit1, linewidth=3, linestyle='--', color='k', alpha=0.6, label='Regression Line')\n",
    "#ax_lst[1,0].plot(x1fit1, y1fit11, linewidth=3, linestyle='--', color='k', alpha=0.6, label='Regression Line')\n",
    "ax_lst[1,0].plot([0, 20], [0, 20], linestyle='-', linewidth=3, color='r', alpha=0.6, label='$Y=X$')\n",
    "\n",
    "#ax_lst[1,0].scatter(x_1, y_1, c=z_1, s=10, edgecolor='', marker='s', cmap=cmaps.BlAqGrYeOrRe ,label='data')\n",
    "ax_lst[1,0].scatter(xx1, yy1, s=10, label='data',color='darkgreen')\n",
    "\n",
    "ax_lst[1,0].set_xlabel('Buoys Wind Speed (m/s)', fontsize=12)\n",
    "#plt.ylabel('$C_{d} = 1.4 \\cdot 10^{-3}$ Parametrization $u_{10n}$ (m/s)', fontsize=12)\n",
    "ax_lst[1,0].set_ylabel('Cryosat 2 Wind Speed (m/s)', fontsize=12)\n",
    "#plt.ylabel('Wind Speed $u$ (m/s) - No adjustment', fontsize=14)\n",
    "\n",
    "ax_lst[1,0].set_xlim(0,20)\n",
    "ax_lst[1,0].set_ylim(0,20)\n",
    "ax_lst[1,0].set_xticks(np.arange(0,22,5))\n",
    "ax_lst[1,0].set_yticks(np.arange(0,22,5))\n",
    "ax_lst[1,0].grid(linestyle='--',linewidth=1)\n",
    "\n",
    "props1 = dict(boxstyle='square', facecolor='white', alpha=1)\n",
    "\n",
    "textstr1 = '\\n'.join((r'$N=%i$' % (N1,), r'$\\rho=%.3f$' % (rho1,), r'$RMSE=%.3f$' % (rmse1,), r'$BIAS=%.3f$' % (bias1,),\n",
    "                     r'$SI=%.3f$' % (si1,), r'$Y=%.3fX %.3f$' % (a1,b1,)))\n",
    "\n",
    "ax_lst[1,0].text(0.7,14,textstr1,fontsize=10,bbox=props1)\n",
    "\n",
    "#ax_lst[1,1].legend(loc='best')\n",
    "\n",
    "\n",
    "#figure 4\n",
    "\n",
    "ax_lst[0,0].plot(x1fit2, y1fit2, linewidth=3, linestyle='--', color='k', alpha=0.6, label='Regression Line')\n",
    "ax_lst[0,0].plot([0, 20], [0, 20], linestyle='-', linewidth=3, color='r', alpha=0.6, label='$Y=X$')\n",
    "\n",
    "#ax_lst[0,0].scatter(x_2, y_2, c=z_2, s=10, edgecolor='', marker='s', cmap=cmaps.BlAqGrYeOrRe ,label='data')\n",
    "ax_lst[0,0].scatter(xx2, yy2, s=10, label='data',color='darkgreen')\n",
    "\n",
    "ax_lst[0,0].set_xlabel('Buoys Wind Speed (m/s)', fontsize=12)\n",
    "#ax_lst[0,0].set_ylabel('$C_{d} = 1.2 \\cdot 10^{-3}$ Parametrization $u_{10n}$ (m/s)', fontsize=12)\n",
    "#ax_lst[0,0].ylabel('Power Law $u_{10n}$ (m/s)', fontsize=14)\n",
    "ax_lst[0,0].set_ylabel('Sentinel 3 Wind Speed (m/s)', fontsize=12)\n",
    "\n",
    "ax_lst[0,0].set_xlim(0,20)\n",
    "ax_lst[0,0].set_ylim(0,20)\n",
    "ax_lst[0,0].set_xticks(np.arange(0,22,5))\n",
    "ax_lst[0,0].set_yticks(np.arange(0,22,5))\n",
    "ax_lst[0,0].grid(linestyle='--',linewidth=1)\n",
    "\n",
    "props2 = dict(boxstyle='square', facecolor='white', alpha=1)\n",
    "\n",
    "textstr2 = '\\n'.join((r'$N=%i$' % (N2,), r'$\\rho=%.3f$' % (rho2,), r'$RMSE=%.3f$' % (rmse2,), r'$BIAS=%.3f$' % (bias2,),\n",
    "                     r'$SI=%.3f$' % (si2,), r'$Y=%.3fX - %.3f$' % (a2,b2,)))\n",
    "\n",
    "ax_lst[0,0].text(0.7,14,textstr2,fontsize=10,bbox=props2)\n",
    "\n",
    "#ax_lst[1,1].legend(loc='best')\n",
    "\n",
    "\n",
    "\n",
    "plt.savefig('validation_altimeters_wind_f.png', dpi=300, bbox_inches='tight')"
   ]
  },
  {
   "cell_type": "code",
   "execution_count": null,
   "id": "88d03d43",
   "metadata": {},
   "outputs": [],
   "source": []
  }
 ],
 "metadata": {
  "kernelspec": {
   "display_name": "Python 3",
   "language": "python",
   "name": "python3"
  },
  "language_info": {
   "codemirror_mode": {
    "name": "ipython",
    "version": 3
   },
   "file_extension": ".py",
   "mimetype": "text/x-python",
   "name": "python",
   "nbconvert_exporter": "python",
   "pygments_lexer": "ipython3",
   "version": "3.9.4"
  }
 },
 "nbformat": 4,
 "nbformat_minor": 5
}
